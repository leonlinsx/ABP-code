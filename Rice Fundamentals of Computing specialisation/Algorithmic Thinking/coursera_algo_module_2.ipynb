{
 "cells": [
  {
   "cell_type": "code",
   "execution_count": 31,
   "metadata": {},
   "outputs": [],
   "source": [
    "import urllib\n",
    "import plotly.graph_objects as go\n",
    "import numpy as np\n",
    "import random"
   ]
  },
  {
   "cell_type": "code",
   "execution_count": 20,
   "metadata": {},
   "outputs": [],
   "source": [
    "EX_GRAPH0 = {0: set([1, 2]),\n",
    "            1: set([]),\n",
    "            2: set([])}\n",
    "EX_GRAPH1 = {0: set([1, 4, 5]),\n",
    "            1: set([2, 6]),\n",
    "            2: set([3]),\n",
    "            3: set([0]),\n",
    "            4: set([1]),\n",
    "            5: set([2]),\n",
    "            6: set([])}\n",
    "EX_GRAPH2 = {0: set([1, 4, 5]),\n",
    "            1: set([2, 6]),\n",
    "            2: set([3, 7]),\n",
    "            3: set([7]),\n",
    "            4: set([1]),\n",
    "            5: set([2]),\n",
    "            6: set([]),\n",
    "            7: set([3]),\n",
    "            8: set([1, 2]),\n",
    "            9: set([0, 3, 4, 5, 6, 7])}\n",
    "CITATION_URL = \"http://storage.googleapis.com/codeskulptor-alg/alg_phys-cite.txt\""
   ]
  },
  {
   "cell_type": "code",
   "execution_count": 32,
   "metadata": {},
   "outputs": [],
   "source": [
    "def make_complete_graph(num_nodes):\n",
    "    complete_graph = {}\n",
    "    if num_nodes <= 0:\n",
    "        return complete_graph\n",
    "    else:\n",
    "        for node in range(num_nodes):\n",
    "            node_list = set(range(num_nodes))\n",
    "            node_list.remove(node)\n",
    "            complete_graph[node] = node_list\n",
    "        return complete_graph\n",
    "    \n",
    "def compute_in_degrees(digraph):\n",
    "    in_degrees = {k: 0 for k in digraph.keys()}\n",
    "    for node in digraph.keys():\n",
    "        for head in digraph[node]:\n",
    "            in_degrees[head] += 1\n",
    "    return in_degrees\n",
    "\n",
    "def in_degree_distribution(digraph):\n",
    "    in_degrees_dict = compute_in_degrees(digraph)\n",
    "    in_degrees_dist = {}\n",
    "    in_degrees_list = list(in_degrees_dict.values())\n",
    "    for in_degree in in_degrees_list:\n",
    "        in_degrees_dist[in_degree] = in_degrees_list.count(in_degree)\n",
    "    return in_degrees_dist\n",
    "\n",
    "def load_graph(graph_url):\n",
    "    \"\"\"\n",
    "    Function that loads a graph given the URL\n",
    "    for a text representation of the graph\n",
    "    \n",
    "    Returns a dictionary that models a graph\n",
    "    \"\"\"\n",
    "    graph_file = urllib.request.urlopen(graph_url)\n",
    "    graph_text = graph_file.read().decode('utf-8')  # Decode bytes to string\n",
    "    graph_lines = graph_text.split('\\n')\n",
    "    graph_lines = graph_lines[:-1]  # If needed, remove the last empty line\n",
    "\n",
    "    print(f\"Loaded graph with {len(graph_lines)} nodes\")\n",
    "\n",
    "    \n",
    "    answer_graph = {}\n",
    "    for line in graph_lines:\n",
    "        neighbors = line.split(' ')\n",
    "        node = int(neighbors[0])\n",
    "        answer_graph[node] = set([])\n",
    "        for neighbor in neighbors[1 : -1]:\n",
    "            answer_graph[node].add(int(neighbor))\n",
    "\n",
    "    return answer_graph\n",
    "\n",
    "def normalise_in_degree_dist(dist):\n",
    "    num_nodes = sum(dist.values())\n",
    "    norm_in_degree_dist = {k: float(v) / num_nodes for k, v in dist.items()}\n",
    "    \n",
    "    return norm_in_degree_dist\n",
    "\n",
    "def plot_log_log_graph(data):\n",
    "\n",
    "    # Extract keys and values\n",
    "    keys = list(data.keys())\n",
    "    values = list(data.values())\n",
    "\n",
    "    # Remove zero keys and corresponding values to avoid log(0) issues\n",
    "    filtered_keys = [key for key in keys if key > 0]\n",
    "    filtered_values = [data[key] for key in filtered_keys]\n",
    "\n",
    "    # Apply log to keys and values\n",
    "    log_keys = np.log(filtered_keys)\n",
    "    log_values = np.log(filtered_values)\n",
    "\n",
    "    # Create a scatter plot with Plotly\n",
    "    fig = go.Figure()\n",
    "\n",
    "    fig.add_trace(go.Scatter(\n",
    "        x=log_keys,\n",
    "        y=log_values,\n",
    "        mode='markers',\n",
    "        marker=dict(size=10, color='blue'),\n",
    "        name='Log-Log Plot'\n",
    "    ))\n",
    "\n",
    "    # Update layout\n",
    "    fig.update_layout(\n",
    "        title='Log-Log Plot of number of citations vs. norm_distro',\n",
    "        xaxis_title='Log of number of citations',\n",
    "        yaxis_title='Log of norm_distro',\n",
    "        xaxis=dict(type='linear'),\n",
    "        yaxis=dict(type='linear'),\n",
    "        showlegend=True\n",
    "    )\n",
    "\n",
    "    # Show the plot\n",
    "    fig.show()\n",
    "\n",
    "def dpa_algo(connect_to_m_nodes, final_n_nodes):\n",
    "    \"\"\"\n",
    "    Generate a directed graph using the DPA (Directed Preferential Attachment) algorithm.\n",
    "    \n",
    "    This algorithm starts with a complete graph of `connect_to_m_nodes` nodes.\n",
    "    It then adds new nodes to the graph, one at a time, each connecting to \n",
    "    `connect_to_m_nodes` existing nodes selected with probability proportional \n",
    "    to their current in-degrees.\n",
    "\n",
    "    Parameters:\n",
    "    connect_to_m_nodes (int): The number of nodes to connect to initially.\n",
    "                              This is also the number of neighbors each new node will connect to.\n",
    "    final_n_nodes (int): The total number of nodes in the final graph.\n",
    "\n",
    "    Returns:\n",
    "    dict: A dictionary representing the adjacency list of the directed graph.\n",
    "          Keys are node indices, and values are sets of nodes that the key node has directed edges to.\n",
    "    \n",
    "    \"\"\"\n",
    "    m_node_complete_graph = make_complete_graph(connect_to_m_nodes)\n",
    "    \n",
    "    dpatrial = DPATrial(connect_to_m_nodes)\n",
    "\n",
    "    for i in range(connect_to_m_nodes, final_n_nodes):\n",
    "        # tot_in_deg = sum(compute_in_degrees(m_node_complete_graph).values())\n",
    "                \n",
    "        nodes_to_add = dpatrial.run_trial(connect_to_m_nodes)    \n",
    "        \n",
    "        m_node_complete_graph[i] = nodes_to_add\n",
    "\n",
    "    return m_node_complete_graph\n",
    "\n",
    "class DPATrial:\n",
    "    \"\"\"\n",
    "    Simple class to encapsulate optimized trials for DPA algorithm\n",
    "    \n",
    "    Maintains a list of node numbers with multiple instances of each number.\n",
    "    The number of instances of each node number are\n",
    "    in the same proportion as the desired probabilities\n",
    "    \n",
    "    Uses random.choice() to select a node number from this list for each trial.\n",
    "    \"\"\"\n",
    "\n",
    "    def __init__(self, num_nodes):\n",
    "        \"\"\"\n",
    "        Initialize a DPATrial object corresponding to a \n",
    "        complete graph with num_nodes nodes\n",
    "        \n",
    "        Note the initial list of node numbers has num_nodes copies of\n",
    "        each node number\n",
    "        \"\"\"\n",
    "        self._num_nodes = num_nodes\n",
    "        self._node_numbers = [node for node in range(num_nodes) for dummy_idx in range(num_nodes)]\n",
    "\n",
    "\n",
    "    def run_trial(self, num_nodes):\n",
    "        \"\"\"\n",
    "        Conduct num_node trials using by applying random.choice()\n",
    "        to the list of node numbers\n",
    "        \n",
    "        Updates the list of node numbers so that the number of instances of\n",
    "        each node number is in the same ratio as the desired probabilities\n",
    "        \n",
    "        Returns:\n",
    "        Set of nodes\n",
    "        \"\"\"\n",
    "        \n",
    "        # compute the neighbors for the newly-created node\n",
    "        new_node_neighbors = set()\n",
    "        for dummy_idx in range(num_nodes):\n",
    "            new_node_neighbors.add(random.choice(self._node_numbers))\n",
    "        \n",
    "        # update the list of node numbers so that each node number \n",
    "        # appears in the correct ratio\n",
    "        self._node_numbers.append(self._num_nodes)\n",
    "        self._node_numbers.extend(list(new_node_neighbors))\n",
    "        \n",
    "        #update the number of nodes\n",
    "        self._num_nodes += 1\n",
    "        return new_node_neighbors"
   ]
  },
  {
   "cell_type": "code",
   "execution_count": 22,
   "metadata": {},
   "outputs": [
    {
     "name": "stdout",
     "output_type": "stream",
     "text": [
      "Loaded graph with 27770 nodes\n"
     ]
    }
   ],
   "source": [
    "citation_graph = load_graph(CITATION_URL)"
   ]
  },
  {
   "cell_type": "code",
   "execution_count": 26,
   "metadata": {},
   "outputs": [
    {
     "data": {
      "text/plain": [
       "27770"
      ]
     },
     "execution_count": 26,
     "metadata": {},
     "output_type": "execute_result"
    }
   ],
   "source": [
    "len(citation_graph.keys())"
   ]
  },
  {
   "cell_type": "code",
   "execution_count": 27,
   "metadata": {},
   "outputs": [
    {
     "name": "stdout",
     "output_type": "stream",
     "text": [
      "Loaded graph has 352768 edges\n",
      "Loaded graph has avg 12.703204897371265 avg out degree\n",
      "Use 27770 as n and 12.703204897371265 as m\n"
     ]
    }
   ],
   "source": [
    "count_edges = sum(len(v) for v in citation_graph.values())\n",
    "print(f\"Loaded graph has {count_edges} edges\")\n",
    "\n",
    "avg_out_deg = count_edges / len(citation_graph.keys())\n",
    "print(f\"Loaded graph has avg {avg_out_deg} avg out degree\")\n",
    "\n",
    "print(f\"Use {len(citation_graph.keys())} as n and {avg_out_deg} as m\")"
   ]
  },
  {
   "cell_type": "code",
   "execution_count": 28,
   "metadata": {},
   "outputs": [
    {
     "data": {
      "application/vnd.plotly.v1+json": {
       "config": {
        "plotlyServerURL": "https://plot.ly"
       },
       "data": [
        {
         "marker": {
          "color": "blue",
          "size": 10
         },
         "mode": "markers",
         "name": "Log-Log Plot",
         "type": "scatter",
         "x": [
          0.6931471805599453,
          3.044522437723423,
          1.6094379124341003,
          2.1972245773362196,
          2.0794415416798357,
          2.70805020110221,
          1.791759469228055,
          3.332204510175204,
          1.3862943611198906,
          1.0986122886681098,
          0,
          2.9444389791664403,
          2.3978952727983707,
          4.59511985013459,
          2.5649493574615367,
          2.6390573296152584,
          3.7376696182833684,
          4.219507705176107,
          2.833213344056216,
          3.258096538021482,
          1.9459101490553132,
          3.091042453358316,
          3.6888794541139363,
          5.147494476813453,
          2.4849066497880004,
          3.4965075614664802,
          2.302585092994046,
          3.4339872044851463,
          4.110873864173311,
          3.7612001156935624,
          3.6109179126442243,
          2.772588722239781,
          3.295836866004329,
          3.58351893845611,
          4.709530201312334,
          3.970291913552122,
          3.4657359027997265,
          4.6913478822291435,
          3.1354942159291497,
          3.2188758248682006,
          4.1588830833596715,
          4.564348191467836,
          4.51085950651685,
          3.4011973816621555,
          2.995732273553991,
          4.997212273764115,
          3.1780538303479458,
          2.8903717578961645,
          4.174387269895637,
          4.955827057601261,
          4.04305126783455,
          4.574710978503383,
          5.003946305945459,
          3.8918202981106265,
          3.8066624897703196,
          5.278114659230517,
          4.736198448394496,
          3.871201010907891,
          3.713572066704308,
          3.367295829986474,
          3.6375861597263857,
          4.343805421853684,
          4.30406509320417,
          4.969813299576001,
          4.127134385045092,
          5.393627546352362,
          4.248495242049359,
          5.087596335232384,
          4.983606621708336,
          3.912023005428146,
          3.5263605246161616,
          4.6443908991413725,
          4.74493212836325,
          3.9512437185814275,
          4.5217885770490405,
          4.23410650459726,
          4.68213122712422,
          5.204006687076795,
          5.225746673713202,
          4.672828834461906,
          4.624972813284271,
          4.189654742026425,
          4.143134726391533,
          4.897839799950911,
          4.330733340286331,
          4.890349128221754,
          4.31748811353631,
          3.5553480614894135,
          5.049856007249537,
          4.499809670330265,
          3.9889840465642745,
          3.784189633918261,
          4.0943445622221,
          3.6635616461296463,
          4.3694478524670215,
          3.828641396489095,
          4.584967478670572,
          5.407171771460119,
          4.07753744390572,
          4.465908118654584,
          4.941642422609304,
          4.007333185232471,
          5.267858159063328,
          3.8501476017100584,
          5.062595033026967,
          4.653960350157523,
          4.727387818712341,
          4.663439094112067,
          5.187385805840755,
          5.488937726156687,
          4.394449154672439,
          3.9318256327243257,
          4.2626798770413155,
          5.849324779946859,
          4.605170185988092,
          4.204692619390966,
          4.060443010546419,
          6.049733455231958,
          4.290459441148391,
          4.442651256490317,
          4.382026634673881,
          5.707110264748875,
          4.454347296253507,
          4.912654885736052,
          4.770684624465665,
          4.430816798843313,
          4.543294782270004,
          5.043425116919247,
          5.0689042022202315,
          5.056245805348308,
          4.61512051684126,
          4.553876891600541,
          4.8283137373023015,
          4.02535169073515,
          4.700480365792417,
          4.276666119016055,
          4.48863636973214,
          4.406719247264253,
          5.323009979138408,
          4.356708826689592,
          4.532599493153256,
          5.2832037287379885,
          4.718498871295094,
          4.990432586778736,
          4.820281565605037,
          5.117993812416755,
          5.438079308923196,
          5.159055299214529,
          5.1298987149230735,
          5.402677381872279,
          4.859812404361672,
          5.575949103146316,
          4.934473933130692,
          4.418840607796598,
          4.477336814478207,
          4.795790545596741,
          6.669498089857879,
          6.1224928095143865,
          7.789040401657477,
          4.7535901911063645,
          4.77912349311153,
          4.9487598903781675,
          5.940171252720432,
          5.25227342804663,
          4.962844630259907,
          5.389071729816501,
          4.836281906951478,
          5.921578419643815,
          6.478509642208569,
          5.796057750765372,
          5.247024072160486,
          5.19295685089021,
          6.253828811575473,
          5.8289456176102075,
          5.303304908059076,
          6.006353159601733,
          5.220355825078325,
          4.919980925828125,
          5.783825182329737,
          5.529429087511423,
          4.804021044733257,
          5.231108616854587,
          4.882801922586371,
          5.2094861528414205,
          5.0238805208462765,
          4.875197323201151,
          4.787491742782046,
          6.202535517187922,
          5.6131281063880705,
          6.1463292576688975,
          5.337538079701318,
          5.37989735354046,
          5.4116460518550396,
          5.017279836814924,
          4.844187086458591,
          5.030437921392435,
          5.293304824724492,
          5.429345628954441,
          5.0369526024136295,
          5.099866427824199,
          5.948034989180646,
          4.812184355372417,
          4.976733742420574,
          7.089243155027514,
          5.579729825986222,
          6.55250788703459,
          5.365976015021851,
          5.214935757608986,
          6.082218910376446,
          4.867534450455582,
          5.181783550292085,
          5.7899601708972535,
          5.176149732573829,
          5.198497031265826,
          6.652863029353347,
          5.1647859739235145,
          5.60947179518496,
          5.953243334287785,
          7.015712420487229,
          4.927253685157205,
          5.820082930352362,
          5.2574953720277815,
          5.318119993844216,
          5.170483995038151,
          4.634728988229636,
          5.241747015059643,
          5.075173815233827,
          5.0106352940962555,
          5.717027701406222,
          5.356586274672012,
          5.793013608384144,
          5.262690188904886,
          5.5254529391317835,
          5.44673737166631,
          5.41610040220442,
          5.961005339623274,
          5.641907070938113,
          5.361292165709425,
          6.693323668269948,
          5.123963979403259,
          5.808142489980443,
          6.939253946041508,
          4.90527477843843,
          5.105945473900581,
          7.042286171939743,
          5.802118375377063,
          5.14166355650266,
          5.351858133476067,
          5.288267030694535,
          5.831882477283517,
          6.042632833682381,
          5.480638923341991,
          5.549076084895219,
          7.1693500166706,
          5.66988092298052,
          6.913737350659685,
          5.509388336627977,
          5.730099782973574,
          7.403061091090091,
          7.481555701909516,
          6.056784013228625,
          5.752572638825633,
          5.43372200355424,
          6.163314804034641,
          6.617402977974477,
          5.497168225293202,
          5.749392985908253,
          5.5909869805108565,
          6.018593214496234,
          5.459585514144159,
          5.153291594497778,
          5.68697535633982,
          5.693732138802699,
          5.4510384535657,
          5.236441962829949,
          4.762173934797756,
          6.05443934626937,
          7.051855622955895,
          5.840641657373398
         ],
         "y": [
          -2.3310749672828406,
          -5.01135575522252,
          -3.041035545968638,
          -3.6950199827095402,
          -3.5175410503913733,
          -4.457160034756438,
          -3.194683965614569,
          -5.30445789514364,
          -2.8304803158878302,
          -2.6338136297790617,
          -1.9923821523990506,
          -4.710250662438599,
          -3.964511031759483,
          -8.034487002964626,
          -4.129152985687276,
          -4.217996424258044,
          -6.261419666748724,
          -7.0536577499529,
          -4.618583473912775,
          -5.379681316381228,
          -3.4282063226925072,
          -5.01135575522252,
          -6.280467861719418,
          -8.43995211107279,
          -4.051694926648272,
          -5.754374765822639,
          -3.8498955628947473,
          -5.754374765822639,
          -7.012835755432645,
          -5.997605075703586,
          -5.824992333036592,
          -4.551538971283778,
          -5.395429673349367,
          -6.04205683827442,
          -8.622273667866745,
          -6.797724375815699,
          -5.6265413943127545,
          -8.15227003862101,
          -5.144115245068462,
          -5.319056694564793,
          -6.973615042279364,
          -7.9291264873067995,
          -8.285801431245533,
          -5.403397842998544,
          -4.829034198428565,
          -8.43995211107279,
          -5.156537765067019,
          -4.6040904666102085,
          -7.096217364371696,
          -8.43995211107279,
          -6.864415750314372,
          -7.9291264873067995,
          -8.845417219180955,
          -6.360510569392955,
          -6.206359889565696,
          -9.133099291632735,
          -8.15227003862101,
          -6.864415750314372,
          -5.95504546128479,
          -5.435921034704104,
          -5.914223466764535,
          -7.523661379198636,
          -7.666762222839308,
          -8.622273667866745,
          -6.899507070125641,
          -9.5385643997409,
          -7.140669126942529,
          -9.5385643997409,
          -9.133099291632735,
          -6.705351055684684,
          -6.012203875124738,
          -8.43995211107279,
          -8.622273667866745,
          -6.765975677501118,
          -7.9291264873067995,
          -7.287272601134404,
          -8.43995211107279,
          -10.231711580300846,
          -9.133099291632735,
          -8.15227003862101,
          -8.034487002964626,
          -7.187189142577422,
          -7.096217364371696,
          -9.133099291632735,
          -7.341339822404681,
          -8.43995211107279,
          -7.287272601134404,
          -5.777364284047338,
          -9.5385643997409,
          -8.43995211107279,
          -6.735204018834366,
          -6.3196885748727,
          -7.012835755432645,
          -6.04205683827442,
          -7.0536577499529,
          -6.280467861719418,
          -8.845417219180955,
          -8.845417219180955,
          -6.864415750314372,
          -7.666762222839308,
          -10.231711580300846,
          -6.864415750314372,
          -9.5385643997409,
          -6.447521946382585,
          -9.133099291632735,
          -8.15227003862101,
          -8.034487002964626,
          -7.9291264873067995,
          -9.5385643997409,
          -9.5385643997409,
          -7.746804930512845,
          -6.735204018834366,
          -7.187189142577422,
          -10.231711580300846,
          -8.285801431245533,
          -7.096217364371696,
          -6.935874714296516,
          -10.231711580300846,
          -7.398498236244629,
          -7.5926542506855865,
          -8.034487002964626,
          -9.133099291632735,
          -8.285801431245533,
          -8.43995211107279,
          -8.15227003862101,
          -7.833816307502475,
          -7.398498236244629,
          -8.845417219180955,
          -8.622273667866745,
          -8.845417219180955,
          -8.034487002964626,
          -7.9291264873067995,
          -8.622273667866745,
          -6.676363518811432,
          -8.622273667866745,
          -7.9291264873067995,
          -7.5926542506855865,
          -7.523661379198636,
          -8.845417219180955,
          -8.15227003862101,
          -8.622273667866745,
          -9.5385643997409,
          -9.133099291632735,
          -10.231711580300846,
          -8.43995211107279,
          -9.5385643997409,
          -9.5385643997409,
          -9.5385643997409,
          -9.5385643997409,
          -9.5385643997409,
          -8.622273667866745,
          -10.231711580300846,
          -8.845417219180955,
          -8.15227003862101,
          -7.9291264873067995,
          -8.622273667866745,
          -9.5385643997409,
          -10.231711580300846,
          -10.231711580300846,
          -8.43995211107279,
          -8.622273667866745,
          -8.845417219180955,
          -9.5385643997409,
          -9.5385643997409,
          -9.133099291632735,
          -10.231711580300846,
          -8.622273667866745,
          -10.231711580300846,
          -10.231711580300846,
          -9.5385643997409,
          -9.133099291632735,
          -10.231711580300846,
          -10.231711580300846,
          -10.231711580300846,
          -9.133099291632735,
          -10.231711580300846,
          -10.231711580300846,
          -9.133099291632735,
          -9.5385643997409,
          -10.231711580300846,
          -9.133099291632735,
          -10.231711580300846,
          -10.231711580300846,
          -10.231711580300846,
          -9.5385643997409,
          -8.845417219180955,
          -9.5385643997409,
          -10.231711580300846,
          -10.231711580300846,
          -10.231711580300846,
          -9.5385643997409,
          -10.231711580300846,
          -10.231711580300846,
          -8.622273667866745,
          -9.5385643997409,
          -9.133099291632735,
          -10.231711580300846,
          -9.5385643997409,
          -8.845417219180955,
          -9.133099291632735,
          -10.231711580300846,
          -8.845417219180955,
          -9.133099291632735,
          -10.231711580300846,
          -10.231711580300846,
          -10.231711580300846,
          -10.231711580300846,
          -10.231711580300846,
          -10.231711580300846,
          -10.231711580300846,
          -9.5385643997409,
          -9.5385643997409,
          -9.5385643997409,
          -10.231711580300846,
          -10.231711580300846,
          -10.231711580300846,
          -10.231711580300846,
          -10.231711580300846,
          -10.231711580300846,
          -9.133099291632735,
          -10.231711580300846,
          -9.5385643997409,
          -9.133099291632735,
          -9.5385643997409,
          -8.845417219180955,
          -10.231711580300846,
          -10.231711580300846,
          -8.845417219180955,
          -10.231711580300846,
          -10.231711580300846,
          -9.5385643997409,
          -9.5385643997409,
          -10.231711580300846,
          -9.133099291632735,
          -10.231711580300846,
          -10.231711580300846,
          -9.5385643997409,
          -10.231711580300846,
          -10.231711580300846,
          -10.231711580300846,
          -10.231711580300846,
          -10.231711580300846,
          -10.231711580300846,
          -10.231711580300846,
          -10.231711580300846,
          -10.231711580300846,
          -9.5385643997409,
          -10.231711580300846,
          -10.231711580300846,
          -10.231711580300846,
          -10.231711580300846,
          -10.231711580300846,
          -9.5385643997409,
          -10.231711580300846,
          -10.231711580300846,
          -10.231711580300846,
          -9.5385643997409,
          -10.231711580300846,
          -10.231711580300846,
          -10.231711580300846,
          -10.231711580300846,
          -10.231711580300846,
          -9.133099291632735,
          -10.231711580300846,
          -10.231711580300846,
          -10.231711580300846,
          -10.231711580300846,
          -10.231711580300846,
          -10.231711580300846,
          -10.231711580300846,
          -9.5385643997409,
          -10.231711580300846,
          -10.231711580300846,
          -9.5385643997409,
          -9.5385643997409,
          -9.133099291632735,
          -10.231711580300846,
          -10.231711580300846,
          -10.231711580300846
         ]
        }
       ],
       "layout": {
        "showlegend": true,
        "template": {
         "data": {
          "bar": [
           {
            "error_x": {
             "color": "#2a3f5f"
            },
            "error_y": {
             "color": "#2a3f5f"
            },
            "marker": {
             "line": {
              "color": "#E5ECF6",
              "width": 0.5
             },
             "pattern": {
              "fillmode": "overlay",
              "size": 10,
              "solidity": 0.2
             }
            },
            "type": "bar"
           }
          ],
          "barpolar": [
           {
            "marker": {
             "line": {
              "color": "#E5ECF6",
              "width": 0.5
             },
             "pattern": {
              "fillmode": "overlay",
              "size": 10,
              "solidity": 0.2
             }
            },
            "type": "barpolar"
           }
          ],
          "carpet": [
           {
            "aaxis": {
             "endlinecolor": "#2a3f5f",
             "gridcolor": "white",
             "linecolor": "white",
             "minorgridcolor": "white",
             "startlinecolor": "#2a3f5f"
            },
            "baxis": {
             "endlinecolor": "#2a3f5f",
             "gridcolor": "white",
             "linecolor": "white",
             "minorgridcolor": "white",
             "startlinecolor": "#2a3f5f"
            },
            "type": "carpet"
           }
          ],
          "choropleth": [
           {
            "colorbar": {
             "outlinewidth": 0,
             "ticks": ""
            },
            "type": "choropleth"
           }
          ],
          "contour": [
           {
            "colorbar": {
             "outlinewidth": 0,
             "ticks": ""
            },
            "colorscale": [
             [
              0,
              "#0d0887"
             ],
             [
              0.1111111111111111,
              "#46039f"
             ],
             [
              0.2222222222222222,
              "#7201a8"
             ],
             [
              0.3333333333333333,
              "#9c179e"
             ],
             [
              0.4444444444444444,
              "#bd3786"
             ],
             [
              0.5555555555555556,
              "#d8576b"
             ],
             [
              0.6666666666666666,
              "#ed7953"
             ],
             [
              0.7777777777777778,
              "#fb9f3a"
             ],
             [
              0.8888888888888888,
              "#fdca26"
             ],
             [
              1,
              "#f0f921"
             ]
            ],
            "type": "contour"
           }
          ],
          "contourcarpet": [
           {
            "colorbar": {
             "outlinewidth": 0,
             "ticks": ""
            },
            "type": "contourcarpet"
           }
          ],
          "heatmap": [
           {
            "colorbar": {
             "outlinewidth": 0,
             "ticks": ""
            },
            "colorscale": [
             [
              0,
              "#0d0887"
             ],
             [
              0.1111111111111111,
              "#46039f"
             ],
             [
              0.2222222222222222,
              "#7201a8"
             ],
             [
              0.3333333333333333,
              "#9c179e"
             ],
             [
              0.4444444444444444,
              "#bd3786"
             ],
             [
              0.5555555555555556,
              "#d8576b"
             ],
             [
              0.6666666666666666,
              "#ed7953"
             ],
             [
              0.7777777777777778,
              "#fb9f3a"
             ],
             [
              0.8888888888888888,
              "#fdca26"
             ],
             [
              1,
              "#f0f921"
             ]
            ],
            "type": "heatmap"
           }
          ],
          "heatmapgl": [
           {
            "colorbar": {
             "outlinewidth": 0,
             "ticks": ""
            },
            "colorscale": [
             [
              0,
              "#0d0887"
             ],
             [
              0.1111111111111111,
              "#46039f"
             ],
             [
              0.2222222222222222,
              "#7201a8"
             ],
             [
              0.3333333333333333,
              "#9c179e"
             ],
             [
              0.4444444444444444,
              "#bd3786"
             ],
             [
              0.5555555555555556,
              "#d8576b"
             ],
             [
              0.6666666666666666,
              "#ed7953"
             ],
             [
              0.7777777777777778,
              "#fb9f3a"
             ],
             [
              0.8888888888888888,
              "#fdca26"
             ],
             [
              1,
              "#f0f921"
             ]
            ],
            "type": "heatmapgl"
           }
          ],
          "histogram": [
           {
            "marker": {
             "pattern": {
              "fillmode": "overlay",
              "size": 10,
              "solidity": 0.2
             }
            },
            "type": "histogram"
           }
          ],
          "histogram2d": [
           {
            "colorbar": {
             "outlinewidth": 0,
             "ticks": ""
            },
            "colorscale": [
             [
              0,
              "#0d0887"
             ],
             [
              0.1111111111111111,
              "#46039f"
             ],
             [
              0.2222222222222222,
              "#7201a8"
             ],
             [
              0.3333333333333333,
              "#9c179e"
             ],
             [
              0.4444444444444444,
              "#bd3786"
             ],
             [
              0.5555555555555556,
              "#d8576b"
             ],
             [
              0.6666666666666666,
              "#ed7953"
             ],
             [
              0.7777777777777778,
              "#fb9f3a"
             ],
             [
              0.8888888888888888,
              "#fdca26"
             ],
             [
              1,
              "#f0f921"
             ]
            ],
            "type": "histogram2d"
           }
          ],
          "histogram2dcontour": [
           {
            "colorbar": {
             "outlinewidth": 0,
             "ticks": ""
            },
            "colorscale": [
             [
              0,
              "#0d0887"
             ],
             [
              0.1111111111111111,
              "#46039f"
             ],
             [
              0.2222222222222222,
              "#7201a8"
             ],
             [
              0.3333333333333333,
              "#9c179e"
             ],
             [
              0.4444444444444444,
              "#bd3786"
             ],
             [
              0.5555555555555556,
              "#d8576b"
             ],
             [
              0.6666666666666666,
              "#ed7953"
             ],
             [
              0.7777777777777778,
              "#fb9f3a"
             ],
             [
              0.8888888888888888,
              "#fdca26"
             ],
             [
              1,
              "#f0f921"
             ]
            ],
            "type": "histogram2dcontour"
           }
          ],
          "mesh3d": [
           {
            "colorbar": {
             "outlinewidth": 0,
             "ticks": ""
            },
            "type": "mesh3d"
           }
          ],
          "parcoords": [
           {
            "line": {
             "colorbar": {
              "outlinewidth": 0,
              "ticks": ""
             }
            },
            "type": "parcoords"
           }
          ],
          "pie": [
           {
            "automargin": true,
            "type": "pie"
           }
          ],
          "scatter": [
           {
            "fillpattern": {
             "fillmode": "overlay",
             "size": 10,
             "solidity": 0.2
            },
            "type": "scatter"
           }
          ],
          "scatter3d": [
           {
            "line": {
             "colorbar": {
              "outlinewidth": 0,
              "ticks": ""
             }
            },
            "marker": {
             "colorbar": {
              "outlinewidth": 0,
              "ticks": ""
             }
            },
            "type": "scatter3d"
           }
          ],
          "scattercarpet": [
           {
            "marker": {
             "colorbar": {
              "outlinewidth": 0,
              "ticks": ""
             }
            },
            "type": "scattercarpet"
           }
          ],
          "scattergeo": [
           {
            "marker": {
             "colorbar": {
              "outlinewidth": 0,
              "ticks": ""
             }
            },
            "type": "scattergeo"
           }
          ],
          "scattergl": [
           {
            "marker": {
             "colorbar": {
              "outlinewidth": 0,
              "ticks": ""
             }
            },
            "type": "scattergl"
           }
          ],
          "scattermapbox": [
           {
            "marker": {
             "colorbar": {
              "outlinewidth": 0,
              "ticks": ""
             }
            },
            "type": "scattermapbox"
           }
          ],
          "scatterpolar": [
           {
            "marker": {
             "colorbar": {
              "outlinewidth": 0,
              "ticks": ""
             }
            },
            "type": "scatterpolar"
           }
          ],
          "scatterpolargl": [
           {
            "marker": {
             "colorbar": {
              "outlinewidth": 0,
              "ticks": ""
             }
            },
            "type": "scatterpolargl"
           }
          ],
          "scatterternary": [
           {
            "marker": {
             "colorbar": {
              "outlinewidth": 0,
              "ticks": ""
             }
            },
            "type": "scatterternary"
           }
          ],
          "surface": [
           {
            "colorbar": {
             "outlinewidth": 0,
             "ticks": ""
            },
            "colorscale": [
             [
              0,
              "#0d0887"
             ],
             [
              0.1111111111111111,
              "#46039f"
             ],
             [
              0.2222222222222222,
              "#7201a8"
             ],
             [
              0.3333333333333333,
              "#9c179e"
             ],
             [
              0.4444444444444444,
              "#bd3786"
             ],
             [
              0.5555555555555556,
              "#d8576b"
             ],
             [
              0.6666666666666666,
              "#ed7953"
             ],
             [
              0.7777777777777778,
              "#fb9f3a"
             ],
             [
              0.8888888888888888,
              "#fdca26"
             ],
             [
              1,
              "#f0f921"
             ]
            ],
            "type": "surface"
           }
          ],
          "table": [
           {
            "cells": {
             "fill": {
              "color": "#EBF0F8"
             },
             "line": {
              "color": "white"
             }
            },
            "header": {
             "fill": {
              "color": "#C8D4E3"
             },
             "line": {
              "color": "white"
             }
            },
            "type": "table"
           }
          ]
         },
         "layout": {
          "annotationdefaults": {
           "arrowcolor": "#2a3f5f",
           "arrowhead": 0,
           "arrowwidth": 1
          },
          "autotypenumbers": "strict",
          "coloraxis": {
           "colorbar": {
            "outlinewidth": 0,
            "ticks": ""
           }
          },
          "colorscale": {
           "diverging": [
            [
             0,
             "#8e0152"
            ],
            [
             0.1,
             "#c51b7d"
            ],
            [
             0.2,
             "#de77ae"
            ],
            [
             0.3,
             "#f1b6da"
            ],
            [
             0.4,
             "#fde0ef"
            ],
            [
             0.5,
             "#f7f7f7"
            ],
            [
             0.6,
             "#e6f5d0"
            ],
            [
             0.7,
             "#b8e186"
            ],
            [
             0.8,
             "#7fbc41"
            ],
            [
             0.9,
             "#4d9221"
            ],
            [
             1,
             "#276419"
            ]
           ],
           "sequential": [
            [
             0,
             "#0d0887"
            ],
            [
             0.1111111111111111,
             "#46039f"
            ],
            [
             0.2222222222222222,
             "#7201a8"
            ],
            [
             0.3333333333333333,
             "#9c179e"
            ],
            [
             0.4444444444444444,
             "#bd3786"
            ],
            [
             0.5555555555555556,
             "#d8576b"
            ],
            [
             0.6666666666666666,
             "#ed7953"
            ],
            [
             0.7777777777777778,
             "#fb9f3a"
            ],
            [
             0.8888888888888888,
             "#fdca26"
            ],
            [
             1,
             "#f0f921"
            ]
           ],
           "sequentialminus": [
            [
             0,
             "#0d0887"
            ],
            [
             0.1111111111111111,
             "#46039f"
            ],
            [
             0.2222222222222222,
             "#7201a8"
            ],
            [
             0.3333333333333333,
             "#9c179e"
            ],
            [
             0.4444444444444444,
             "#bd3786"
            ],
            [
             0.5555555555555556,
             "#d8576b"
            ],
            [
             0.6666666666666666,
             "#ed7953"
            ],
            [
             0.7777777777777778,
             "#fb9f3a"
            ],
            [
             0.8888888888888888,
             "#fdca26"
            ],
            [
             1,
             "#f0f921"
            ]
           ]
          },
          "colorway": [
           "#636efa",
           "#EF553B",
           "#00cc96",
           "#ab63fa",
           "#FFA15A",
           "#19d3f3",
           "#FF6692",
           "#B6E880",
           "#FF97FF",
           "#FECB52"
          ],
          "font": {
           "color": "#2a3f5f"
          },
          "geo": {
           "bgcolor": "white",
           "lakecolor": "white",
           "landcolor": "#E5ECF6",
           "showlakes": true,
           "showland": true,
           "subunitcolor": "white"
          },
          "hoverlabel": {
           "align": "left"
          },
          "hovermode": "closest",
          "mapbox": {
           "style": "light"
          },
          "paper_bgcolor": "white",
          "plot_bgcolor": "#E5ECF6",
          "polar": {
           "angularaxis": {
            "gridcolor": "white",
            "linecolor": "white",
            "ticks": ""
           },
           "bgcolor": "#E5ECF6",
           "radialaxis": {
            "gridcolor": "white",
            "linecolor": "white",
            "ticks": ""
           }
          },
          "scene": {
           "xaxis": {
            "backgroundcolor": "#E5ECF6",
            "gridcolor": "white",
            "gridwidth": 2,
            "linecolor": "white",
            "showbackground": true,
            "ticks": "",
            "zerolinecolor": "white"
           },
           "yaxis": {
            "backgroundcolor": "#E5ECF6",
            "gridcolor": "white",
            "gridwidth": 2,
            "linecolor": "white",
            "showbackground": true,
            "ticks": "",
            "zerolinecolor": "white"
           },
           "zaxis": {
            "backgroundcolor": "#E5ECF6",
            "gridcolor": "white",
            "gridwidth": 2,
            "linecolor": "white",
            "showbackground": true,
            "ticks": "",
            "zerolinecolor": "white"
           }
          },
          "shapedefaults": {
           "line": {
            "color": "#2a3f5f"
           }
          },
          "ternary": {
           "aaxis": {
            "gridcolor": "white",
            "linecolor": "white",
            "ticks": ""
           },
           "baxis": {
            "gridcolor": "white",
            "linecolor": "white",
            "ticks": ""
           },
           "bgcolor": "#E5ECF6",
           "caxis": {
            "gridcolor": "white",
            "linecolor": "white",
            "ticks": ""
           }
          },
          "title": {
           "x": 0.05
          },
          "xaxis": {
           "automargin": true,
           "gridcolor": "white",
           "linecolor": "white",
           "ticks": "",
           "title": {
            "standoff": 15
           },
           "zerolinecolor": "white",
           "zerolinewidth": 2
          },
          "yaxis": {
           "automargin": true,
           "gridcolor": "white",
           "linecolor": "white",
           "ticks": "",
           "title": {
            "standoff": 15
           },
           "zerolinecolor": "white",
           "zerolinewidth": 2
          }
         }
        },
        "title": {
         "text": "Log-Log Plot of number of citations vs. norm_distro"
        },
        "xaxis": {
         "title": {
          "text": "Log of number of citations"
         },
         "type": "linear"
        },
        "yaxis": {
         "title": {
          "text": "Log of norm_distro"
         },
         "type": "linear"
        }
       }
      }
     },
     "metadata": {},
     "output_type": "display_data"
    }
   ],
   "source": [
    "norm_dist = normalise_in_degree_dist(in_degree_distribution(citation_graph))\n",
    "plot_log_log_graph(norm_dist)"
   ]
  },
  {
   "cell_type": "code",
   "execution_count": 83,
   "metadata": {},
   "outputs": [
    {
     "data": {
      "text/plain": [
       "{0: {1, 2, 3, 4, 5, 6, 7, 8, 9, 10, 11, 12},\n",
       " 1: {0, 2, 3, 4, 5, 6, 7, 8, 9, 10, 11, 12},\n",
       " 2: {0, 1, 3, 4, 5, 6, 7, 8, 9, 10, 11, 12},\n",
       " 3: {0, 1, 2, 4, 5, 6, 7, 8, 9, 10, 11, 12},\n",
       " 4: {0, 1, 2, 3, 5, 6, 7, 8, 9, 10, 11, 12},\n",
       " 5: {0, 1, 2, 3, 4, 6, 7, 8, 9, 10, 11, 12},\n",
       " 6: {0, 1, 2, 3, 4, 5, 7, 8, 9, 10, 11, 12},\n",
       " 7: {0, 1, 2, 3, 4, 5, 6, 8, 9, 10, 11, 12},\n",
       " 8: {0, 1, 2, 3, 4, 5, 6, 7, 9, 10, 11, 12},\n",
       " 9: {0, 1, 2, 3, 4, 5, 6, 7, 8, 10, 11, 12},\n",
       " 10: {0, 1, 2, 3, 4, 5, 6, 7, 8, 9, 11, 12},\n",
       " 11: {0, 1, 2, 3, 4, 5, 6, 7, 8, 9, 10, 12},\n",
       " 12: {0, 1, 2, 3, 4, 5, 6, 7, 8, 9, 10, 11},\n",
       " 13: {0, 2, 5, 8, 9, 10, 12},\n",
       " 14: {0, 2, 3, 4, 5, 6, 7, 9, 10, 12},\n",
       " 15: {0, 1, 3, 5, 6, 7, 8},\n",
       " 16: {0, 1, 2, 3, 5, 6, 8, 10, 12},\n",
       " 17: {0, 1, 2, 3, 4, 5, 7, 8, 9},\n",
       " 18: {0, 2, 4, 5, 6, 7, 9, 10, 11, 12},\n",
       " 19: {0, 2, 5, 7, 8, 9, 11, 12},\n",
       " 20: {2, 4, 6, 7, 8, 10, 11, 12},\n",
       " 21: {0, 3, 4, 5, 6, 7, 9, 10, 12},\n",
       " 22: {3, 4, 5, 8, 9, 10, 11, 16},\n",
       " 23: {1, 2, 3, 5, 7, 9, 10, 11, 12},\n",
       " 24: {1, 2, 5, 9, 10, 11, 12},\n",
       " 25: {0, 1, 2, 3, 4, 7, 8, 9, 11, 23},\n",
       " 26: {0, 1, 3, 4, 7, 9, 12},\n",
       " 27: {0, 1, 2, 4, 7, 8, 9, 11, 12},\n",
       " 28: {1, 2, 3, 7, 8, 9, 10, 11, 12},\n",
       " 29: {0, 2, 6, 7, 9, 10, 11, 12},\n",
       " 30: {0, 1, 2, 5, 7, 8, 9, 11, 12, 26},\n",
       " 31: {0, 1, 3, 6, 7, 8, 11, 13, 21},\n",
       " 32: {2, 4, 5, 7, 8, 9, 11, 17, 28},\n",
       " 33: {3, 5, 7, 10, 11, 12, 23},\n",
       " 34: {2, 3, 5, 6, 7, 9, 10, 12},\n",
       " 35: {0, 3, 4, 5, 6, 7, 9, 10, 11, 22},\n",
       " 36: {0, 2, 3, 7, 8, 11, 12, 16, 18, 21},\n",
       " 37: {1, 3, 6, 7, 8, 10, 11, 12, 13},\n",
       " 38: {1, 3, 4, 6, 7, 11, 12, 17, 23},\n",
       " 39: {1, 2, 3, 5, 6, 7, 10, 11, 12, 26},\n",
       " 40: {0, 1, 2, 3, 4, 6, 10, 11, 12, 15},\n",
       " 41: {2, 3, 4, 5, 7, 8, 9, 10, 11, 12, 28, 30},\n",
       " 42: {0, 1, 2, 3, 5, 7, 8, 9, 10, 12},\n",
       " 43: {0, 2, 5, 7, 8, 9, 10, 11, 23, 28},\n",
       " 44: {0, 1, 3, 5, 6, 7, 8, 9, 11, 12, 28},\n",
       " 45: {0, 1, 2, 3, 5, 8, 9, 12, 19, 31},\n",
       " 46: {1, 2, 4, 6, 9, 11, 13, 15},\n",
       " 47: {0, 3, 5, 6, 7, 12, 22, 23},\n",
       " 48: {0, 1, 3, 4, 5, 6, 9, 10, 11},\n",
       " 49: {0, 1, 2, 5, 7, 8, 11, 12},\n",
       " 50: {2, 5, 7, 8, 9, 11, 12, 28, 43},\n",
       " 51: {0, 1, 4, 5, 7, 8, 9, 11, 14},\n",
       " 52: {1, 2, 3, 5, 6, 7, 8, 9, 10, 11, 20},\n",
       " 53: {0, 2, 3, 4, 6, 9, 10, 12, 21},\n",
       " 54: {4, 8, 9, 11, 12, 13},\n",
       " 55: {0, 3, 4, 5, 8, 11, 12, 25, 34},\n",
       " 56: {0, 2, 5, 6, 7, 8, 11, 17, 55},\n",
       " 57: {0, 1, 2, 6, 9, 10, 11, 12, 23, 31},\n",
       " 58: {0, 1, 2, 4, 5, 6, 7, 9, 12, 40},\n",
       " 59: {2, 3, 5, 6, 7, 10, 11, 12, 17, 31},\n",
       " 60: {2, 3, 4, 5, 6, 8, 9, 31, 39, 43, 55},\n",
       " 61: {0, 1, 2, 3, 4, 7, 11, 12, 13},\n",
       " 62: {0, 2, 3, 6, 7, 11, 12, 23, 24, 31},\n",
       " 63: {3, 4, 5, 8, 11, 12, 42, 62},\n",
       " 64: {1, 2, 3, 4, 5, 6, 7, 9, 10, 15, 23, 28},\n",
       " 65: {1, 2, 3, 6, 8, 11, 12},\n",
       " 66: {2, 3, 4, 8, 9, 11, 12, 26, 43, 45},\n",
       " 67: {0, 2, 4, 7, 8, 9, 11, 12, 19, 23, 42},\n",
       " 68: {0, 3, 4, 5, 11, 12, 43, 55},\n",
       " 69: {0, 2, 3, 4, 6, 7, 10, 11, 12, 25},\n",
       " 70: {0, 2, 4, 6, 9, 10, 11, 17, 23, 28, 42, 43},\n",
       " 71: {0, 7, 8, 12, 18, 35, 38, 68},\n",
       " 72: {1, 2, 4, 5, 8, 11, 12, 13, 47},\n",
       " 73: {4, 7, 8, 9, 11, 12, 18, 28},\n",
       " 74: {0, 1, 2, 5, 6, 8, 9, 12},\n",
       " 75: {1, 2, 3, 4, 5, 6, 8, 11, 12, 23, 24, 62},\n",
       " 76: {0, 5, 7, 9, 10, 13, 15, 67},\n",
       " 77: {0, 1, 2, 3, 4, 6, 7, 8, 10, 12},\n",
       " 78: {0, 1, 2, 5, 7, 8, 10, 25, 39, 45},\n",
       " 79: {0, 3, 4, 5, 8, 11, 12, 23},\n",
       " 80: {2, 3, 5, 8, 9, 12, 23, 49},\n",
       " 81: {1, 3, 4, 7, 12, 17, 21, 75},\n",
       " 82: {0, 1, 3, 5, 6, 7, 8, 11, 12, 13, 77},\n",
       " 83: {0, 1, 4, 7, 8, 9, 10, 11, 43, 45},\n",
       " 84: {5, 6, 8, 9, 10, 11, 12, 43},\n",
       " 85: {0, 5, 6, 7, 8, 9, 12, 15, 27, 55},\n",
       " 86: {0, 1, 2, 3, 5, 6, 7, 8, 11, 23, 49, 55},\n",
       " 87: {2, 6, 7, 8, 10, 11, 12, 62},\n",
       " 88: {1, 3, 5, 6, 8, 9, 10, 11, 17, 23, 35},\n",
       " 89: {2, 4, 7, 9, 10, 11, 12, 17},\n",
       " 90: {0, 3, 4, 7, 8, 9, 11, 45, 68, 72},\n",
       " 91: {0, 2, 4, 6, 8, 9, 10, 12, 21},\n",
       " 92: {0, 2, 6, 7, 8, 9, 17, 28, 50, 85},\n",
       " 93: {0, 2, 3, 4, 8, 9, 10, 11, 38, 42, 70},\n",
       " 94: {0, 2, 3, 8, 9, 11, 12},\n",
       " 95: {0, 2, 3, 4, 5, 7, 8, 9, 10, 59, 72},\n",
       " 96: {3, 6, 7, 8, 9, 11, 12, 50},\n",
       " 97: {1, 2, 3, 4, 5, 12, 17, 96},\n",
       " 98: {0, 1, 2, 4, 6, 7, 8, 12, 17, 95},\n",
       " 99: {2, 4, 7, 9, 10, 11, 12, 14, 21, 54},\n",
       " 100: {2, 3, 4, 7, 8, 9, 11, 12, 23},\n",
       " 101: {0, 3, 6, 7, 8, 9, 11, 46, 50, 76},\n",
       " 102: {4, 5, 6, 8, 11, 20, 23},\n",
       " 103: {0, 1, 2, 3, 4, 5, 8, 9, 12, 26, 94},\n",
       " 104: {0, 1, 2, 3, 6, 8, 9, 12, 15, 16},\n",
       " 105: {0, 1, 3, 5, 11, 12, 45, 76, 83, 90},\n",
       " 106: {1, 2, 3, 4, 7, 8, 9, 10, 31, 41},\n",
       " 107: {0, 2, 3, 4, 5, 7, 8, 9, 10, 18, 76},\n",
       " 108: {2, 3, 4, 5, 8, 9, 11, 26, 82, 83},\n",
       " 109: {0, 1, 2, 7, 12, 18, 25, 71},\n",
       " 110: {5, 6, 7, 9, 10, 11, 63, 88},\n",
       " 111: {2, 3, 4, 5, 7, 8, 35, 46},\n",
       " 112: {0, 1, 5, 8, 9, 11, 12, 23, 26},\n",
       " 113: {1, 2, 4, 5, 7, 8, 9, 12, 26},\n",
       " 114: {2, 4, 5, 7, 8, 9, 12, 76},\n",
       " 115: {0, 1, 2, 5, 7, 8, 15, 26, 43, 50},\n",
       " 116: {0, 2, 3, 4, 5, 7, 8, 10, 11, 33, 54, 72},\n",
       " 117: {2, 3, 6, 7, 10, 11, 12, 17, 75, 90},\n",
       " 118: {1, 2, 3, 8, 11, 12, 18, 25, 28, 62, 94},\n",
       " 119: {0, 1, 3, 4, 7, 9, 10, 11, 12, 51, 59},\n",
       " 120: {0, 2, 3, 5, 6, 7, 8, 12, 44, 52, 54},\n",
       " 121: {0, 1, 3, 5, 7, 8, 10, 12, 14, 27},\n",
       " 122: {2, 3, 4, 5, 8, 9, 10, 11, 12, 25},\n",
       " 123: {0, 1, 2, 5, 7, 8, 11, 12, 17},\n",
       " 124: {1, 2, 3, 5, 6, 7, 8, 12},\n",
       " 125: {0, 3, 8, 11, 12, 14, 17, 23, 28, 39, 43},\n",
       " 126: {2, 3, 8, 9, 10, 12, 18, 25, 26, 31, 49, 122},\n",
       " 127: {0, 1, 2, 3, 5, 9, 11, 12, 13, 72},\n",
       " 128: {0, 4, 7, 8, 9, 10, 11, 37, 69},\n",
       " 129: {1, 2, 3, 4, 5, 6, 7, 9, 11, 26},\n",
       " 130: {0, 3, 4, 6, 7, 9, 11, 12},\n",
       " 131: {0, 1, 3, 4, 5, 6, 9, 11, 23, 25, 26, 28},\n",
       " 132: {2, 3, 4, 5, 7, 9, 12, 20, 62, 130},\n",
       " 133: {5, 6, 7, 8, 9, 12, 39, 49},\n",
       " 134: {0, 1, 2, 7, 8, 10, 12, 15, 17, 21, 31, 53},\n",
       " 135: {3, 5, 7, 9, 10, 12, 73, 130},\n",
       " 136: {0, 2, 4, 7, 9, 11, 12, 26, 28, 42, 62},\n",
       " 137: {2, 4, 6, 7, 8, 9, 10, 11, 14, 26},\n",
       " 138: {2, 3, 5, 6, 9, 10, 11, 12, 13, 29, 43},\n",
       " 139: {0, 1, 2, 4, 5, 8, 11, 12, 24, 28, 60, 72},\n",
       " 140: {2, 3, 8, 10, 11, 12, 26, 32, 90, 126},\n",
       " 141: {0, 3, 4, 6, 7, 11, 12, 22, 43, 56},\n",
       " 142: {2, 3, 7, 8, 9, 12, 21, 51},\n",
       " 143: {3, 4, 6, 7, 9, 12, 17, 45},\n",
       " 144: {0, 4, 5, 6, 7, 8, 9, 11, 14, 59},\n",
       " 145: {0, 1, 3, 5, 6, 11, 18, 26, 67, 95, 122},\n",
       " 146: {1, 4, 5, 6, 7, 9, 26, 86, 94, 100},\n",
       " 147: {0, 1, 2, 5, 8, 9, 10, 11, 12, 20},\n",
       " 148: {2, 5, 6, 7, 11, 12, 28, 43},\n",
       " 149: {0, 2, 4, 5, 7, 9, 10, 11, 12, 23, 28},\n",
       " 150: {1, 3, 4, 5, 10, 11, 12, 18, 40, 82, 124},\n",
       " 151: {1, 2, 3, 4, 5, 8, 10, 11, 12, 17},\n",
       " 152: {0, 1, 2, 3, 4, 8, 9, 11, 12, 15, 20, 51},\n",
       " 153: {0, 2, 3, 8, 9, 11, 12, 28, 29, 78, 130},\n",
       " 154: {0, 2, 4, 5, 6, 8, 9, 26, 27, 28, 39, 100},\n",
       " 155: {2, 3, 5, 6, 7, 10, 11, 31, 105},\n",
       " 156: {3, 6, 7, 8, 11, 12, 26, 31, 32, 50, 68},\n",
       " 157: {1, 3, 5, 6, 8, 10, 11, 12, 131, 147},\n",
       " 158: {1, 3, 5, 8, 9, 12, 17, 31, 82},\n",
       " 159: {0, 1, 2, 3, 6, 8, 9, 12, 14, 99},\n",
       " 160: {1, 4, 5, 7, 8, 9, 26, 31},\n",
       " 161: {0, 1, 3, 4, 5, 8, 11, 12, 21, 26, 45},\n",
       " 162: {0, 2, 4, 5, 6, 9, 10, 11, 15, 23, 136},\n",
       " 163: {0, 3, 5, 6, 10, 11, 12, 43, 45},\n",
       " 164: {0, 2, 3, 4, 6, 7, 9, 10, 11, 75, 116, 124},\n",
       " 165: {0, 2, 4, 8, 9, 10, 12, 28},\n",
       " 166: {0, 3, 4, 8, 9, 43, 45, 77},\n",
       " 167: {1, 3, 6, 7, 11, 32, 38},\n",
       " 168: {0, 1, 2, 3, 7, 9, 11, 12, 39, 43},\n",
       " 169: {2, 3, 5, 7, 8, 9, 12, 14, 28, 49, 101},\n",
       " 170: {0, 5, 7, 8, 9, 12, 17, 43, 90, 159},\n",
       " 171: {0, 1, 3, 5, 6, 10, 12, 21, 62, 94},\n",
       " 172: {0, 1, 5, 11, 12, 16, 20, 37, 104, 153},\n",
       " 173: {0, 1, 2, 3, 4, 7, 11, 20, 21, 27, 28, 58},\n",
       " 174: {0, 6, 7, 9, 12, 13, 18, 38, 173},\n",
       " 175: {0, 1, 4, 8, 9, 10, 11, 12, 24},\n",
       " 176: {3, 7, 9, 10, 11, 12, 17, 29, 82, 106},\n",
       " 177: {4, 5, 7, 8, 9, 12, 17, 26, 41},\n",
       " 178: {1, 2, 4, 6, 7, 10, 11, 15, 160},\n",
       " 179: {0, 3, 5, 6, 8, 11, 12, 23, 28, 39, 109, 163},\n",
       " 180: {2, 3, 6, 7, 10, 11, 12, 17, 94, 124},\n",
       " 181: {1, 2, 3, 5, 6, 7, 8, 23, 25, 37, 42, 48},\n",
       " 182: {1, 5, 6, 9, 10, 11, 21, 23, 28, 29, 125},\n",
       " 183: {1, 3, 6, 7, 8, 9, 10, 11, 12, 30, 43, 86},\n",
       " 184: {0, 2, 5, 9, 11, 15, 17, 18, 87},\n",
       " 185: {1, 5, 9, 11, 12, 15, 17, 73, 154},\n",
       " 186: {0, 2, 3, 6, 7, 9, 11, 12, 48, 90, 160, 173},\n",
       " 187: {0, 2, 3, 4, 5, 6, 10, 11, 17, 28, 43, 186},\n",
       " 188: {0, 1, 2, 6, 7, 9, 10, 11, 17, 28, 29},\n",
       " 189: {0, 2, 7, 8, 9, 11, 12, 17, 21, 90, 182},\n",
       " 190: {0, 2, 4, 5, 8, 11, 13, 17, 24, 25},\n",
       " 191: {0, 1, 2, 4, 5, 6, 7, 8, 9, 17, 23},\n",
       " 192: {2, 3, 4, 7, 11, 18, 21, 23, 26, 55, 114},\n",
       " 193: {1, 2, 5, 6, 9, 15, 21, 88, 92, 124, 172},\n",
       " 194: {1, 2, 3, 5, 7, 9, 10, 12, 16, 37, 56, 170},\n",
       " 195: {2, 3, 5, 6, 7, 8, 9, 12, 154},\n",
       " 196: {0, 4, 6, 7, 9, 11, 12, 15, 26, 97},\n",
       " 197: {3, 6, 7, 8, 11, 12, 104, 168},\n",
       " 198: {0, 1, 2, 3, 5, 8, 9, 12, 15, 17},\n",
       " 199: {0, 2, 5, 7, 8, 9, 23, 28, 45, 78, 83},\n",
       " 200: {0, 2, 3, 5, 7, 9, 20, 21, 28},\n",
       " 201: {3, 9, 11, 12, 21, 28, 42, 86, 87, 88},\n",
       " 202: {0, 6, 8, 12, 23, 43, 73, 136, 160, 181},\n",
       " 203: {0, 1, 3, 5, 8, 10, 12, 28, 92},\n",
       " 204: {0, 3, 7, 8, 9, 10, 11, 12, 124, 175},\n",
       " 205: {1, 2, 6, 8, 10, 12, 17, 25, 27, 42, 150},\n",
       " 206: {2, 3, 5, 6, 9, 11, 12, 17, 116, 163},\n",
       " 207: {0, 2, 3, 7, 11, 12, 18, 23, 29, 82},\n",
       " 208: {0, 2, 3, 6, 12, 17, 32, 80, 83, 104, 138, 154},\n",
       " 209: {0, 1, 4, 5, 6, 7, 9, 24, 102},\n",
       " 210: {0, 2, 3, 4, 8, 10, 11, 23, 38, 45, 124},\n",
       " 211: {2, 4, 6, 8, 9, 10, 23, 30, 88, 173},\n",
       " 212: {0, 1, 2, 3, 4, 7, 10, 16, 23, 28, 201},\n",
       " 213: {0, 1, 3, 5, 7, 9, 11, 17, 38, 50, 131},\n",
       " 214: {0, 5, 6, 7, 8, 28, 130, 168, 171, 194},\n",
       " 215: {0, 2, 5, 8, 9, 10, 12, 20, 90, 94},\n",
       " 216: {0, 2, 3, 9, 11, 12, 26, 38, 83},\n",
       " 217: {0, 3, 4, 6, 9, 11, 28, 43, 76, 168},\n",
       " 218: {1, 2, 5, 7, 9, 11, 12, 15, 50, 82},\n",
       " 219: {0, 3, 9, 11, 13, 21, 31, 62, 171, 172},\n",
       " 220: {0, 2, 3, 4, 6, 7, 9, 10, 11, 12, 28, 48},\n",
       " 221: {3, 5, 6, 8, 11, 12, 21, 22, 26, 90, 193},\n",
       " 222: {0, 3, 4, 7, 8, 9, 11, 12, 76, 94, 171},\n",
       " 223: {1, 2, 4, 8, 9, 10, 12, 19, 116},\n",
       " 224: {0, 2, 5, 8, 9, 10, 11, 12, 28, 50, 56},\n",
       " 225: {0, 2, 3, 5, 6, 7, 11, 12, 15, 28, 90},\n",
       " 226: {0, 4, 6, 8, 10, 11, 12, 17, 18, 90, 97},\n",
       " 227: {0, 2, 3, 10, 12, 45, 204},\n",
       " 228: {1, 2, 3, 4, 7, 9, 11, 12, 17, 40, 51, 141},\n",
       " 229: {1, 5, 6, 9, 11, 17, 28, 90, 142, 172},\n",
       " 230: {0, 1, 2, 6, 7, 9, 11, 14, 23, 32, 96, 163},\n",
       " 231: {0, 1, 3, 7, 8, 9, 20, 26, 45, 102, 131},\n",
       " 232: {0, 3, 6, 9, 10, 15, 17, 23, 49},\n",
       " 233: {0, 3, 4, 7, 12, 20, 31, 45, 102, 210, 211},\n",
       " 234: {0, 1, 5, 8, 11, 12, 43, 56, 153, 190},\n",
       " 235: {0, 2, 3, 5, 11, 12, 17, 21, 26, 54, 108, 115, 173},\n",
       " 236: {2, 4, 7, 9, 12, 13, 25, 26, 28, 42, 167},\n",
       " 237: {0, 1, 2, 3, 5, 6, 8, 11, 12, 31, 63, 158, 190},\n",
       " 238: {1, 2, 5, 8, 9, 12, 25, 26, 99, 134},\n",
       " 239: {0, 1, 4, 7, 8, 9, 10, 11, 15, 17, 18, 26},\n",
       " 240: {3, 4, 5, 11, 12, 14, 26, 38, 157},\n",
       " 241: {1, 2, 4, 6, 7, 11, 43, 99, 153, 157},\n",
       " 242: {0, 1, 2, 3, 4, 5, 7, 9, 11, 94, 112, 227},\n",
       " 243: {0, 2, 4, 5, 7, 8, 9, 11, 12, 17, 26, 28, 124},\n",
       " 244: {1, 3, 4, 6, 7, 10, 11, 12, 28, 53, 90},\n",
       " 245: {0, 3, 5, 6, 9, 10, 12, 14, 43, 70, 86, 92},\n",
       " 246: {1, 3, 5, 11, 12, 14, 23, 25, 26, 97, 142, 228},\n",
       " 247: {0, 2, 4, 7, 8, 9, 10, 11, 12, 31, 37},\n",
       " 248: {1, 2, 5, 6, 8, 10, 11, 28, 29, 116},\n",
       " 249: {0, 1, 2, 4, 6, 8, 9, 11, 26, 31, 49, 190},\n",
       " 250: {3, 4, 7, 9, 10, 11, 17, 23, 109, 177},\n",
       " 251: {1, 2, 3, 4, 7, 8, 9, 10, 47, 124},\n",
       " 252: {1, 4, 5, 7, 9, 10, 12, 38, 81, 114, 186},\n",
       " 253: {0, 3, 5, 7, 10, 11, 25, 110, 130, 205, 234},\n",
       " 254: {0, 6, 7, 11, 64, 72, 87, 142, 184, 186, 228},\n",
       " 255: {4, 5, 7, 10, 11, 12, 28, 43},\n",
       " 256: {0, 3, 6, 8, 10, 11, 12, 45, 55, 236},\n",
       " 257: {3, 5, 8, 9, 10, 12, 23, 32, 42, 92, 93, 235},\n",
       " 258: {1, 3, 6, 9, 10, 17, 23, 102, 124, 173, 231},\n",
       " 259: {2, 5, 6, 7, 8, 11, 12, 26, 90, 171},\n",
       " 260: {0, 1, 3, 4, 5, 8, 9, 11, 12, 18, 23, 24},\n",
       " 261: {0, 3, 7, 11, 12, 23, 25, 32, 145, 184, 220},\n",
       " 262: {1, 5, 7, 11, 23, 26, 31, 43, 156, 186, 246},\n",
       " 263: {3, 5, 6, 9, 10, 11, 12, 23, 45, 250},\n",
       " 264: {0, 1, 2, 6, 7, 8, 12, 42, 80, 228},\n",
       " 265: {1, 2, 6, 7, 8, 10, 11, 12, 25, 59, 130},\n",
       " 266: {0, 1, 4, 6, 9, 10, 11, 33, 40, 77, 252},\n",
       " 267: {0, 2, 7, 9, 12, 16, 31, 42, 59},\n",
       " 268: {0, 7, 10, 16, 17, 21, 25, 28, 29, 32, 122},\n",
       " 269: {4, 5, 6, 8, 10, 11, 12, 26, 28, 235},\n",
       " 270: {4, 6, 9, 11, 12, 23, 24, 28, 72, 88, 94},\n",
       " 271: {1, 4, 5, 7, 9, 12, 17, 23, 90, 193, 241},\n",
       " 272: {1, 3, 4, 7, 12, 17, 28, 45, 83, 134},\n",
       " 273: {0, 4, 6, 7, 8, 9, 10, 12, 63, 94},\n",
       " 274: {1, 2, 4, 5, 7, 8, 11, 12, 17, 37, 102},\n",
       " 275: {2, 3, 5, 7, 9, 11, 12, 17, 26, 82},\n",
       " 276: {4, 5, 7, 11, 17, 24, 25, 40, 42, 45, 58, 90},\n",
       " 277: {2, 3, 7, 8, 11, 12, 26, 28, 30, 37, 128, 212},\n",
       " 278: {1, 2, 4, 6, 7, 9, 12, 40, 78, 95, 159, 190},\n",
       " 279: {0, 2, 3, 4, 6, 7, 9, 11, 12, 43, 278},\n",
       " 280: {0, 2, 3, 5, 7, 8, 9, 12, 275},\n",
       " 281: {3, 4, 7, 9, 11, 12, 29, 49, 130},\n",
       " 282: {2, 3, 8, 9, 14, 26, 45, 86, 143, 161, 245, 266},\n",
       " 283: {2, 3, 4, 5, 7, 9, 10, 25, 162, 203, 264, 273},\n",
       " 284: {2, 4, 5, 7, 10, 11, 21, 26, 71, 210},\n",
       " 285: {0, 2, 4, 7, 9, 11, 25, 38, 62, 80, 282},\n",
       " 286: {1, 3, 5, 6, 7, 8, 9, 11, 13, 23},\n",
       " 287: {2, 3, 6, 7, 8, 11, 12, 40, 49, 136, 177},\n",
       " 288: {0, 2, 3, 7, 8, 9, 10, 11, 43, 124},\n",
       " 289: {2, 3, 4, 5, 6, 8, 10, 55, 78, 151, 160, 214},\n",
       " 290: {0, 2, 3, 4, 9, 11, 23, 38, 42, 45},\n",
       " 291: {2, 3, 7, 9, 10, 11, 12, 18, 26, 44, 131, 228},\n",
       " 292: {0, 3, 9, 10, 11, 12, 23, 92, 98, 150, 220},\n",
       " 293: {0, 1, 4, 6, 17, 23, 31, 40, 50, 82, 88, 147, 168},\n",
       " 294: {2, 4, 5, 7, 9, 12, 25, 40, 53, 228},\n",
       " 295: {0, 3, 4, 5, 6, 7, 9, 39, 43, 45, 214},\n",
       " 296: {0, 2, 3, 5, 7, 10, 38, 50},\n",
       " 297: {0, 3, 4, 9, 10, 11, 25, 37, 52, 73},\n",
       " 298: {1, 4, 5, 7, 8, 11, 26, 74, 145},\n",
       " 299: {0, 3, 6, 7, 8, 10, 11, 12, 29, 67, 186, 282},\n",
       " 300: {3, 5, 7, 9, 10, 11, 12, 22, 28, 65},\n",
       " 301: {2, 3, 4, 5, 7, 11, 12, 15, 19, 26, 62},\n",
       " 302: {0, 1, 2, 5, 6, 7, 8, 20, 41, 47, 87},\n",
       " 303: {3, 4, 5, 7, 8, 9, 11, 13, 17, 18, 47, 49},\n",
       " 304: {0, 1, 2, 3, 4, 6, 7, 9, 10, 11, 220},\n",
       " 305: {2, 6, 7, 9, 10, 11, 12, 58, 138, 195, 263},\n",
       " 306: {0, 1, 4, 5, 9, 17, 26, 29, 31, 95, 154},\n",
       " 307: {0, 3, 4, 7, 8, 9, 11, 12, 76, 102, 138, 142},\n",
       " 308: {0, 6, 7, 9, 10, 11, 12, 92, 274},\n",
       " 309: {0, 2, 3, 4, 5, 8, 11, 12, 50, 112, 125},\n",
       " 310: {0, 1, 2, 4, 7, 9, 28, 74, 78, 210},\n",
       " 311: {0, 1, 4, 6, 9, 10, 11, 12, 26, 50, 201, 255},\n",
       " 312: {1, 5, 6, 7, 8, 9, 15, 16, 64, 228},\n",
       " 313: {1, 2, 5, 6, 7, 8, 9, 11, 23, 32, 142, 228},\n",
       " 314: {2, 3, 4, 5, 8, 11, 12, 17, 23, 65, 157},\n",
       " 315: {0, 2, 3, 5, 7, 10, 12, 32, 34, 59, 87, 241},\n",
       " 316: {0, 3, 5, 6, 10, 15, 25, 94, 150, 153, 165},\n",
       " 317: {0, 1, 2, 3, 6, 7, 12, 17, 160},\n",
       " 318: {0, 1, 2, 3, 4, 8, 10, 11, 12, 17, 31},\n",
       " 319: {1, 4, 5, 11, 12, 21, 25, 112, 127},\n",
       " 320: {4, 7, 8, 11, 12, 23, 28, 32, 39, 210, 280},\n",
       " 321: {2, 3, 4, 5, 7, 10, 23, 31, 59, 241},\n",
       " 322: {1, 3, 4, 5, 9, 12, 16, 21, 29, 43, 44, 50},\n",
       " 323: {1, 3, 4, 5, 8, 11, 26, 38, 49, 52, 81, 102},\n",
       " 324: {0, 2, 5, 9, 12, 15, 25, 28, 31, 155},\n",
       " 325: {2, 4, 5, 6, 8, 11, 12, 26, 50, 172, 173},\n",
       " 326: {0, 2, 3, 5, 6, 8, 9, 21, 83, 101, 134},\n",
       " 327: {0, 4, 7, 8, 9, 10, 65, 66, 124, 158, 212, 243, 270},\n",
       " 328: {1, 2, 4, 8, 9, 11, 12, 23, 24, 27, 33, 93},\n",
       " 329: {0, 1, 3, 4, 5, 7, 8, 9, 12, 44, 62, 114},\n",
       " 330: {3, 4, 8, 10, 11, 17, 62, 75, 233, 282},\n",
       " 331: {0, 2, 3, 5, 6, 7, 9, 11, 12, 23, 31, 72, 250},\n",
       " 332: {2, 3, 7, 10, 12, 26, 31, 69, 162, 220},\n",
       " 333: {3, 7, 8, 12, 23, 25, 55, 67, 121, 204, 267},\n",
       " 334: {2, 4, 6, 12, 16, 23, 46, 62, 160, 171, 191, 213, 281},\n",
       " 335: {2, 4, 10, 11, 12, 13, 17, 26, 66, 94, 166},\n",
       " 336: {0, 1, 2, 5, 9, 11, 18, 26, 50, 74},\n",
       " 337: {1, 2, 5, 7, 8, 11, 12, 18, 26, 28, 54},\n",
       " 338: {0, 3, 4, 5, 6, 7, 8, 12, 17, 54, 91},\n",
       " 339: {2, 3, 4, 10, 11, 12, 26, 49, 138, 166, 210, 228},\n",
       " 340: {0, 1, 2, 4, 5, 6, 11, 12, 23, 41, 124},\n",
       " 341: {2, 3, 4, 5, 6, 8, 25, 123},\n",
       " 342: {0, 1, 2, 4, 5, 7, 10, 11, 15, 20, 23, 90, 162},\n",
       " 343: {0, 3, 5, 7, 8, 10, 11, 12, 17, 162, 177},\n",
       " 344: {2, 4, 5, 7, 10, 11, 12, 108, 124, 180, 223},\n",
       " 345: {0, 2, 3, 5, 8, 10, 11, 12, 65},\n",
       " 346: {1, 2, 3, 4, 6, 7, 10, 12, 21, 28, 31, 90, 130},\n",
       " 347: {0, 2, 4, 9, 11, 17, 40, 44, 94, 154, 227},\n",
       " 348: {0, 3, 4, 7, 8, 10, 11, 16, 23, 37, 47, 217, 270},\n",
       " 349: {1, 2, 3, 4, 5, 7, 12, 15, 47, 80, 241},\n",
       " 350: {0, 2, 5, 7, 8, 9, 10, 28, 39, 49, 214, 250},\n",
       " 351: {0, 3, 4, 5, 6, 9, 11, 24, 42, 45, 130},\n",
       " 352: {2, 3, 6, 7, 8, 10, 11, 14, 17, 23, 28, 40},\n",
       " 353: {0, 2, 3, 5, 10, 241, 250},\n",
       " 354: {1, 2, 4, 7, 9, 10, 11, 12, 26, 116, 153, 242},\n",
       " 355: {1, 2, 3, 7, 12, 15, 121, 154, 190, 227},\n",
       " 356: {3, 4, 5, 9, 10, 11, 180, 239},\n",
       " 357: {1, 2, 6, 7, 8, 11, 12, 23, 45, 253},\n",
       " 358: {0, 1, 2, 4, 5, 7, 9, 10, 11, 220, 255, 296},\n",
       " 359: {4, 5, 6, 7, 8, 9, 11, 15, 186, 346},\n",
       " 360: {2, 4, 5, 6, 7, 8, 10, 12, 15, 17, 21, 88},\n",
       " 361: {0, 4, 6, 7, 8, 9, 11, 12, 248},\n",
       " 362: {0, 1, 3, 4, 5, 8, 9, 10, 23, 115, 182},\n",
       " 363: {0, 2, 3, 7, 10, 12, 41, 114, 210},\n",
       " 364: {0, 1, 2, 3, 4, 6, 7, 9, 11, 51, 90, 116},\n",
       " 365: {0, 2, 5, 7, 8, 10, 11, 17, 32, 47},\n",
       " 366: {2, 4, 6, 10, 11, 12, 17, 150, 160},\n",
       " 367: {0, 2, 3, 4, 5, 7, 8, 10, 11, 17, 45, 50},\n",
       " 368: {1, 2, 3, 6, 8, 10, 11, 12, 39, 252, 289},\n",
       " 369: {0, 2, 3, 7, 9, 12, 32, 94, 124, 206, 342},\n",
       " 370: {1, 2, 5, 8, 9, 17, 28, 49, 50, 63, 190},\n",
       " 371: {1, 2, 5, 10, 11, 23, 26, 116, 150, 219, 222, 267},\n",
       " 372: {1, 2, 3, 4, 5, 6, 8, 11, 15, 17, 21, 59, 308},\n",
       " 373: {1, 2, 6, 7, 11, 14, 17, 24, 35, 90, 92},\n",
       " 374: {1, 3, 5, 7, 11, 15, 16, 29, 47, 94, 143},\n",
       " 375: {3, 5, 7, 8, 9, 11, 20, 26, 121, 196, 289},\n",
       " 376: {0, 1, 2, 5, 8, 12, 31, 34, 49, 76, 83, 142, 276},\n",
       " 377: {0, 1, 6, 10, 11, 28, 33, 319, 356, 362},\n",
       " 378: {2, 3, 6, 11, 23, 28, 40, 42, 43, 362},\n",
       " 379: {0, 2, 3, 8, 9, 11, 12, 26, 63, 116, 150, 270},\n",
       " 380: {4, 5, 8, 9, 10, 11, 16, 23, 28, 160, 271},\n",
       " 381: {1, 2, 3, 5, 6, 8, 10, 12, 28, 40, 109, 353},\n",
       " 382: {1, 5, 6, 7, 8, 11, 23, 50, 114, 220, 353},\n",
       " 383: {0, 1, 2, 4, 7, 10, 11, 25, 28, 46, 92, 250, 338},\n",
       " 384: {1, 2, 3, 6, 7, 8, 11, 18, 27, 76, 180},\n",
       " 385: {5, 9, 11, 12, 17, 19, 26, 32, 33, 42, 232, 312},\n",
       " 386: {0, 4, 6, 8, 11, 20, 21, 25, 26, 28, 81, 116},\n",
       " 387: {1, 2, 5, 6, 7, 10, 11, 28, 88, 222, 367},\n",
       " 388: {2, 4, 8, 9, 10, 11, 18, 23, 26, 37, 43, 81, 98},\n",
       " 389: {0, 5, 11, 12, 26, 34, 36, 42, 154, 250, 282, 287, 331},\n",
       " 390: {0, 2, 3, 4, 5, 10, 11, 12, 16, 49, 62, 95},\n",
       " 391: {0, 2, 5, 6, 7, 12, 17, 59, 105, 153, 170},\n",
       " 392: {5, 8, 10, 12, 29, 38, 40, 102, 154, 158, 206, 348},\n",
       " 393: {2, 5, 6, 7, 9, 11, 31, 40, 48, 174},\n",
       " 394: {0, 3, 5, 7, 8, 9, 10, 12, 18},\n",
       " 395: {3, 5, 7, 8, 10, 11, 21, 28, 82, 111},\n",
       " 396: {0, 2, 5, 6, 7, 12, 45, 95, 335},\n",
       " 397: {3, 5, 6, 8, 10, 11, 17, 23, 250, 370},\n",
       " 398: {0, 2, 3, 5, 6, 11, 12, 50, 106, 222},\n",
       " 399: {7, 10, 11, 12, 23, 25, 50, 94, 124, 142, 273},\n",
       " 400: {0, 3, 5, 6, 10, 11, 28, 42, 163},\n",
       " 401: {0, 1, 4, 5, 9, 10, 12, 21, 28, 38, 241},\n",
       " 402: {4, 5, 6, 11, 12, 37, 50, 94, 138, 236, 260, 267},\n",
       " 403: {1, 4, 5, 6, 8, 9, 16, 25, 52, 62, 77, 300, 372},\n",
       " 404: {0, 1, 2, 3, 4, 9, 12, 31, 50, 175, 306, 401},\n",
       " 405: {0, 3, 7, 11, 20, 77, 88, 92, 130, 139, 283},\n",
       " 406: {0, 4, 5, 6, 7, 9, 11, 12, 39, 45, 179, 217},\n",
       " 407: {2, 3, 4, 5, 10, 11, 17, 94, 106, 252},\n",
       " 408: {0, 1, 2, 3, 5, 8, 10, 23, 26, 116},\n",
       " 409: {0, 2, 3, 6, 7, 8, 9, 73, 121, 162},\n",
       " 410: {0, 7, 9, 12, 23, 25, 45, 204, 241, 250},\n",
       " 411: {0, 1, 3, 8, 12, 13, 24, 27, 50, 363},\n",
       " 412: {0, 5, 6, 9, 10, 17, 23, 26, 94, 189, 338},\n",
       " 413: {0, 1, 2, 6, 8, 9, 11, 21, 24, 92},\n",
       " 414: {2, 3, 4, 5, 8, 12, 23, 25, 88, 124},\n",
       " 415: {0, 2, 5, 7, 8, 9, 11, 28, 153, 250},\n",
       " 416: {3, 5, 6, 7, 11, 15, 17, 27, 28, 289},\n",
       " 417: {0, 2, 3, 5, 7, 11, 12, 14, 16, 78, 198},\n",
       " 418: {3, 4, 6, 7, 8, 12, 19, 23, 26, 28, 50, 89},\n",
       " 419: {3, 6, 7, 8, 10, 17, 22, 26, 106, 113, 172, 256, 301},\n",
       " 420: {3, 4, 5, 7, 10, 12, 23, 37, 179, 186, 220, 270},\n",
       " 421: {0, 1, 4, 5, 10, 11, 12, 25, 32, 50, 91, 142},\n",
       " 422: {1, 3, 7, 8, 10, 18, 23, 28, 49, 124, 274, 301},\n",
       " 423: {1, 2, 3, 4, 6, 7, 8, 10, 15, 38, 42, 95, 283},\n",
       " 424: {3, 5, 6, 7, 9, 11, 12, 28, 94, 153},\n",
       " 425: {0, 1, 3, 6, 7, 9, 12, 23, 74},\n",
       " 426: {0, 1, 2, 4, 10, 12, 27, 31, 50, 94, 183, 198},\n",
       " 427: {2, 7, 9, 11, 12, 23, 28, 38, 104},\n",
       " 428: {0, 3, 6, 7, 8, 11, 12, 26, 49, 190, 263, 351},\n",
       " 429: {1, 4, 5, 6, 10, 20, 21, 39, 131, 156, 263, 323},\n",
       " 430: {0, 6, 7, 8, 12, 32, 96, 153, 247, 252, 335, 379},\n",
       " 431: {2, 8, 11, 12, 21, 23, 31, 94, 98, 114, 145},\n",
       " 432: {2, 5, 7, 10, 11, 12, 25, 231, 323, 370},\n",
       " 433: {0, 2, 7, 9, 10, 12, 17, 23, 122, 247},\n",
       " 434: {1, 2, 7, 8, 10, 12, 17, 30, 31, 38, 104, 156},\n",
       " 435: {0, 2, 5, 7, 8, 12, 23, 28, 124, 249},\n",
       " 436: {0, 3, 6, 8, 10, 17, 23, 64, 91, 94, 151, 317},\n",
       " 437: {1, 3, 5, 7, 9, 12, 13, 17, 21, 90, 198},\n",
       " 438: {1, 2, 4, 5, 7, 8, 11, 18, 21, 69, 184, 412},\n",
       " 439: {1, 5, 6, 7, 8, 10, 11, 18, 45, 55, 121},\n",
       " 440: {0, 3, 9, 10, 11, 12, 154, 168, 177, 267},\n",
       " 441: {1, 2, 3, 4, 5, 11, 12, 24, 73, 106, 141, 312, 410},\n",
       " 442: {1, 2, 3, 6, 7, 9, 10, 130, 317},\n",
       " 443: {1, 2, 6, 8, 17, 19, 23, 26, 39, 42, 362, 367},\n",
       " 444: {1, 4, 9, 10, 11, 12, 48, 138, 167},\n",
       " 445: {4, 7, 9, 10, 15, 25, 26, 28, 43, 119, 166, 198},\n",
       " 446: {0, 2, 4, 5, 9, 12, 33, 49, 50, 70, 220},\n",
       " 447: {0, 2, 5, 6, 7, 23, 88, 96, 279, 362},\n",
       " 448: {0, 1, 2, 4, 6, 7, 8, 10, 11, 12, 56, 404},\n",
       " 449: {3, 6, 7, 8, 9, 10, 11, 63},\n",
       " 450: {1, 3, 5, 7, 20, 23, 28, 29, 43, 64, 73, 92},\n",
       " 451: {0, 2, 3, 7, 9, 10, 17, 20, 50, 54, 220},\n",
       " 452: {5, 10, 11, 12, 13, 31, 40, 58, 142, 301, 314, 329},\n",
       " 453: {1, 9, 12, 17, 23, 24, 31, 156, 270},\n",
       " 454: {5, 6, 7, 8, 12, 17, 39, 63, 82, 96, 190, 436},\n",
       " 455: {0, 2, 5, 9, 11, 22, 23, 177, 181},\n",
       " 456: {1, 2, 3, 5, 6, 7, 8, 9, 12, 29, 134, 382},\n",
       " 457: {2, 3, 7, 10, 11, 12, 31, 95, 142, 347, 445},\n",
       " 458: {1, 2, 8, 9, 12, 14, 28, 156, 294},\n",
       " 459: {5, 6, 9, 11, 12, 31, 44, 45, 150, 420},\n",
       " 460: {1, 4, 5, 8, 9, 11, 12, 31, 32, 109, 172},\n",
       " 461: {3, 5, 7, 11, 12, 15, 25, 31, 145, 272, 381, 404},\n",
       " 462: {1, 2, 7, 10, 11, 12, 14, 27, 221, 313},\n",
       " 463: {2, 3, 5, 7, 9, 12, 14, 55, 63, 108, 267},\n",
       " 464: {0, 1, 2, 4, 5, 6, 7, 10, 11, 23, 130, 220},\n",
       " 465: {2, 4, 7, 9, 11, 26, 29, 31, 54, 60, 90, 242, 247},\n",
       " 466: {0, 2, 5, 7, 8, 10, 12, 13, 39, 48, 194},\n",
       " 467: {0, 2, 6, 8, 9, 10, 11, 12, 15, 26, 43, 49, 228},\n",
       " 468: {0, 1, 2, 3, 6, 13, 15, 59, 87, 114, 130, 233},\n",
       " 469: {0, 1, 2, 4, 7, 8, 11, 23, 71, 122, 228, 311},\n",
       " 470: {0, 1, 2, 4, 7, 8, 11, 25, 88, 90},\n",
       " 471: {1, 2, 4, 5, 7, 11, 23, 26, 43, 94, 166},\n",
       " 472: {0, 1, 2, 6, 7, 12, 18, 23, 31, 40, 90},\n",
       " 473: {1, 2, 4, 5, 8, 9, 12, 31, 195},\n",
       " 474: {0, 1, 2, 4, 12, 27, 37, 45, 47, 124, 296, 301},\n",
       " 475: {2, 4, 7, 9, 10, 11, 12, 28, 125, 222, 296, 384},\n",
       " 476: {1, 3, 4, 6, 7, 8, 9, 11, 12, 76, 316},\n",
       " 477: {1, 2, 5, 6, 7, 8, 41, 59, 76, 150},\n",
       " 478: {3, 5, 6, 7, 8, 9, 12, 15, 23, 25, 29, 72, 147},\n",
       " 479: {0, 1, 7, 9, 10, 11, 20, 23, 31, 124, 131, 154},\n",
       " 480: {1, 2, 3, 6, 7, 8, 11, 12, 21, 153},\n",
       " 481: {2, 4, 6, 12, 13, 15, 23, 25, 32, 206, 345},\n",
       " 482: {2, 3, 4, 6, 9, 11, 21, 49, 90, 301},\n",
       " 483: {0, 6, 7, 8, 12, 21, 31, 64, 241, 243, 283, 292, 347},\n",
       " 484: {2, 5, 8, 11, 17, 26, 42, 45, 88, 128, 241, 457},\n",
       " 485: {0, 2, 4, 6, 7, 10, 11, 23, 26, 50, 234},\n",
       " 486: {1, 6, 9, 10, 13, 28, 39, 42, 71},\n",
       " 487: {0, 1, 2, 3, 11, 38, 78, 154, 234, 270, 369},\n",
       " 488: {0, 2, 8, 9, 10, 11, 50, 77, 95, 282},\n",
       " 489: {1, 2, 3, 6, 9, 11, 12, 20, 43, 50, 55, 467},\n",
       " 490: {0, 1, 7, 8, 9, 12, 26, 31, 60, 92, 239, 283},\n",
       " 491: {0, 1, 2, 3, 5, 9, 25, 32, 74, 90, 95, 387},\n",
       " 492: {0, 1, 2, 4, 5, 6, 12, 31, 38, 82, 331, 410},\n",
       " 493: {0, 1, 2, 3, 5, 12, 23, 41, 72, 362},\n",
       " 494: {0, 1, 3, 4, 5, 7, 8, 25, 147, 283},\n",
       " 495: {0, 3, 8, 9, 10, 11, 23, 26, 277},\n",
       " 496: {0, 1, 4, 5, 8, 10, 13, 35, 45, 68},\n",
       " 497: {1, 3, 7, 11, 12, 15, 163, 288, 340},\n",
       " 498: {0, 6, 7, 8, 10, 11, 12, 18, 43, 83},\n",
       " 499: {1, 3, 4, 5, 9, 10, 14, 20, 124, 363},\n",
       " 500: {1, 2, 4, 8, 11, 12, 21, 50, 73, 92, 142, 383},\n",
       " 501: {1, 2, 6, 11, 12, 23, 26, 30, 43, 82, 223},\n",
       " 502: {1, 3, 4, 5, 6, 8, 10, 28, 51, 64, 95, 210},\n",
       " 503: {2, 3, 7, 9, 26, 28, 33, 48, 390, 412},\n",
       " 504: {0, 1, 2, 4, 5, 6, 10, 11, 12, 28},\n",
       " 505: {2, 3, 5, 7, 9, 10, 14, 31, 50, 64, 168},\n",
       " 506: {2, 3, 4, 7, 10, 11, 12, 17, 26, 45, 118, 247},\n",
       " 507: {1, 2, 3, 4, 6, 11, 12, 22, 45, 180},\n",
       " 508: {0, 3, 4, 7, 8, 10, 12, 17, 28, 50, 154, 232},\n",
       " 509: {0, 4, 6, 7, 12, 17, 48, 66, 240},\n",
       " 510: {0, 2, 3, 8, 9, 11, 26, 31, 204, 242, 248},\n",
       " 511: {1, 2, 3, 4, 6, 7, 11, 12, 17, 82, 134, 160},\n",
       " 512: {2, 3, 6, 7, 10, 11, 38, 50, 62, 83},\n",
       " 513: {3, 6, 7, 10, 11, 12, 17, 23, 28, 65, 375, 464},\n",
       " 514: {1, 2, 4, 8, 9, 17, 20, 47, 56, 116, 142, 143},\n",
       " 515: {0, 1, 2, 3, 4, 5, 10, 11, 12, 17, 28, 90, 92},\n",
       " 516: {1, 2, 3, 4, 7, 9, 12, 26, 32, 49, 160, 314},\n",
       " 517: {0, 3, 4, 10, 39, 106, 130, 206, 213, 250, 264, 498},\n",
       " 518: {0, 1, 2, 4, 6, 7, 8, 9, 44, 151},\n",
       " 519: {4, 5, 9, 11, 12, 47, 92, 94, 454},\n",
       " 520: {1, 2, 3, 6, 20, 28, 52, 131, 174, 250, 351},\n",
       " 521: {1, 2, 4, 9, 12, 26, 35, 50, 189, 190},\n",
       " 522: {0, 2, 5, 6, 10, 12, 25, 42, 45, 131, 134},\n",
       " 523: {3, 8, 10, 12, 17, 38, 40, 296, 424, 498},\n",
       " 524: {5, 7, 9, 10, 12, 16, 17, 65, 95, 190},\n",
       " 525: {3, 4, 7, 8, 9, 12, 26, 43, 60, 77, 282, 498},\n",
       " 526: {0, 1, 3, 12, 24, 26, 28, 31, 60, 214},\n",
       " 527: {2, 5, 6, 9, 10, 17, 20, 26, 39, 233, 251, 263, 308},\n",
       " 528: {1, 5, 7, 8, 10, 11, 15, 23, 55, 87, 160, 314},\n",
       " 529: {4, 5, 6, 9, 10, 11, 15, 130, 142, 220},\n",
       " 530: {1, 2, 5, 8, 9, 25, 31, 92, 171, 210, 348},\n",
       " 531: {0, 2, 3, 7, 8, 9, 10, 16, 23, 39, 40, 145},\n",
       " 532: {0, 5, 7, 8, 12, 15, 20, 45, 252, 264},\n",
       " 533: {1, 3, 5, 7, 8, 11, 12, 14, 28, 45, 105, 402},\n",
       " 534: {1, 3, 5, 6, 7, 8, 11, 31, 50, 116, 119},\n",
       " 535: {1, 2, 7, 8, 10, 11, 15, 18, 72, 142, 408},\n",
       " 536: {2, 6, 7, 9, 11, 12, 63, 418},\n",
       " 537: {1, 2, 6, 7, 8, 10, 11, 12, 23},\n",
       " 538: {1, 3, 5, 6, 11, 17, 31, 44, 105, 147, 186, 432},\n",
       " 539: {1, 4, 5, 8, 9, 17, 28, 42, 63, 64, 87, 524, 527},\n",
       " 540: {1, 2, 3, 5, 6, 28, 32, 324, 331, 366},\n",
       " 541: {0, 1, 3, 4, 5, 10, 11, 15, 23, 108, 250, 264, 419},\n",
       " 542: {3, 4, 8, 12, 42, 80, 121, 145, 240, 244},\n",
       " 543: {2, 6, 7, 8, 9, 10, 11, 12, 55, 250},\n",
       " 544: {0, 1, 4, 7, 8, 11, 12, 31, 40, 487},\n",
       " 545: {6, 7, 10, 11, 12, 13, 20, 26, 28, 55, 72, 168},\n",
       " 546: {7, 8, 11, 12, 17, 60, 62, 80, 86, 370},\n",
       " 547: {0, 1, 2, 3, 7, 11, 12, 38, 173, 207, 213, 357},\n",
       " 548: {3, 4, 6, 8, 9, 11, 12, 45, 50, 65, 124, 267},\n",
       " 549: {2, 3, 5, 7, 10, 12, 31, 39, 153, 250, 255},\n",
       " 550: {2, 4, 6, 7, 8, 9, 10, 11, 12, 21, 23, 41, 496},\n",
       " 551: {0, 3, 5, 7, 9, 22, 28, 39, 40, 92, 116, 233, 389},\n",
       " 552: {0, 4, 10, 11, 26, 28, 42, 43, 47, 130, 250},\n",
       " 553: {2, 4, 5, 11, 12, 23, 25, 37, 92, 232, 241, 486},\n",
       " 554: {4, 6, 7, 8, 9, 10, 11, 12, 26, 63, 135},\n",
       " 555: {0, 2, 5, 8, 10, 12, 38, 43, 168, 172},\n",
       " 556: {4, 5, 9, 10, 11, 12, 13, 26, 28, 50, 69, 72, 266},\n",
       " 557: {0, 3, 5, 8, 12, 14, 88, 172, 241},\n",
       " 558: {0, 1, 3, 5, 7, 8, 17, 26, 46, 62, 239, 241},\n",
       " 559: {1, 2, 6, 7, 8, 10, 11, 13, 17, 36, 38, 142},\n",
       " 560: {0, 1, 2, 6, 7, 9, 10, 26, 42, 154, 487},\n",
       " 561: {0, 1, 3, 4, 5, 8, 50, 160, 329, 530},\n",
       " 562: {0, 1, 2, 4, 5, 7, 12, 23, 50, 116, 412},\n",
       " 563: {1, 2, 5, 7, 8, 10, 11, 21, 390, 525},\n",
       " 564: {1, 3, 5, 8, 11, 17, 23, 38, 450, 468},\n",
       " 565: {3, 4, 5, 9, 11, 12, 13, 14, 116, 182, 210},\n",
       " 566: {2, 3, 5, 10, 11, 12, 13, 45, 49, 62, 76, 350},\n",
       " 567: {1, 2, 3, 7, 10, 11, 20, 27, 33, 50, 275, 360},\n",
       " 568: {0, 3, 7, 8, 9, 10, 11, 29, 31, 37, 190},\n",
       " 569: {0, 7, 8, 9, 11, 12, 44, 122, 300, 452},\n",
       " 570: {2, 5, 7, 8, 10, 11, 20, 21, 142, 525, 553},\n",
       " 571: {3, 5, 6, 11, 12, 47, 54, 68, 92},\n",
       " 572: {1, 3, 5, 8, 10, 12, 23, 45, 366, 445},\n",
       " 573: {0, 3, 5, 7, 12, 17, 25, 38, 168, 267, 387, 534},\n",
       " 574: {0, 1, 3, 4, 6, 8, 15, 17, 18, 45, 108, 342},\n",
       " 575: {0, 2, 4, 23, 38, 72, 114, 194, 221, 249, 275},\n",
       " 576: {1, 2, 3, 7, 9, 75, 92, 162, 210, 439},\n",
       " 577: {2, 3, 4, 9, 12, 17, 23, 24, 35, 98, 208},\n",
       " 578: {0, 2, 8, 9, 15, 18, 32, 43, 69, 432, 572},\n",
       " 579: {3, 6, 9, 10, 11, 12, 22, 40, 59, 88, 402, 484, 570},\n",
       " 580: {5, 6, 8, 9, 12, 15, 18, 26, 124, 402, 537},\n",
       " 581: {0, 1, 2, 9, 10, 12, 26, 50, 153, 383, 420},\n",
       " 582: {1, 4, 5, 6, 7, 8, 12, 65, 124, 145, 223, 504},\n",
       " 583: {5, 6, 8, 9, 11, 17, 24, 31, 38, 130, 180, 203},\n",
       " 584: {0, 4, 15, 17, 21, 23, 24, 25, 49, 80, 171, 190, 195},\n",
       " 585: {1, 3, 4, 5, 7, 9, 12, 62, 180, 473},\n",
       " 586: {1, 4, 8, 9, 10, 12, 17, 26, 31, 38, 94, 147},\n",
       " 587: {2, 4, 7, 9, 10, 11, 23, 30, 45, 56, 388},\n",
       " 588: {1, 2, 4, 7, 8, 11, 12},\n",
       " 589: {0, 1, 2, 3, 5, 8, 9, 13, 23, 88, 130, 141, 142},\n",
       " 590: {0, 3, 5, 6, 7, 8, 10, 11, 12, 62, 124, 179, 391},\n",
       " 591: {1, 2, 3, 4, 10, 17, 31, 50, 81, 155, 193},\n",
       " 592: {5, 7, 8, 9, 40, 42, 50, 103, 241, 246},\n",
       " 593: {0, 6, 9, 10, 12, 17, 26, 296, 425, 456},\n",
       " 594: {2, 5, 6, 8, 9, 11, 12, 114, 153},\n",
       " 595: {1, 2, 6, 11, 12, 28, 31, 48, 72, 160, 425, 498},\n",
       " 596: {1, 3, 6, 7, 8, 11, 28, 92},\n",
       " 597: {2, 7, 8, 9, 10, 11, 23, 72, 87, 102, 383, 530},\n",
       " 598: {0, 1, 2, 6, 7, 10, 11, 12, 23, 48, 92},\n",
       " 599: {1, 3, 4, 7, 8, 15, 17, 42, 49, 63, 77, 82, 246},\n",
       " 600: {7, 8, 10, 11, 13, 28, 88, 153, 230, 270, 312, 558},\n",
       " 601: {5, 6, 7, 9, 11, 17, 31, 168, 204, 279},\n",
       " 602: {1, 4, 5, 7, 8, 9, 10, 11, 12, 257},\n",
       " 603: {0, 1, 3, 6, 7, 8, 9, 17, 94, 150, 418},\n",
       " 604: {0, 1, 2, 4, 6, 7, 12, 39, 65, 71},\n",
       " 605: {1, 2, 5, 7, 11, 13, 20, 39, 71, 363},\n",
       " 606: {2, 3, 7, 10, 28, 38, 76, 124, 464},\n",
       " 607: {1, 4, 8, 9, 12, 28, 60, 64, 94, 151, 412, 499},\n",
       " 608: {1, 7, 8, 9, 10, 11, 22, 23, 26, 50, 76, 116},\n",
       " 609: {1, 2, 3, 4, 5, 8, 11, 23, 53, 95, 116},\n",
       " 610: {0, 2, 6, 9, 11, 17, 28, 82, 131, 275, 316, 487},\n",
       " 611: {2, 3, 5, 7, 13, 18, 50, 59, 77, 94, 97, 173},\n",
       " 612: {0, 4, 5, 7, 10, 17, 25, 45, 47, 49, 130, 175},\n",
       " 613: {1, 2, 5, 8, 9, 11, 18, 31, 50, 116, 263, 552},\n",
       " 614: {1, 5, 17, 23, 25, 28, 39, 45, 52, 105, 220, 393},\n",
       " 615: {0, 1, 4, 5, 6, 7, 8, 9, 23, 31, 382},\n",
       " 616: {2, 3, 5, 8, 10, 12, 17, 42, 156, 175, 598},\n",
       " 617: {0, 5, 6, 8, 12, 25, 26, 74, 198, 231, 258, 527},\n",
       " 618: {0, 2, 5, 6, 7, 10, 12, 23, 50, 104, 141, 190},\n",
       " 619: {2, 3, 4, 5, 6, 10, 11, 12, 73, 94, 124, 141},\n",
       " 620: {2, 4, 7, 10, 11, 38, 90, 141, 247, 282, 529, 569},\n",
       " 621: {5, 12, 13, 23, 38, 42, 66, 75, 94, 121, 138, 221, 297},\n",
       " 622: {3, 5, 6, 7, 8, 9, 17, 37, 47, 52, 128, 134, 590},\n",
       " 623: {1, 4, 11, 12, 20, 43, 100, 102, 156, 220, 234, 442},\n",
       " 624: {0, 5, 12, 16, 26, 49, 124, 163, 171, 384},\n",
       " 625: {0, 1, 3, 4, 5, 9, 50, 112, 116, 124, 248},\n",
       " 626: {1, 6, 10, 11, 12, 26, 31, 62, 96, 194, 198, 249},\n",
       " 627: {0, 1, 5, 8, 9, 10, 11, 14, 48, 106, 127},\n",
       " 628: {2, 6, 8, 10, 11, 39, 43, 82, 134, 172},\n",
       " 629: {0, 2, 7, 8, 12, 28, 69, 142, 250},\n",
       " 630: {1, 2, 3, 4, 6, 7, 8, 114, 122, 190},\n",
       " 631: {0, 2, 3, 4, 6, 10, 11, 12, 20, 42, 452},\n",
       " 632: {1, 4, 8, 10, 11, 12, 31, 77, 122, 147, 255, 414},\n",
       " 633: {1, 7, 8, 12, 37, 64, 73, 75, 82, 194, 388},\n",
       " 634: {2, 4, 8, 11, 12, 21, 37, 43, 45, 166, 282},\n",
       " 635: {0, 3, 4, 7, 10, 11, 12, 76, 177, 194, 267},\n",
       " 636: {0, 1, 2, 3, 4, 7, 8, 9, 19, 43, 45, 346},\n",
       " 637: {0, 2, 8, 10, 11, 12, 26, 28, 50, 92, 270, 590},\n",
       " 638: {3, 6, 9, 10, 11, 12, 44, 50, 71, 88, 94, 171, 239},\n",
       " 639: {1, 5, 6, 9, 11, 20, 72, 165, 248, 383, 446},\n",
       " 640: {3, 9, 10, 11, 17, 35, 49, 284, 379, 387, 533},\n",
       " 641: {0, 2, 6, 10, 11, 12, 17, 47, 50, 198, 384},\n",
       " 642: {0, 2, 3, 5, 6, 10, 39, 124, 150, 274, 282},\n",
       " 643: {0, 3, 7, 8, 12, 16, 17, 23, 40, 160, 617},\n",
       " 644: {1, 2, 8, 9, 11, 23, 26, 62, 90, 247, 404, 602},\n",
       " 645: {0, 1, 2, 9, 11, 12, 96, 211},\n",
       " 646: {0, 1, 2, 6, 8, 10, 12, 17, 92, 158, 168, 210},\n",
       " 647: {1, 2, 4, 7, 12, 19, 39, 50, 124, 287, 357, 393},\n",
       " 648: {0, 1, 2, 4, 5, 6, 8, 9, 38, 92, 147},\n",
       " 649: {1, 3, 4, 5, 6, 8, 9, 10, 11, 102, 355, 554},\n",
       " 650: {1, 5, 7, 11, 23, 50, 64, 72, 80, 94},\n",
       " 651: {1, 3, 4, 5, 7, 10, 11, 30, 92, 160, 506},\n",
       " 652: {1, 4, 6, 11, 12, 76, 121, 127, 312, 382, 446},\n",
       " 653: {0, 8, 10, 11, 24, 31, 32, 39, 112, 210, 407, 488},\n",
       " 654: {2, 3, 4, 7, 8, 9, 11, 43, 50, 124},\n",
       " 655: {1, 8, 10, 11, 23, 27, 49, 71, 72, 122, 289, 425},\n",
       " 656: {1, 4, 8, 11, 12, 28, 76, 213, 290, 432},\n",
       " 657: {2, 3, 6, 12, 25, 26, 41, 122, 166, 272, 575},\n",
       " 658: {1, 2, 5, 11, 17, 40, 46, 50, 106, 150, 160, 250},\n",
       " 659: {1, 4, 8, 10, 11, 23, 33, 90, 116, 124, 224, 344},\n",
       " 660: {1, 7, 9, 10, 12, 15, 25, 40, 77, 390, 526},\n",
       " 661: {1, 4, 6, 8, 10, 12, 17, 45, 167, 172, 204, 247},\n",
       " 662: {3, 4, 8, 10, 12, 17, 23, 62, 194, 226, 250, 546},\n",
       " 663: {1, 3, 4, 6, 12, 37, 39, 49, 168, 170, 487},\n",
       " 664: {1, 2, 5, 6, 10, 11, 15, 23, 87, 145, 250, 342},\n",
       " 665: {2, 4, 6, 7, 8, 13, 17, 26, 49, 127},\n",
       " 666: {0, 1, 3, 10, 25, 37, 62, 335, 420},\n",
       " 667: {0, 1, 2, 3, 4, 7, 26, 28, 72, 410, 494},\n",
       " 668: {0, 1, 2, 5, 10, 12, 31, 44, 102, 127},\n",
       " 669: {0, 1, 4, 8, 9, 12, 31, 88, 275},\n",
       " 670: {0, 1, 3, 4, 12, 25, 31, 124, 128, 184, 279, 564},\n",
       " 671: {0, 4, 5, 7, 8, 11, 12, 17, 23, 154},\n",
       " 672: {1, 6, 7, 8, 10, 11, 12, 23, 31, 39},\n",
       " 673: {1, 2, 3, 4, 6, 7, 9, 10, 62, 64, 257, 576, 637},\n",
       " 674: {0, 3, 4, 9, 11, 12, 13, 25, 26, 34, 40, 90, 558},\n",
       " 675: {0, 1, 3, 4, 5, 6, 10, 62, 64, 73, 493},\n",
       " 676: {3, 7, 9, 20, 33, 38, 43, 49, 55, 71, 82, 273},\n",
       " 677: {0, 1, 5, 8, 10, 12, 17, 43, 247, 250},\n",
       " 678: {0, 6, 7, 31, 37, 76, 171, 190, 242, 250, 518, 531, 561},\n",
       " 679: {1, 2, 3, 7, 8, 9, 10, 12, 17, 23, 94, 95, 127},\n",
       " 680: {0, 2, 4, 12, 20, 21, 23, 28, 45, 267, 658},\n",
       " 681: {2, 7, 8, 23, 31, 42, 59, 168, 267, 279, 283},\n",
       " 682: {0, 4, 7, 12, 49, 76, 92, 239, 252, 279, 290, 509},\n",
       " 683: {1, 2, 7, 8, 12, 20, 45, 62, 76, 138, 168, 446, 522},\n",
       " 684: {3, 5, 8, 11, 12, 23, 130, 220, 547, 557},\n",
       " 685: {0, 4, 7, 8, 10, 12, 17, 26, 91, 350, 401},\n",
       " 686: {2, 3, 7, 8, 11, 13, 31, 66, 425, 468},\n",
       " 687: {3, 10, 11, 12, 28, 39, 43, 66, 71, 100, 124, 131, 263},\n",
       " 688: {5, 6, 9, 10, 12, 26, 30, 41, 154, 168, 335, 526},\n",
       " 689: {0, 1, 4, 10, 12, 31, 92, 103, 171, 258, 305, 317, 334},\n",
       " 690: {1, 2, 8, 9, 12, 16, 24, 26, 62, 94, 213, 296},\n",
       " 691: {2, 4, 5, 6, 7, 8, 10, 38, 39, 45, 232, 267},\n",
       " 692: {0, 1, 2, 4, 5, 7, 8, 11, 19, 23, 487},\n",
       " 693: {0, 2, 4, 6, 10, 12, 23, 31, 71, 130, 156},\n",
       " 694: {1, 3, 5, 13, 28, 42, 44, 82, 171, 249, 363},\n",
       " 695: {5, 9, 12, 17, 34, 43, 50, 55, 100, 150, 239, 301},\n",
       " 696: {2, 3, 4, 5, 6, 10, 11, 39, 68, 270, 366, 660},\n",
       " 697: {3, 8, 9, 11, 12, 16, 18, 37, 42, 94, 281},\n",
       " 698: {0, 2, 3, 5, 6, 10, 18, 28, 87, 300, 665},\n",
       " 699: {0, 6, 10, 12, 21, 26, 35, 82, 96, 124, 210, 267, 405},\n",
       " 700: {1, 2, 4, 5, 6, 9, 10, 12, 16, 28, 48, 184},\n",
       " 701: {2, 3, 5, 7, 11, 12, 20, 27, 31, 660, 677},\n",
       " 702: {2, 7, 8, 10, 13, 23, 50, 90, 92, 122, 157, 546, 678},\n",
       " 703: {1, 2, 5, 6, 8, 17, 124, 150, 184, 220, 248, 554},\n",
       " 704: {2, 4, 7, 12, 14, 28, 41, 73, 160, 234},\n",
       " 705: {1, 2, 4, 6, 8, 9, 11, 50, 63, 194, 524, 649},\n",
       " 706: {0, 2, 3, 5, 7, 9, 49, 55, 105, 249, 250, 319},\n",
       " 707: {3, 4, 11, 17, 21, 26, 28, 45, 114, 142, 205, 267},\n",
       " 708: {0, 2, 9, 11, 12, 22, 29, 33, 81, 133, 279, 322, 648},\n",
       " 709: {2, 3, 4, 9, 45, 53, 88, 139, 311, 547},\n",
       " 710: {0, 1, 3, 7, 11, 12, 16, 82, 106, 116, 141},\n",
       " 711: {4, 6, 7, 8, 23, 31, 39, 55, 138, 206},\n",
       " 712: {2, 3, 6, 8, 9, 11, 12, 17, 188, 260},\n",
       " 713: {1, 3, 4, 8, 9, 10, 12, 14, 31, 223, 390, 529, 685},\n",
       " 714: {0, 2, 4, 6, 9, 12, 26, 28, 102, 180, 227},\n",
       " 715: {4, 6, 7, 9, 10, 18, 31, 45, 160},\n",
       " 716: {2, 3, 4, 6, 7, 9, 10, 11, 12, 39, 50, 73, 87},\n",
       " 717: {2, 3, 7, 23, 25, 142, 190, 227, 232, 274},\n",
       " 718: {1, 5, 7, 8, 11, 12, 28, 37, 47, 55, 239},\n",
       " 719: {1, 4, 11, 12, 23, 64, 72, 171, 190, 204, 254},\n",
       " 720: {3, 8, 9, 11, 12, 15, 42, 60, 122},\n",
       " 721: {0, 2, 3, 4, 9, 28, 31, 142, 147, 342, 543, 572},\n",
       " 722: {3, 4, 5, 6, 9, 11, 50, 80, 90, 114, 116, 362, 561},\n",
       " 723: {1, 2, 7, 8, 10, 11, 23, 59, 62, 142, 290},\n",
       " 724: {2, 4, 7, 9, 12, 17, 49, 150, 177, 316, 694},\n",
       " 725: {0, 4, 6, 7, 9, 11, 20, 34, 45, 220, 601},\n",
       " 726: {1, 3, 4, 5, 8, 9, 17, 172, 420, 486},\n",
       " 727: {0, 2, 3, 4, 5, 9, 10, 331, 370, 388, 447, 455},\n",
       " 728: {0, 2, 4, 5, 6, 12, 15, 31, 43, 45, 163, 220},\n",
       " 729: {0, 3, 7, 8, 9, 10, 15, 16, 26, 56, 87, 160, 371},\n",
       " 730: {0, 1, 2, 4, 8, 12, 23, 69, 142, 348, 457},\n",
       " 731: {4, 6, 9, 10, 11, 12, 26, 337, 366, 590, 665},\n",
       " 732: {5, 6, 7, 8, 9, 11, 12, 26, 42, 43, 45, 130, 695},\n",
       " 733: {1, 4, 6, 10, 11, 12, 20, 41},\n",
       " 734: {1, 5, 7, 8, 12, 40, 100, 121, 685},\n",
       " 735: {1, 2, 5, 8, 12, 16, 130, 139, 154, 186, 194, 241, 468},\n",
       " 736: {4, 5, 8, 9, 12, 13, 80, 86, 116, 240, 255},\n",
       " 737: {1, 3, 4, 8, 17, 26, 45, 83, 180},\n",
       " 738: {5, 6, 7, 9, 11, 16, 25, 32, 76, 214, 231, 234},\n",
       " 739: {0, 1, 7, 8, 10, 11, 23, 24, 39, 43, 95, 220},\n",
       " 740: {2, 5, 6, 8, 11, 48, 71, 103, 130, 141, 348, 468},\n",
       " 741: {2, 3, 4, 5, 12, 17, 42, 221, 561, 677},\n",
       " 742: {2, 5, 9, 10, 11, 28, 34, 49, 52},\n",
       " 743: {5, 8, 14, 21, 28, 43, 45, 49, 80, 279, 312, 524, 734},\n",
       " 744: {2, 8, 10, 17, 50, 67, 70, 124, 197, 328, 345, 381},\n",
       " 745: {1, 2, 4, 7, 12, 48, 50, 188, 397, 545},\n",
       " 746: {1, 2, 3, 8, 9, 10, 17, 24, 32, 75, 86, 362, 394},\n",
       " 747: {0, 2, 5, 7, 8, 10, 11, 21, 90, 172, 179, 319},\n",
       " 748: {4, 6, 8, 9, 20, 43, 72, 127, 172, 203, 253, 438},\n",
       " 749: {2, 4, 5, 8, 10, 12, 17, 156, 220, 274},\n",
       " 750: {0, 1, 4, 5, 6, 7, 11, 17, 101, 289},\n",
       " 751: {0, 3, 4, 6, 8, 10, 28, 31, 32, 41, 55, 282, 718},\n",
       " 752: {0, 2, 8, 9, 10, 38, 92, 150, 289, 308, 314},\n",
       " 753: {1, 4, 6, 7, 9, 10, 12, 18, 136, 210},\n",
       " 754: {0, 1, 6, 8, 10, 11, 17, 23, 62, 445, 576},\n",
       " 755: {0, 1, 2, 8, 10, 11, 28, 55, 78, 109, 166, 647},\n",
       " 756: {2, 3, 4, 8, 11, 12, 17, 80, 193, 228, 241, 521},\n",
       " 757: {3, 5, 11, 12, 20, 23, 25, 32, 58, 82, 141},\n",
       " 758: {2, 3, 4, 6, 9, 10, 25, 28, 87, 90, 148, 168},\n",
       " 759: {0, 1, 2, 5, 7, 9, 10, 12, 31, 94},\n",
       " 760: {2, 8, 9, 11, 12, 17, 18, 25, 190, 541},\n",
       " 761: {0, 5, 7, 17, 37, 43, 193, 249, 254, 314, 326},\n",
       " 762: {0, 2, 4, 5, 8, 9, 12, 21, 25, 55, 71, 78},\n",
       " 763: {1, 3, 4, 5, 7, 9, 12, 49, 52, 106, 201, 220},\n",
       " 764: {0, 2, 4, 12, 31, 38, 50, 99, 134, 228},\n",
       " 765: {0, 4, 5, 8, 9, 11, 12, 14, 26, 137, 233},\n",
       " 766: {1, 4, 5, 7, 9, 10, 11, 12, 23, 82, 296, 560},\n",
       " 767: {1, 5, 8, 10, 12, 25, 31, 153, 208, 365, 543, 564},\n",
       " 768: {2, 3, 4, 7, 9, 10, 12, 22, 23, 25, 223, 252},\n",
       " 769: {0, 2, 8, 10, 11, 23, 74, 105, 131, 160, 166, 171, 177},\n",
       " 770: {11, 21, 25, 26, 28, 31, 45, 158, 196, 206, 233, 677},\n",
       " 771: {1, 5, 6, 12, 23, 69, 153, 194, 267, 328, 432, 529},\n",
       " 772: {0, 1, 3, 7, 8, 9, 24, 82, 110, 124, 273},\n",
       " 773: {0, 2, 4, 5, 23, 31, 138, 250},\n",
       " 774: {4, 5, 10, 11, 13, 17, 45, 75, 119, 346, 677},\n",
       " 775: {0, 4, 8, 9, 10, 106, 153, 170, 482},\n",
       " 776: {1, 5, 6, 8, 9, 10, 20, 296, 526},\n",
       " 777: {3, 8, 10, 28, 65, 76, 210, 264, 366, 531, 702, 713},\n",
       " 778: {9, 10, 12, 32, 39, 45, 55, 118, 134, 363, 489, 722, 772},\n",
       " 779: {0, 1, 2, 3, 5, 9, 11, 12, 31, 40, 136},\n",
       " 780: {0, 2, 3, 5, 7, 8, 12, 15, 22, 43, 171, 439},\n",
       " 781: {0, 2, 4, 6, 8, 9, 10, 11, 20, 105},\n",
       " 782: {2, 3, 6, 8, 11, 17, 23, 60, 189, 671},\n",
       " 783: {3, 5, 6, 7, 8, 9, 10, 14, 20, 373},\n",
       " 784: {1, 5, 7, 11, 12, 22, 23, 38, 49, 50, 159, 165, 289},\n",
       " 785: {1, 3, 5, 6, 7, 9, 11, 12, 64, 317, 387, 644},\n",
       " 786: {2, 3, 5, 7, 11, 12, 14, 43, 45, 90, 92, 233, 272},\n",
       " 787: {0, 5, 6, 7, 8, 9, 11, 12, 18, 23, 110, 141},\n",
       " 788: {0, 1, 3, 6, 7, 9, 11, 12, 121, 240, 250, 353},\n",
       " 789: {0, 1, 2, 8, 9, 12, 13, 17, 72, 83, 291, 677},\n",
       " 790: {2, 4, 8, 9, 11, 12, 13, 82, 88, 151},\n",
       " 791: {1, 2, 6, 7, 9, 10, 82, 241, 302, 390},\n",
       " 792: {2, 4, 5, 7, 8, 9, 10, 12, 50, 106},\n",
       " 793: {4, 6, 9, 11, 12, 15, 25, 26, 77, 160, 220},\n",
       " 794: {1, 2, 3, 9, 10, 11, 12, 15, 24, 39, 53, 275},\n",
       " 795: {0, 3, 4, 7, 8, 9, 11, 23, 33, 42, 200, 250},\n",
       " 796: {2, 11, 12, 19, 35, 55, 116, 130, 220, 382, 742},\n",
       " 797: {0, 4, 5, 9, 10, 23, 45, 71, 88, 190, 613},\n",
       " 798: {4, 5, 8, 10, 15, 22, 83, 101, 102, 124, 179, 317},\n",
       " 799: {0, 1, 6, 11, 45, 190, 220, 493, 495, 629, 798},\n",
       " 800: {2, 3, 5, 10, 12, 23, 31, 43, 50, 56, 94, 108},\n",
       " 801: {0, 1, 3, 4, 5, 7, 9, 17, 26, 88, 190},\n",
       " 802: {1, 3, 7, 8, 10, 11, 13, 17, 21, 28, 211, 221},\n",
       " 803: {2, 3, 4, 5, 10, 12, 21, 233, 498},\n",
       " 804: {2, 5, 8, 9, 12, 26, 298, 491, 740},\n",
       " 805: {1, 2, 5, 7, 8, 11, 20, 25, 26, 38, 131, 177},\n",
       " 806: {0, 1, 5, 10, 21, 32, 39, 40, 75, 220, 339},\n",
       " 807: {1, 2, 3, 4, 7, 10, 12, 17, 31, 62, 77},\n",
       " 808: {1, 4, 8, 10, 13, 15, 31, 60, 64, 78, 414, 526},\n",
       " 809: {0, 4, 9, 11, 12, 26, 43, 50, 204, 267, 274, 569},\n",
       " 810: {3, 7, 8, 10, 11, 23, 72, 77, 89, 279, 351, 401},\n",
       " 811: {0, 1, 4, 7, 10, 20, 62, 92, 214, 264, 362},\n",
       " 812: {3, 7, 8, 9, 10, 11, 12, 17, 27, 124, 649},\n",
       " 813: {0, 2, 3, 4, 7, 8, 11, 28, 146, 220},\n",
       " 814: {0, 2, 4, 7, 8, 11, 17, 23, 31, 121, 130},\n",
       " 815: {1, 4, 6, 8, 9, 17, 23, 43, 171, 175},\n",
       " 816: {1, 5, 9, 28, 53, 64, 119, 120, 136, 196, 531},\n",
       " 817: {0, 2, 3, 5, 7, 9, 29, 40, 101, 516},\n",
       " 818: {2, 7, 10, 11, 12, 16, 17, 23, 27, 32, 42, 324},\n",
       " 819: {0, 1, 2, 3, 7, 8, 9, 23, 24, 124, 587, 674},\n",
       " 820: {0, 7, 9, 11, 17, 20, 25, 59, 76, 83, 204, 231, 297},\n",
       " 821: {0, 2, 4, 5, 6, 8, 12, 28, 47, 55, 76, 211, 256},\n",
       " 822: {1, 5, 6, 12, 31, 32, 94, 115, 137, 201, 342, 733},\n",
       " 823: {0, 1, 2, 3, 8, 12, 13, 23, 209, 362, 387, 720},\n",
       " 824: {0, 3, 4, 7, 8, 10, 11, 25, 40, 43, 49, 634},\n",
       " 825: {2, 3, 4, 5, 11, 13, 17, 69, 204, 348, 685, 764},\n",
       " 826: {1, 3, 6, 9, 11, 23, 30, 32, 90, 100, 590},\n",
       " 827: {2, 3, 5, 11, 12, 14, 24, 43, 45, 71, 100, 153, 291},\n",
       " 828: {1, 2, 3, 6, 8, 9, 12, 37, 309},\n",
       " 829: {2, 3, 5, 7, 10, 25, 38, 63, 92, 122, 234, 270},\n",
       " 830: {1, 2, 5, 7, 24, 28, 31, 38, 62, 154, 255},\n",
       " 831: {7, 8, 9, 12, 13, 26, 32, 50, 82, 370, 715},\n",
       " 832: {0, 3, 5, 7, 9, 10, 12, 15, 21, 39, 43},\n",
       " 833: {0, 1, 5, 7, 8, 9, 24, 25, 28, 29, 38, 247},\n",
       " 834: {0, 7, 8, 9, 10, 31, 38, 78, 291, 495, 546, 590},\n",
       " 835: {0, 3, 4, 5, 6, 8, 27, 49, 62, 296, 330, 713},\n",
       " 836: {2, 3, 5, 6, 7, 8, 10, 23, 35, 335},\n",
       " 837: {4, 6, 9, 11, 12, 14, 24, 26, 63, 109, 267, 316},\n",
       " 838: {0, 1, 5, 8, 11, 12, 17, 26, 130, 134},\n",
       " 839: {1, 2, 3, 6, 11, 12, 201, 205, 481, 745},\n",
       " 840: {0, 1, 5, 8, 10, 12, 17, 31, 121, 142},\n",
       " 841: {2, 3, 5, 8, 9, 17, 20, 28, 50, 86, 412, 484},\n",
       " 842: {0, 1, 4, 6, 8, 26, 31, 42, 59, 172, 232, 285},\n",
       " 843: {0, 2, 3, 4, 6, 9, 11, 62, 100, 402, 749},\n",
       " 844: {2, 7, 8, 9, 11, 12, 28, 44, 70, 296, 436, 806},\n",
       " 845: {0, 4, 9, 11, 45, 50, 64, 116, 172, 339, 350, 391},\n",
       " 846: {0, 4, 6, 8, 10, 11, 12, 19, 22, 130, 168, 719},\n",
       " 847: {1, 2, 4, 5, 9, 18, 23, 28, 77, 95, 300, 355},\n",
       " 848: {1, 2, 4, 5, 7, 9, 12, 65, 82, 145, 394, 487},\n",
       " 849: {0, 1, 5, 10, 11, 12, 13, 29, 30, 59, 73, 82},\n",
       " 850: {0, 1, 2, 3, 4, 6, 9, 10, 11, 12, 120, 294},\n",
       " 851: {1, 2, 3, 4, 6, 12, 15, 17, 23, 100, 225, 351},\n",
       " 852: {0, 2, 3, 4, 5, 7, 23, 39, 47, 673},\n",
       " 853: {2, 6, 10, 15, 26, 31, 52, 74, 77, 190, 222, 296},\n",
       " 854: {3, 6, 7, 8, 9, 25, 31, 124, 138, 154, 172, 314, 335},\n",
       " 855: {1, 2, 7, 8, 9, 18, 32, 55, 382},\n",
       " 856: {0, 3, 9, 26, 28, 59, 127, 130, 240, 254, 307, 554},\n",
       " 857: {1, 2, 6, 7, 10, 11, 15, 24, 26, 102, 128, 142, 160},\n",
       " 858: {3, 5, 9, 23, 64, 76, 113, 136, 153, 497},\n",
       " 859: {3, 7, 10, 12, 17, 31, 50, 258, 714, 790},\n",
       " 860: {0, 12, 17, 23, 45, 59, 172, 630},\n",
       " 861: {2, 5, 7, 9, 10, 25, 31, 40, 105, 168, 374, 765},\n",
       " 862: {1, 2, 3, 4, 11, 12, 18, 25, 137, 374, 546},\n",
       " 863: {3, 5, 7, 11, 12, 31, 127, 220, 241},\n",
       " 864: {0, 3, 6, 17, 21, 26, 40, 50, 85, 240, 312},\n",
       " 865: {0, 2, 3, 4, 5, 6, 8, 9, 50, 124, 303},\n",
       " 866: {1, 4, 6, 7, 8, 11, 12, 21, 45, 90},\n",
       " 867: {2, 5, 9, 10, 12, 17, 62, 94, 137, 153},\n",
       " 868: {0, 2, 5, 6, 10, 24, 41, 45, 46, 82, 142, 665},\n",
       " 869: {4, 6, 9, 12, 25, 37, 42, 72, 82, 148},\n",
       " 870: {1, 3, 4, 7, 10, 11, 12, 23, 45, 116, 197, 868},\n",
       " 871: {1, 2, 3, 4, 7, 10, 11, 23, 26, 40, 64, 153, 362},\n",
       " 872: {3, 5, 6, 9, 11, 15, 26, 28, 38, 82, 124, 569},\n",
       " 873: {0, 3, 6, 8, 10, 12, 28, 38, 63, 90, 823},\n",
       " 874: {0, 2, 5, 7, 9, 12, 32, 220, 236, 247, 405},\n",
       " 875: {0, 3, 4, 5, 10, 12, 28, 526, 559},\n",
       " 876: {1, 5, 7, 12, 18, 24, 31, 39, 40, 43, 720},\n",
       " 877: {3, 4, 5, 6, 8, 10, 12, 28, 39, 50, 163, 250},\n",
       " 878: {0, 3, 7, 9, 43, 45, 73, 82, 252, 703},\n",
       " 879: {1, 4, 5, 7, 8, 12, 18, 26, 55, 261},\n",
       " 880: {4, 6, 7, 11, 24, 88, 124, 160, 242},\n",
       " 881: {0, 1, 2, 5, 7, 18, 26, 53, 54, 273, 365},\n",
       " 882: {1, 3, 4, 5, 7, 17, 131, 156, 282, 301, 841, 849},\n",
       " 883: {0, 1, 3, 6, 8, 9, 10, 11, 43, 267, 436, 546},\n",
       " 884: {3, 4, 5, 7, 28, 32, 39, 44, 94, 180, 204, 264},\n",
       " 885: {4, 5, 7, 11, 12, 28, 39, 63, 72, 90, 124, 127, 398},\n",
       " 886: {4, 5, 6, 7, 9, 12, 21, 31, 82, 495, 731},\n",
       " 887: {0, 1, 3, 6, 8, 12, 42, 87, 105, 233, 282, 600},\n",
       " 888: {2, 5, 8, 11, 12, 28, 37, 50, 64, 475, 704},\n",
       " 889: {9, 10, 11, 15, 39, 86, 142, 170, 388},\n",
       " 890: {5, 6, 10, 11, 17, 23, 45, 62, 64, 121, 204},\n",
       " 891: {2, 5, 8, 9, 10, 12, 22, 26, 250, 685},\n",
       " 892: {0, 3, 5, 8, 15, 17, 55, 74, 77, 127, 250, 793},\n",
       " 893: {0, 1, 2, 4, 5, 8, 12, 50, 54, 92, 596, 785},\n",
       " 894: {2, 4, 5, 7, 12, 18, 20, 191, 233, 257, 350, 618},\n",
       " 895: {0, 1, 5, 6, 7, 9, 10, 86, 95, 124, 130, 198, 647},\n",
       " 896: {2, 3, 7, 8, 11, 14, 22, 42, 45, 156, 326, 410},\n",
       " 897: {2, 3, 4, 5, 6, 9, 11, 12, 40, 267, 410, 558},\n",
       " 898: {1, 7, 8, 12, 23, 33, 50, 240, 241, 391, 418},\n",
       " 899: {3, 7, 8, 9, 11, 12, 45, 131, 156, 234, 461, 830},\n",
       " 900: {0, 1, 4, 5, 8, 10, 15, 43, 160, 204, 240, 774, 790},\n",
       " 901: {1, 7, 9, 12, 14, 29, 102, 195, 213, 214, 228, 270, 439},\n",
       " 902: {3, 5, 6, 9, 10, 17, 26, 156, 250, 418, 724, 749},\n",
       " 903: {0, 1, 2, 4, 5, 6, 7, 17, 18, 26, 114},\n",
       " 904: {4, 5, 6, 7, 8, 10, 11, 32, 401, 456},\n",
       " 905: {1, 3, 4, 5, 8, 10, 16, 20, 21, 23, 715},\n",
       " 906: {1, 2, 4, 6, 7, 9, 10, 28, 45, 75, 390},\n",
       " 907: {0, 5, 9, 11, 12, 14, 51, 311, 319, 600},\n",
       " 908: {3, 5, 7, 8, 9, 12, 15, 26, 38, 90, 204},\n",
       " 909: {0, 1, 4, 11, 13, 25, 45, 48, 49, 194, 249, 600},\n",
       " 910: {0, 1, 3, 5, 7, 8, 10, 11, 12, 18, 172, 282},\n",
       " 911: {5, 6, 8, 10, 12, 26, 28, 37, 39, 45, 116, 124},\n",
       " 912: {0, 2, 4, 9, 10, 11, 26, 62, 156, 179, 454},\n",
       " 913: {2, 5, 9, 10, 21, 28, 37, 42, 59, 150, 228, 902},\n",
       " 914: {8, 9, 11, 14, 25, 28, 47, 94, 350, 543, 720},\n",
       " 915: {0, 2, 5, 8, 18, 55, 82, 124, 227, 264, 323, 335},\n",
       " 916: {0, 1, 9, 11, 12, 25, 31, 40, 45, 412},\n",
       " 917: {0, 2, 3, 8, 10, 11, 12, 25, 39, 76, 180, 291, 347},\n",
       " 918: {0, 2, 4, 5, 6, 8, 18, 83, 106, 246},\n",
       " 919: {1, 2, 4, 6, 37, 45, 49, 167, 328, 463, 558, 821},\n",
       " 920: {0, 1, 2, 5, 6, 7, 10, 12, 17, 53, 204},\n",
       " 921: {1, 4, 7, 8, 9, 11, 50, 63, 124, 249, 418},\n",
       " 922: {0, 2, 10, 11, 12, 17, 25, 26, 33, 76, 220, 224},\n",
       " 923: {3, 6, 7, 11, 26, 59, 63, 131, 184, 234, 911},\n",
       " 924: {1, 2, 5, 9, 11, 12, 88, 94, 242, 450},\n",
       " 925: {0, 2, 3, 8, 11, 25, 28, 29, 122, 281, 646, 761},\n",
       " 926: {2, 3, 5, 7, 12, 21, 31, 90, 96, 211},\n",
       " 927: {0, 2, 3, 10, 11, 12, 21, 27, 94, 150, 229, 382},\n",
       " 928: {0, 1, 3, 9, 11, 12, 15, 18, 22, 30, 141, 162},\n",
       " 929: {1, 2, 6, 8, 9, 11, 20, 63, 116, 168, 241, 495},\n",
       " 930: {0, 2, 3, 7, 8, 10, 11, 20, 42, 64, 82, 92},\n",
       " 931: {2, 8, 9, 11, 12, 32, 34, 39, 91, 96},\n",
       " 932: {1, 4, 6, 10, 12, 17, 24, 25, 26, 112, 244, 660},\n",
       " 933: {0, 4, 6, 9, 10, 26, 31, 42, 50, 88, 131, 231, 582},\n",
       " 934: {1, 5, 7, 8, 12, 17, 28, 43, 63, 116, 211, 388, 475},\n",
       " 935: {1, 2, 3, 5, 11, 20, 45, 301, 342, 367, 446},\n",
       " 936: {3, 4, 9, 10, 12, 17, 23, 172, 270, 336},\n",
       " 937: {2, 3, 4, 7, 11, 15, 63, 85, 88, 131},\n",
       " 938: {0, 2, 3, 9, 11, 12, 39, 150, 402, 424, 783, 827},\n",
       " 939: {1, 2, 4, 10, 14, 15, 21, 52, 82, 171, 468, 534, 701},\n",
       " 940: {5, 7, 9, 10, 11, 16, 17, 23, 43, 201, 267, 454},\n",
       " 941: {0, 4, 7, 11, 12, 23, 37, 53, 54, 60, 134, 263, 754},\n",
       " 942: {0, 2, 4, 8, 10, 22, 31, 45, 50, 241, 282, 703},\n",
       " 943: {0, 1, 2, 6, 7, 8, 9, 10, 11, 26, 190, 320, 645},\n",
       " 944: {0, 3, 6, 7, 8, 10, 25, 26, 134, 250, 729},\n",
       " 945: {0, 3, 4, 7, 8, 9, 12, 23, 35, 281, 551},\n",
       " 946: {3, 8, 11, 12, 27, 31, 39, 42, 43, 58, 400, 402},\n",
       " 947: {4, 6, 7, 12, 18, 31, 76, 154, 257, 412, 594, 850},\n",
       " 948: {3, 4, 8, 10, 47, 80, 154, 180, 282, 291, 395, 783},\n",
       " 949: {2, 5, 8, 9, 11, 12, 26, 49, 50, 72, 362, 565, 602},\n",
       " 950: {3, 9, 11, 17, 25, 74, 114, 141, 221, 250, 440},\n",
       " 951: {0, 4, 5, 6, 10, 11, 12, 20, 23, 28, 56, 182, 496},\n",
       " 952: {0, 3, 11, 17, 20, 31, 138, 215, 364, 774, 799},\n",
       " 953: {1, 3, 5, 7, 8, 9, 10, 124, 187, 232, 348},\n",
       " 954: {0, 3, 4, 7, 9, 11, 12, 468, 642, 685},\n",
       " 955: {2, 3, 4, 6, 7, 8, 9, 10, 12, 26, 712},\n",
       " 956: {0, 6, 12, 23, 25, 39, 65, 76, 90, 134, 363},\n",
       " 957: {1, 2, 3, 9, 10, 17, 23, 49, 141, 316, 613},\n",
       " 958: {2, 3, 5, 7, 8, 17, 73, 153, 154, 242, 274, 333},\n",
       " 959: {0, 1, 4, 5, 7, 10, 81, 83, 308, 575},\n",
       " 960: {0, 1, 7, 8, 11, 12, 16, 23, 134, 165, 190, 260},\n",
       " 961: {10, 11, 12, 14, 24, 40, 43, 391, 393, 590},\n",
       " 962: {1, 3, 7, 8, 17, 26, 27, 31, 33, 60, 160, 240},\n",
       " 963: {0, 1, 3, 4, 7, 8, 9, 11, 16, 22, 25, 282},\n",
       " 964: {1, 3, 6, 7, 8, 10, 12, 26, 63, 141, 417},\n",
       " 965: {2, 5, 6, 7, 8, 44, 55, 82, 90, 122, 529},\n",
       " 966: {2, 3, 5, 8, 9, 10, 12, 26, 28, 76, 147, 277, 484},\n",
       " 967: {1, 2, 3, 4, 5, 10, 11, 23, 55, 76, 88, 130},\n",
       " 968: {1, 3, 5, 6, 7, 9, 10, 11, 12, 180, 323, 527},\n",
       " 969: {1, 7, 10, 15, 18, 22, 60, 88, 124, 125, 346},\n",
       " 970: {0, 2, 3, 5, 8, 9, 11, 17, 40, 90, 742},\n",
       " 971: {0, 3, 10, 11, 12, 15, 16, 29, 37, 60},\n",
       " 972: {0, 3, 5, 8, 10, 14, 25, 28, 62, 151, 342},\n",
       " 973: {0, 1, 3, 5, 6, 7, 12, 20, 21, 100, 343},\n",
       " 974: {1, 3, 6, 10, 11, 28, 51, 141, 385, 455, 468},\n",
       " 975: {0, 2, 4, 5, 6, 8, 10, 12, 17, 36, 80, 106, 742},\n",
       " 976: {1, 3, 5, 7, 8, 9, 10, 11, 17, 22, 26, 62},\n",
       " 977: {0, 1, 2, 5, 8, 10, 12, 95, 130, 362, 482},\n",
       " 978: {2, 3, 4, 5, 6, 8, 9, 30, 121, 335, 424},\n",
       " 979: {0, 4, 5, 7, 10, 13, 45, 71, 114, 267, 314},\n",
       " 980: {0, 7, 8, 45, 47, 83, 131, 287, 401, 531, 855},\n",
       " 981: {2, 4, 8, 11, 12, 56, 88, 187, 247, 484, 691, 938},\n",
       " 982: {0, 9, 10, 11, 38, 60, 62, 104, 154, 155, 926},\n",
       " 983: {0, 1, 2, 4, 8, 15, 21, 47, 72, 128, 539},\n",
       " 984: {1, 2, 8, 9, 16, 39, 42, 131, 220, 250, 703, 930},\n",
       " 985: {2, 3, 4, 5, 11, 28, 38, 114, 124, 172, 529, 644},\n",
       " 986: {1, 2, 3, 5, 8, 17, 31, 49, 58, 82, 88, 124, 417},\n",
       " 987: {0, 2, 5, 9, 11, 17, 32, 45, 49, 279, 715},\n",
       " 988: {1, 9, 10, 18, 19, 70, 92, 112, 311, 324, 367},\n",
       " 989: {0, 4, 8, 9, 11, 12, 20, 21, 23, 26, 31, 464},\n",
       " 990: {3, 7, 23, 25, 26, 72, 90, 92, 94, 250, 391, 462},\n",
       " 991: {0, 3, 4, 5, 9, 10, 13, 14, 32, 49, 124, 154},\n",
       " 992: {1, 4, 7, 8, 10, 11, 116, 171, 335, 393, 397, 530, 715},\n",
       " 993: {1, 2, 5, 6, 8, 10, 11, 21, 40, 49, 255, 290},\n",
       " 994: {3, 7, 9, 17, 20, 43, 72, 184, 228, 234},\n",
       " 995: {0, 1, 2, 5, 10, 12, 38, 42, 142, 474, 942},\n",
       " 996: {0, 2, 6, 8, 11, 12, 31, 40, 49, 191, 220, 561, 569},\n",
       " 997: {0, 1, 2, 3, 5, 7, 12, 17, 28, 210},\n",
       " 998: {1, 2, 4, 5, 6, 8, 82, 142, 173, 255},\n",
       " 999: {3, 4, 7, 8, 9, 28, 43, 116, 124, 348},\n",
       " ...}"
      ]
     },
     "execution_count": 83,
     "metadata": {},
     "output_type": "execute_result"
    }
   ],
   "source": [
    "dpa_graph = dpa_algo(13, 28000)\n",
    "dpa_graph"
   ]
  },
  {
   "cell_type": "code",
   "execution_count": 85,
   "metadata": {},
   "outputs": [
    {
     "data": {
      "application/vnd.plotly.v1+json": {
       "config": {
        "plotlyServerURL": "https://plot.ly"
       },
       "data": [
        {
         "marker": {
          "color": "blue",
          "size": 10
         },
         "mode": "markers",
         "name": "Log-Log Plot",
         "type": "scatter",
         "x": [
          9.069122370060645,
          9.035034150076132,
          9.104201775914516,
          9.02280524812934,
          8.972844314437571,
          9.012986392348266,
          8.878776071707552,
          9.07589427542326,
          9.074291527512907,
          9.034795799461252,
          8.955319081763951,
          9.108418382250798,
          9.157677719392877,
          7.357556200910353,
          7.181591944611864,
          7.484368643286131,
          6.890609120147166,
          8.404472321352118,
          7.645397699428634,
          6.023447592961033,
          7.451241684987676,
          7.5740450053721995,
          6.684611727667927,
          8.38206051742474,
          7.063903961472069,
          7.699842407396986,
          8.183397369998431,
          6.860663671448286,
          8.182000136293404,
          6.990256500493881,
          6.4599044543775355,
          8.03689677268507,
          7.166265974133638,
          6.206575926724928,
          6.280395838960195,
          5.758901773877281,
          4.955827057601261,
          6.815639990074331,
          7.022868086082641,
          7.463363045520021,
          7.164720378771857,
          5.720311776607412,
          7.415175109613295,
          7.691656822810546,
          6.100318952020064,
          7.764720544771477,
          5.638354669333745,
          6.388561405545629,
          6.180016653652572,
          7.332369205929062,
          7.729735331385051,
          5.624017506187338,
          6.1882641230825906,
          6.26530121273771,
          5.762051382780177,
          6.61472560020376,
          6.1092475827643655,
          2.5649493574615367,
          5.220355825078325,
          6.82001636467413,
          6.428105272684596,
          3.6375861597263857,
          7.170119543449628,
          6.629363253437449,
          6.56244409369372,
          5.8998973535824915,
          5.361292165709425,
          5.288267030694535,
          5.003946305945459,
          5.605802066295998,
          4.890349128221754,
          6.331501849893691,
          6.490723534502507,
          6.354370040797351,
          5.298317366548036,
          5.752572638825633,
          6.824373670043086,
          6.244166900663736,
          5.7899601708972535,
          3.784189633918261,
          6.113682179832232,
          5.313205979041788,
          7.298445101508147,
          6.09807428216624,
          2.3978952727983707,
          4.330733340286331,
          6.093569770045136,
          6.97914527506881,
          4.605170185988092,
          7.354362330421477,
          5.564520407322694,
          6.840546529288687,
          3.1354942159291497,
          7.197435354096591,
          6.429719478039137,
          5.545177444479562,
          4.77912349311153,
          4.499809670330265,
          5.62040086571715,
          5.351858133476067,
          5.272999558563747,
          5.71042701737487,
          5.768320995793772,
          1.0986122886681098,
          5.111987788356544,
          5.375278407684165,
          5.33271879326537,
          3.4657359027997265,
          5.700443573390686,
          3.8066624897703196,
          5.983936280687191,
          5.459585514144159,
          7.003065458786462,
          0,
          5.093750200806762,
          4.454347296253507,
          4.6913478822291435,
          5.934894195619588,
          5.786897381366708,
          4.189654742026425,
          7.234898420314831,
          4.709530201312334,
          3.5553480614894135,
          5.831882477283517,
          5.808142489980443,
          3.713572066704308,
          6.946013991099227,
          6.401917196727186,
          2.8903717578961645,
          4.477336814478207,
          6.013715156042801,
          1.791759469228055,
          5.666426688112432,
          4.6443908991413725,
          5.929589143389895,
          4.718498871295094,
          2.995732273553991,
          6.553933404025812,
          6.913737350659685,
          6.073044534100405,
          3.091042453358316,
          5.736572297479191,
          4.07753744390572,
          5.14166355650266,
          4.174387269895637,
          2.6390573296152584,
          6.00388706710654,
          5.37989735354046,
          3.6635616461296463,
          6.406879986069314,
          6.327936783729195,
          3.1780538303479458,
          6.2324480165505225,
          5.1647859739235145,
          5.552959584921617,
          6.643789733147672,
          4.382026634673881,
          5.429345628954441,
          1.6094379124341003,
          5.627621113690637,
          4.770684624465665,
          6.688354713946762,
          5.049856007249537,
          6.520621127558696,
          6.799055862058796,
          6.1903154058531475,
          4.852030263919617,
          5.278114659230517,
          3.6888794541139363,
          5.645446897643238,
          0.6931471805599453,
          4.543294782270004,
          5.8522024797744745,
          4.875197323201151,
          5.3706380281276624,
          5.894402834264851,
          5.53338948872752,
          5.198497031265826,
          4.1588830833596715,
          4.23410650459726,
          6.674561391814426,
          2.70805020110221,
          5.910796644040528,
          5.476463551931511,
          5.4116460518550396,
          5.105945473900581,
          4.110873864173311,
          5.472270673671475,
          2.0794415416798357,
          5.58724865840025,
          6.396929655216146,
          6.082218910376446,
          4.02535169073515,
          3.258096538021482,
          6.289715570908997,
          5.44673737166631,
          3.4339872044851463,
          6.756932389247553,
          5.030437921392435,
          4.672828834461906,
          4.127134385045092,
          6.220590170099739,
          3.332204510175204,
          3.970291913552122,
          5.598421958998375,
          5.365976015021851,
          6.175867270105761,
          4.30406509320417,
          4.51085950651685,
          2.302585092994046,
          5.0106352940962555,
          6.501289670540388,
          5.733341276897745,
          4.48863636973214,
          4.418840607796598,
          5.303304908059076,
          4.584967478670572,
          5.117993812416755,
          6.8638033914529535,
          4.61512051684126,
          5.726847747587198,
          3.5263605246161616,
          4.574710978503383,
          5.2574953720277815,
          5.318119993844216,
          4.060443010546419,
          4.143134726391533,
          5.834810737062606,
          3.295836866004329,
          6.526494859570789,
          6.059123195581797,
          4.820281565605037,
          3.828641396489095,
          5.056245805348308,
          5.739792912179234,
          5.87493073085203,
          5.488937726156687,
          3.6109179126442243,
          5.3471075307174685,
          6.590301048196686,
          4.812184355372417,
          3.2188758248682006,
          4.5217885770490405,
          5.937536205082426,
          4.836281906951478,
          2.833213344056216,
          4.356708826689592,
          5.5053315359323625,
          4.74493212836325,
          4.406719247264253,
          5.0238805208462765,
          5.398162701517753,
          3.8501476017100584,
          4.7535901911063645,
          4.844187086458591,
          3.9318256327243257,
          5.135798437050262,
          2.772588722239781,
          5.572154032177765,
          4.2626798770413155,
          5.575949103146316,
          5.225746673713202,
          3.871201010907891,
          4.465908118654584,
          1.9459101490553132,
          3.8918202981106265,
          3.4011973816621555,
          4.700480365792417,
          5.043425116919247,
          5.69035945432406,
          5.0369526024136295,
          1.3862943611198906,
          5.214935757608986,
          4.962844630259907,
          5.19295685089021,
          4.912654885736052,
          4.634728988229636,
          3.044522437723423,
          3.4965075614664802,
          4.59511985013459,
          5.017279836814924,
          4.867534450455582,
          3.7376696182833684,
          4.276666119016055,
          5.062595033026967,
          4.553876891600541,
          4.934473933130692,
          5.846438775057724,
          4.969813299576001,
          5.308267697401205,
          5.181783550292085,
          2.4849066497880004,
          5.913503005638271,
          5.799092654460527,
          2.9444389791664403,
          4.343805421853684,
          4.3694478524670215,
          4.532599493153256,
          4.0943445622221,
          4.290459441148391,
          4.90527477843843,
          3.58351893845611,
          5.123963979403259,
          4.394449154672439,
          2.1972245773362196,
          4.219507705176107,
          3.367295829986474,
          4.941642422609304,
          5.717027701406222,
          4.204692619390966,
          4.927253685157205,
          3.9512437185814275,
          4.248495242049359,
          5.755742213586912,
          5.501258210544727,
          5.5134287461649825,
          4.919980925828125,
          4.624972813284271,
          3.9889840465642745,
          4.976733742420574,
          5.087596335232384,
          4.653960350157523,
          5.075173815233827,
          4.663439094112067,
          5.389071729816501,
          4.983606621708336,
          4.007333185232471,
          3.912023005428146,
          5.081404364984462,
          4.9487598903781675,
          4.990432586778736,
          5.187385805840755,
          5.6131281063880705,
          3.7612001156935624,
          4.804021044733257,
          4.762173934797756,
          4.564348191467836,
          4.8283137373023015,
          4.882801922586371,
          4.430816798843313,
          4.04305126783455,
          4.31748811353631,
          4.727387818712341
         ],
         "y": [
          -10.239959789157341,
          -10.239959789157341,
          -10.239959789157341,
          -10.239959789157341,
          -10.239959789157341,
          -10.239959789157341,
          -10.239959789157341,
          -10.239959789157341,
          -10.239959789157341,
          -10.239959789157341,
          -10.239959789157341,
          -10.239959789157341,
          -10.239959789157341,
          -10.239959789157341,
          -10.239959789157341,
          -10.239959789157341,
          -10.239959789157341,
          -10.239959789157341,
          -10.239959789157341,
          -10.239959789157341,
          -10.239959789157341,
          -10.239959789157341,
          -10.239959789157341,
          -10.239959789157341,
          -10.239959789157341,
          -10.239959789157341,
          -10.239959789157341,
          -10.239959789157341,
          -10.239959789157341,
          -10.239959789157341,
          -10.239959789157341,
          -10.239959789157341,
          -10.239959789157341,
          -10.239959789157341,
          -10.239959789157341,
          -8.85366542803745,
          -10.239959789157341,
          -10.239959789157341,
          -10.239959789157341,
          -10.239959789157341,
          -10.239959789157341,
          -9.546812608597396,
          -10.239959789157341,
          -10.239959789157341,
          -10.239959789157341,
          -10.239959789157341,
          -10.239959789157341,
          -10.239959789157341,
          -10.239959789157341,
          -10.239959789157341,
          -10.239959789157341,
          -9.546812608597396,
          -10.239959789157341,
          -10.239959789157341,
          -9.546812608597396,
          -10.239959789157341,
          -10.239959789157341,
          -5.312706104000136,
          -9.14134750048923,
          -10.239959789157341,
          -10.239959789157341,
          -7.104465573228191,
          -10.239959789157341,
          -10.239959789157341,
          -10.239959789157341,
          -10.239959789157341,
          -10.239959789157341,
          -10.239959789157341,
          -8.85366542803745,
          -10.239959789157341,
          -9.546812608597396,
          -10.239959789157341,
          -10.239959789157341,
          -10.239959789157341,
          -9.14134750048923,
          -10.239959789157341,
          -10.239959789157341,
          -10.239959789157341,
          -10.239959789157341,
          -7.244227515603351,
          -9.546812608597396,
          -9.546812608597396,
          -10.239959789157341,
          -10.239959789157341,
          -5.008851172302754,
          -8.63052187672324,
          -10.239959789157341,
          -10.239959789157341,
          -9.14134750048923,
          -10.239959789157341,
          -9.546812608597396,
          -10.239959789157341,
          -6.3279367837291955,
          -10.239959789157341,
          -10.239959789157341,
          -10.239959789157341,
          -9.14134750048923,
          -8.448200319929285,
          -10.239959789157341,
          -10.239959789157341,
          -10.239959789157341,
          -10.239959789157341,
          -10.239959789157341,
          -3.0057826094074924,
          -10.239959789157341,
          -9.546812608597396,
          -10.239959789157341,
          -7.021083964289141,
          -9.546812608597396,
          -7.84206451635897,
          -10.239959789157341,
          -10.239959789157341,
          -10.239959789157341,
          -1.7889064002456485,
          -10.239959789157341,
          -8.85366542803745,
          -8.63052187672324,
          -10.239959789157341,
          -9.546812608597396,
          -8.85366542803745,
          -10.239959789157341,
          -8.63052187672324,
          -7.3495880312611765,
          -10.239959789157341,
          -10.239959789157341,
          -7.295520809990901,
          -10.239959789157341,
          -10.239959789157341,
          -5.977279912116026,
          -8.448200319929285,
          -10.239959789157341,
          -4.055810898219858,
          -10.239959789157341,
          -8.85366542803745,
          -9.546812608597396,
          -9.14134750048923,
          -6.162422345251621,
          -10.239959789157341,
          -10.239959789157341,
          -10.239959789157341,
          -6.3279367837291955,
          -10.239959789157341,
          -7.937374696163296,
          -9.546812608597396,
          -7.937374696163296,
          -5.372425338701759,
          -10.239959789157341,
          -9.546812608597396,
          -7.3495880312611765,
          -10.239959789157341,
          -10.239959789157341,
          -6.411318392668246,
          -10.239959789157341,
          -9.546812608597396,
          -10.239959789157341,
          -10.239959789157341,
          -8.448200319929285,
          -10.239959789157341,
          -3.6817619863450726,
          -10.239959789157341,
          -9.14134750048923,
          -10.239959789157341,
          -9.546812608597396,
          -10.239959789157341,
          -10.239959789157341,
          -10.239959789157341,
          -9.14134750048923,
          -9.14134750048923,
          -7.295520809990901,
          -10.239959789157341,
          -2.473119252071828,
          -8.448200319929285,
          -10.239959789157341,
          -9.14134750048923,
          -9.546812608597396,
          -10.239959789157341,
          -10.239959789157341,
          -9.546812608597396,
          -8.294049640102028,
          -8.448200319929285,
          -10.239959789157341,
          -5.718171212108301,
          -10.239959789157341,
          -10.239959789157341,
          -9.546812608597396,
          -9.546812608597396,
          -8.042735211821121,
          -10.239959789157341,
          -4.5428663026519365,
          -10.239959789157341,
          -10.239959789157341,
          -10.239959789157341,
          -7.84206451635897,
          -6.502290170873973,
          -10.239959789157341,
          -10.239959789157341,
          -6.838762407495186,
          -10.239959789157341,
          -9.546812608597396,
          -10.239959789157341,
          -8.160518247477505,
          -10.239959789157341,
          -6.551080335043405,
          -7.600902459542082,
          -10.239959789157341,
          -10.239959789157341,
          -10.239959789157341,
          -8.160518247477505,
          -8.63052187672324,
          -4.946654964432848,
          -9.546812608597396,
          -10.239959789157341,
          -10.239959789157341,
          -9.546812608597396,
          -9.546812608597396,
          -9.14134750048923,
          -8.448200319929285,
          -9.546812608597396,
          -10.239959789157341,
          -8.448200319929285,
          -10.239959789157341,
          -7.406746445101125,
          -9.546812608597396,
          -10.239959789157341,
          -9.546812608597396,
          -8.63052187672324,
          -8.448200319929285,
          -10.239959789157341,
          -6.838762407495186,
          -10.239959789157341,
          -10.239959789157341,
          -10.239959789157341,
          -7.937374696163296,
          -9.546812608597396,
          -10.239959789157341,
          -10.239959789157341,
          -9.546812608597396,
          -7.295520809990901,
          -10.239959789157341,
          -10.239959789157341,
          -8.294049640102028,
          -6.656440850701231,
          -8.63052187672324,
          -10.239959789157341,
          -10.239959789157341,
          -5.935894695953171,
          -8.448200319929285,
          -9.546812608597396,
          -9.546812608597396,
          -9.14134750048923,
          -9.546812608597396,
          -10.239959789157341,
          -7.937374696163296,
          -10.239959789157341,
          -9.14134750048923,
          -7.531909588055131,
          -10.239959789157341,
          -5.61498697587307,
          -10.239959789157341,
          -9.546812608597396,
          -10.239959789157341,
          -10.239959789157341,
          -7.675010431695805,
          -8.448200319929285,
          -4.15546037608217,
          -8.294049640102028,
          -6.805972584672195,
          -8.85366542803745,
          -9.14134750048923,
          -10.239959789157341,
          -10.239959789157341,
          -3.388774861663598,
          -10.239959789157341,
          -10.239959789157341,
          -10.239959789157341,
          -10.239959789157341,
          -9.14134750048923,
          -6.288716070575914,
          -7.244227515603351,
          -8.63052187672324,
          -10.239959789157341,
          -10.239959789157341,
          -7.3495880312611765,
          -8.85366542803745,
          -10.239959789157341,
          -8.63052187672324,
          -10.239959789157341,
          -10.239959789157341,
          -10.239959789157341,
          -10.239959789157341,
          -10.239959789157341,
          -5.372425338701759,
          -10.239959789157341,
          -10.239959789157341,
          -6.162422345251621,
          -8.63052187672324,
          -8.85366542803745,
          -9.14134750048923,
          -8.294049640102028,
          -8.85366542803745,
          -9.546812608597396,
          -7.755053139369341,
          -10.239959789157341,
          -10.239959789157341,
          -4.755162855666686,
          -8.63052187672324,
          -7.061905958809396,
          -9.14134750048923,
          -10.239959789157341,
          -8.85366542803745,
          -10.239959789157341,
          -8.63052187672324,
          -9.546812608597396,
          -10.239959789157341,
          -10.239959789157341,
          -10.239959789157341,
          -10.239959789157341,
          -9.546812608597396,
          -7.84206451635897,
          -10.239959789157341,
          -10.239959789157341,
          -9.546812608597396,
          -10.239959789157341,
          -9.546812608597396,
          -10.239959789157341,
          -10.239959789157341,
          -7.937374696163296,
          -8.294049640102028,
          -10.239959789157341,
          -10.239959789157341,
          -10.239959789157341,
          -10.239959789157341,
          -10.239959789157341,
          -7.675010431695805,
          -10.239959789157341,
          -10.239959789157341,
          -10.239959789157341,
          -10.239959789157341,
          -10.239959789157341,
          -10.239959789157341,
          -8.448200319929285,
          -8.63052187672324,
          -10.239959789157341
         ]
        }
       ],
       "layout": {
        "showlegend": true,
        "template": {
         "data": {
          "bar": [
           {
            "error_x": {
             "color": "#2a3f5f"
            },
            "error_y": {
             "color": "#2a3f5f"
            },
            "marker": {
             "line": {
              "color": "#E5ECF6",
              "width": 0.5
             },
             "pattern": {
              "fillmode": "overlay",
              "size": 10,
              "solidity": 0.2
             }
            },
            "type": "bar"
           }
          ],
          "barpolar": [
           {
            "marker": {
             "line": {
              "color": "#E5ECF6",
              "width": 0.5
             },
             "pattern": {
              "fillmode": "overlay",
              "size": 10,
              "solidity": 0.2
             }
            },
            "type": "barpolar"
           }
          ],
          "carpet": [
           {
            "aaxis": {
             "endlinecolor": "#2a3f5f",
             "gridcolor": "white",
             "linecolor": "white",
             "minorgridcolor": "white",
             "startlinecolor": "#2a3f5f"
            },
            "baxis": {
             "endlinecolor": "#2a3f5f",
             "gridcolor": "white",
             "linecolor": "white",
             "minorgridcolor": "white",
             "startlinecolor": "#2a3f5f"
            },
            "type": "carpet"
           }
          ],
          "choropleth": [
           {
            "colorbar": {
             "outlinewidth": 0,
             "ticks": ""
            },
            "type": "choropleth"
           }
          ],
          "contour": [
           {
            "colorbar": {
             "outlinewidth": 0,
             "ticks": ""
            },
            "colorscale": [
             [
              0,
              "#0d0887"
             ],
             [
              0.1111111111111111,
              "#46039f"
             ],
             [
              0.2222222222222222,
              "#7201a8"
             ],
             [
              0.3333333333333333,
              "#9c179e"
             ],
             [
              0.4444444444444444,
              "#bd3786"
             ],
             [
              0.5555555555555556,
              "#d8576b"
             ],
             [
              0.6666666666666666,
              "#ed7953"
             ],
             [
              0.7777777777777778,
              "#fb9f3a"
             ],
             [
              0.8888888888888888,
              "#fdca26"
             ],
             [
              1,
              "#f0f921"
             ]
            ],
            "type": "contour"
           }
          ],
          "contourcarpet": [
           {
            "colorbar": {
             "outlinewidth": 0,
             "ticks": ""
            },
            "type": "contourcarpet"
           }
          ],
          "heatmap": [
           {
            "colorbar": {
             "outlinewidth": 0,
             "ticks": ""
            },
            "colorscale": [
             [
              0,
              "#0d0887"
             ],
             [
              0.1111111111111111,
              "#46039f"
             ],
             [
              0.2222222222222222,
              "#7201a8"
             ],
             [
              0.3333333333333333,
              "#9c179e"
             ],
             [
              0.4444444444444444,
              "#bd3786"
             ],
             [
              0.5555555555555556,
              "#d8576b"
             ],
             [
              0.6666666666666666,
              "#ed7953"
             ],
             [
              0.7777777777777778,
              "#fb9f3a"
             ],
             [
              0.8888888888888888,
              "#fdca26"
             ],
             [
              1,
              "#f0f921"
             ]
            ],
            "type": "heatmap"
           }
          ],
          "heatmapgl": [
           {
            "colorbar": {
             "outlinewidth": 0,
             "ticks": ""
            },
            "colorscale": [
             [
              0,
              "#0d0887"
             ],
             [
              0.1111111111111111,
              "#46039f"
             ],
             [
              0.2222222222222222,
              "#7201a8"
             ],
             [
              0.3333333333333333,
              "#9c179e"
             ],
             [
              0.4444444444444444,
              "#bd3786"
             ],
             [
              0.5555555555555556,
              "#d8576b"
             ],
             [
              0.6666666666666666,
              "#ed7953"
             ],
             [
              0.7777777777777778,
              "#fb9f3a"
             ],
             [
              0.8888888888888888,
              "#fdca26"
             ],
             [
              1,
              "#f0f921"
             ]
            ],
            "type": "heatmapgl"
           }
          ],
          "histogram": [
           {
            "marker": {
             "pattern": {
              "fillmode": "overlay",
              "size": 10,
              "solidity": 0.2
             }
            },
            "type": "histogram"
           }
          ],
          "histogram2d": [
           {
            "colorbar": {
             "outlinewidth": 0,
             "ticks": ""
            },
            "colorscale": [
             [
              0,
              "#0d0887"
             ],
             [
              0.1111111111111111,
              "#46039f"
             ],
             [
              0.2222222222222222,
              "#7201a8"
             ],
             [
              0.3333333333333333,
              "#9c179e"
             ],
             [
              0.4444444444444444,
              "#bd3786"
             ],
             [
              0.5555555555555556,
              "#d8576b"
             ],
             [
              0.6666666666666666,
              "#ed7953"
             ],
             [
              0.7777777777777778,
              "#fb9f3a"
             ],
             [
              0.8888888888888888,
              "#fdca26"
             ],
             [
              1,
              "#f0f921"
             ]
            ],
            "type": "histogram2d"
           }
          ],
          "histogram2dcontour": [
           {
            "colorbar": {
             "outlinewidth": 0,
             "ticks": ""
            },
            "colorscale": [
             [
              0,
              "#0d0887"
             ],
             [
              0.1111111111111111,
              "#46039f"
             ],
             [
              0.2222222222222222,
              "#7201a8"
             ],
             [
              0.3333333333333333,
              "#9c179e"
             ],
             [
              0.4444444444444444,
              "#bd3786"
             ],
             [
              0.5555555555555556,
              "#d8576b"
             ],
             [
              0.6666666666666666,
              "#ed7953"
             ],
             [
              0.7777777777777778,
              "#fb9f3a"
             ],
             [
              0.8888888888888888,
              "#fdca26"
             ],
             [
              1,
              "#f0f921"
             ]
            ],
            "type": "histogram2dcontour"
           }
          ],
          "mesh3d": [
           {
            "colorbar": {
             "outlinewidth": 0,
             "ticks": ""
            },
            "type": "mesh3d"
           }
          ],
          "parcoords": [
           {
            "line": {
             "colorbar": {
              "outlinewidth": 0,
              "ticks": ""
             }
            },
            "type": "parcoords"
           }
          ],
          "pie": [
           {
            "automargin": true,
            "type": "pie"
           }
          ],
          "scatter": [
           {
            "fillpattern": {
             "fillmode": "overlay",
             "size": 10,
             "solidity": 0.2
            },
            "type": "scatter"
           }
          ],
          "scatter3d": [
           {
            "line": {
             "colorbar": {
              "outlinewidth": 0,
              "ticks": ""
             }
            },
            "marker": {
             "colorbar": {
              "outlinewidth": 0,
              "ticks": ""
             }
            },
            "type": "scatter3d"
           }
          ],
          "scattercarpet": [
           {
            "marker": {
             "colorbar": {
              "outlinewidth": 0,
              "ticks": ""
             }
            },
            "type": "scattercarpet"
           }
          ],
          "scattergeo": [
           {
            "marker": {
             "colorbar": {
              "outlinewidth": 0,
              "ticks": ""
             }
            },
            "type": "scattergeo"
           }
          ],
          "scattergl": [
           {
            "marker": {
             "colorbar": {
              "outlinewidth": 0,
              "ticks": ""
             }
            },
            "type": "scattergl"
           }
          ],
          "scattermapbox": [
           {
            "marker": {
             "colorbar": {
              "outlinewidth": 0,
              "ticks": ""
             }
            },
            "type": "scattermapbox"
           }
          ],
          "scatterpolar": [
           {
            "marker": {
             "colorbar": {
              "outlinewidth": 0,
              "ticks": ""
             }
            },
            "type": "scatterpolar"
           }
          ],
          "scatterpolargl": [
           {
            "marker": {
             "colorbar": {
              "outlinewidth": 0,
              "ticks": ""
             }
            },
            "type": "scatterpolargl"
           }
          ],
          "scatterternary": [
           {
            "marker": {
             "colorbar": {
              "outlinewidth": 0,
              "ticks": ""
             }
            },
            "type": "scatterternary"
           }
          ],
          "surface": [
           {
            "colorbar": {
             "outlinewidth": 0,
             "ticks": ""
            },
            "colorscale": [
             [
              0,
              "#0d0887"
             ],
             [
              0.1111111111111111,
              "#46039f"
             ],
             [
              0.2222222222222222,
              "#7201a8"
             ],
             [
              0.3333333333333333,
              "#9c179e"
             ],
             [
              0.4444444444444444,
              "#bd3786"
             ],
             [
              0.5555555555555556,
              "#d8576b"
             ],
             [
              0.6666666666666666,
              "#ed7953"
             ],
             [
              0.7777777777777778,
              "#fb9f3a"
             ],
             [
              0.8888888888888888,
              "#fdca26"
             ],
             [
              1,
              "#f0f921"
             ]
            ],
            "type": "surface"
           }
          ],
          "table": [
           {
            "cells": {
             "fill": {
              "color": "#EBF0F8"
             },
             "line": {
              "color": "white"
             }
            },
            "header": {
             "fill": {
              "color": "#C8D4E3"
             },
             "line": {
              "color": "white"
             }
            },
            "type": "table"
           }
          ]
         },
         "layout": {
          "annotationdefaults": {
           "arrowcolor": "#2a3f5f",
           "arrowhead": 0,
           "arrowwidth": 1
          },
          "autotypenumbers": "strict",
          "coloraxis": {
           "colorbar": {
            "outlinewidth": 0,
            "ticks": ""
           }
          },
          "colorscale": {
           "diverging": [
            [
             0,
             "#8e0152"
            ],
            [
             0.1,
             "#c51b7d"
            ],
            [
             0.2,
             "#de77ae"
            ],
            [
             0.3,
             "#f1b6da"
            ],
            [
             0.4,
             "#fde0ef"
            ],
            [
             0.5,
             "#f7f7f7"
            ],
            [
             0.6,
             "#e6f5d0"
            ],
            [
             0.7,
             "#b8e186"
            ],
            [
             0.8,
             "#7fbc41"
            ],
            [
             0.9,
             "#4d9221"
            ],
            [
             1,
             "#276419"
            ]
           ],
           "sequential": [
            [
             0,
             "#0d0887"
            ],
            [
             0.1111111111111111,
             "#46039f"
            ],
            [
             0.2222222222222222,
             "#7201a8"
            ],
            [
             0.3333333333333333,
             "#9c179e"
            ],
            [
             0.4444444444444444,
             "#bd3786"
            ],
            [
             0.5555555555555556,
             "#d8576b"
            ],
            [
             0.6666666666666666,
             "#ed7953"
            ],
            [
             0.7777777777777778,
             "#fb9f3a"
            ],
            [
             0.8888888888888888,
             "#fdca26"
            ],
            [
             1,
             "#f0f921"
            ]
           ],
           "sequentialminus": [
            [
             0,
             "#0d0887"
            ],
            [
             0.1111111111111111,
             "#46039f"
            ],
            [
             0.2222222222222222,
             "#7201a8"
            ],
            [
             0.3333333333333333,
             "#9c179e"
            ],
            [
             0.4444444444444444,
             "#bd3786"
            ],
            [
             0.5555555555555556,
             "#d8576b"
            ],
            [
             0.6666666666666666,
             "#ed7953"
            ],
            [
             0.7777777777777778,
             "#fb9f3a"
            ],
            [
             0.8888888888888888,
             "#fdca26"
            ],
            [
             1,
             "#f0f921"
            ]
           ]
          },
          "colorway": [
           "#636efa",
           "#EF553B",
           "#00cc96",
           "#ab63fa",
           "#FFA15A",
           "#19d3f3",
           "#FF6692",
           "#B6E880",
           "#FF97FF",
           "#FECB52"
          ],
          "font": {
           "color": "#2a3f5f"
          },
          "geo": {
           "bgcolor": "white",
           "lakecolor": "white",
           "landcolor": "#E5ECF6",
           "showlakes": true,
           "showland": true,
           "subunitcolor": "white"
          },
          "hoverlabel": {
           "align": "left"
          },
          "hovermode": "closest",
          "mapbox": {
           "style": "light"
          },
          "paper_bgcolor": "white",
          "plot_bgcolor": "#E5ECF6",
          "polar": {
           "angularaxis": {
            "gridcolor": "white",
            "linecolor": "white",
            "ticks": ""
           },
           "bgcolor": "#E5ECF6",
           "radialaxis": {
            "gridcolor": "white",
            "linecolor": "white",
            "ticks": ""
           }
          },
          "scene": {
           "xaxis": {
            "backgroundcolor": "#E5ECF6",
            "gridcolor": "white",
            "gridwidth": 2,
            "linecolor": "white",
            "showbackground": true,
            "ticks": "",
            "zerolinecolor": "white"
           },
           "yaxis": {
            "backgroundcolor": "#E5ECF6",
            "gridcolor": "white",
            "gridwidth": 2,
            "linecolor": "white",
            "showbackground": true,
            "ticks": "",
            "zerolinecolor": "white"
           },
           "zaxis": {
            "backgroundcolor": "#E5ECF6",
            "gridcolor": "white",
            "gridwidth": 2,
            "linecolor": "white",
            "showbackground": true,
            "ticks": "",
            "zerolinecolor": "white"
           }
          },
          "shapedefaults": {
           "line": {
            "color": "#2a3f5f"
           }
          },
          "ternary": {
           "aaxis": {
            "gridcolor": "white",
            "linecolor": "white",
            "ticks": ""
           },
           "baxis": {
            "gridcolor": "white",
            "linecolor": "white",
            "ticks": ""
           },
           "bgcolor": "#E5ECF6",
           "caxis": {
            "gridcolor": "white",
            "linecolor": "white",
            "ticks": ""
           }
          },
          "title": {
           "x": 0.05
          },
          "xaxis": {
           "automargin": true,
           "gridcolor": "white",
           "linecolor": "white",
           "ticks": "",
           "title": {
            "standoff": 15
           },
           "zerolinecolor": "white",
           "zerolinewidth": 2
          },
          "yaxis": {
           "automargin": true,
           "gridcolor": "white",
           "linecolor": "white",
           "ticks": "",
           "title": {
            "standoff": 15
           },
           "zerolinecolor": "white",
           "zerolinewidth": 2
          }
         }
        },
        "title": {
         "text": "Log-Log Plot of number of citations vs. norm_distro"
        },
        "xaxis": {
         "title": {
          "text": "Log of number of citations"
         },
         "type": "linear"
        },
        "yaxis": {
         "title": {
          "text": "Log of norm_distro"
         },
         "type": "linear"
        }
       }
      }
     },
     "metadata": {},
     "output_type": "display_data"
    },
    {
     "ename": "NameError",
     "evalue": "name 'fig' is not defined",
     "output_type": "error",
     "traceback": [
      "\u001b[0;31m---------------------------------------------------------------------------\u001b[0m",
      "\u001b[0;31mNameError\u001b[0m                                 Traceback (most recent call last)",
      "Cell \u001b[0;32mIn[85], line 3\u001b[0m\n\u001b[1;32m      1\u001b[0m norm_dist2 \u001b[38;5;241m=\u001b[39m normalise_in_degree_dist(in_degree_distribution(dpa_graph))\n\u001b[1;32m      2\u001b[0m plot_log_log_graph(norm_dist2)\n\u001b[0;32m----> 3\u001b[0m fig\u001b[38;5;241m.\u001b[39mupdate_layout(\n\u001b[1;32m      4\u001b[0m         title\u001b[38;5;241m=\u001b[39m\u001b[38;5;124m'\u001b[39m\u001b[38;5;124mLog-Log Plot of in degree distribution for DPA graph\u001b[39m\u001b[38;5;124m'\u001b[39m,\n\u001b[1;32m      5\u001b[0m         xaxis_title\u001b[38;5;241m=\u001b[39m\u001b[38;5;124m'\u001b[39m\u001b[38;5;124mLog of number of edges\u001b[39m\u001b[38;5;124m'\u001b[39m,\n\u001b[1;32m      6\u001b[0m         yaxis_title\u001b[38;5;241m=\u001b[39m\u001b[38;5;124m'\u001b[39m\u001b[38;5;124mLog of norm_distro\u001b[39m\u001b[38;5;124m'\u001b[39m\n\u001b[1;32m      7\u001b[0m     )\n",
      "\u001b[0;31mNameError\u001b[0m: name 'fig' is not defined"
     ]
    }
   ],
   "source": [
    "norm_dist2 = normalise_in_degree_dist(in_degree_distribution(dpa_graph))\n",
    "plot_log_log_graph(norm_dist2)\n",
    "fig.update_layout(\n",
    "        title='Log-Log Plot of in degree distribution for DPA graph',\n",
    "        xaxis_title='Log of number of edges',\n",
    "        yaxis_title='Log of norm_distro'\n",
    "    )"
   ]
  }
 ],
 "metadata": {
  "kernelspec": {
   "display_name": "Python 3",
   "language": "python",
   "name": "python3"
  },
  "language_info": {
   "codemirror_mode": {
    "name": "ipython",
    "version": 3
   },
   "file_extension": ".py",
   "mimetype": "text/x-python",
   "name": "python",
   "nbconvert_exporter": "python",
   "pygments_lexer": "ipython3",
   "version": "3.12.4"
  }
 },
 "nbformat": 4,
 "nbformat_minor": 2
}
