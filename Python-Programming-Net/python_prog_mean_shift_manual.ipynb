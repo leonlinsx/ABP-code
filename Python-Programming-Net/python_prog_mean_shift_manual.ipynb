{
 "cells": [
  {
   "cell_type": "markdown",
   "metadata": {},
   "source": [
    "### Imports and get sample data"
   ]
  },
  {
   "cell_type": "code",
   "execution_count": 18,
   "metadata": {},
   "outputs": [],
   "source": [
    "import matplotlib.pyplot as plt\n",
    "from matplotlib import style\n",
    "style.use('ggplot')\n",
    "import numpy as np\n",
    "from sklearn.cluster import KMeans\n",
    "from sklearn.datasets import make_blobs\n",
    "import random\n",
    "\n",
    "centers = random.randrange(2, 5)\n",
    "\n",
    "X, y = make_blobs(n_samples=20, centers=centers, n_features=2)\n",
    "\n",
    "## old sample data\n",
    "# X = np.array([[1, 2],\n",
    "#              [1.5, 1.8],\n",
    "#              [5, 8],\n",
    "#              [8, 8],\n",
    "#              [1, 0.6],\n",
    "#              [9, 11],\n",
    "#              [8, 2],\n",
    "#              [10, 2],\n",
    "#              [9, 3],])\n",
    "# plt.scatter(X[:,0], X[:,1], s=150)\n",
    "# plt.show()\n",
    "\n",
    "# list of colors to use for plotting\n",
    "colors = 10 * [\"g\", \"r\", \"c\", \"b\", \"k\"]"
   ]
  },
  {
   "cell_type": "markdown",
   "metadata": {},
   "source": [
    "### Class, fit, predict modules"
   ]
  },
  {
   "cell_type": "code",
   "execution_count": 19,
   "metadata": {},
   "outputs": [],
   "source": [
    "class Mean_Shift:\n",
    "    def __init__(self, radius=None, radius_norm_step=100):\n",
    "        self.radius = radius\n",
    "        self.radius_norm_step = radius_norm_step\n",
    "        \n",
    "    def fit(self, data):\n",
    "        if self.radius == None:\n",
    "            all_data_centroid = np.average(data, axis=0)  # find center of all data\n",
    "            all_data_norm = np.linalg.norm(all_data_centroid)  # find magnitude of the center\n",
    "            self.radius = all_data_norm / self.radius_norm_step\n",
    "        \n",
    "        centroids = {}\n",
    "        \n",
    "        for i in range(len(data)):\n",
    "            centroids[i] = data[i]\n",
    "        \n",
    "        weights = [i for i in range(self.radius_norm_step)[::-1]]  # get a list from 1 to radius_norm_step, reverse it\n",
    "        \n",
    "        while True:\n",
    "            new_centroids = []\n",
    "            for i in centroids:\n",
    "                in_bandwidth = []\n",
    "                centroid = centroids[i]\n",
    "                \n",
    "                for featureset in data:\n",
    "                    distance = np.linalg.norm(featureset - centroid)\n",
    "                    if distance == 0:\n",
    "                        distance = 0.0000001\n",
    "                    # more steps that we have to take, that's further, lower weight\n",
    "                    weight_index = int(distance / self.radius)  \n",
    "                    # if weight is > max range, assign it to max range\n",
    "                    if weight_index > self.radius_norm_step - 1:\n",
    "                        weight_index = self.radius_norm_step - 1\n",
    "                    # squaring weight and multiplying against feature\n",
    "                    # probably area for improvement\n",
    "                    to_add = (weights[weight_index] ** 2) * [featureset]\n",
    "                    # add two lists\n",
    "                    in_bandwidth += to_add\n",
    "                    \n",
    "#                     if np.linalg.norm(featureset - centroid) < self.radius:\n",
    "#                         in_bandwidth.append(featureset)\n",
    "                        \n",
    "                new_centroid = np.average(in_bandwidth, axis=0)\n",
    "                new_centroids.append(tuple(new_centroid))  # convert array to tuple for use later\n",
    "                \n",
    "            uniques = sorted(list(set(new_centroids)))  # can get set of tuple but not np array\n",
    "            \n",
    "            to_pop = []\n",
    "            \n",
    "            # for the sorted list of unique new centroids, want to see if any are really close but not exactly\n",
    "            # want to get rid of those that are, since only want one centroid in an area\n",
    "            # check if in to pop\n",
    "            # check if next centroid is equal to prev\n",
    "            for i in uniques:\n",
    "                # not inspecting centroids in radius i, since i will be popped. break, don't pass\n",
    "                if i in to_pop: \n",
    "                    break\n",
    "                for ii in uniques:\n",
    "                    if i == ii:\n",
    "                        pass\n",
    "                    # if centroids are close enough, add them to to_pop, to remove later\n",
    "                    elif np.linalg.norm(np.array(i) - np.array(ii)) <= self.radius and ii not in to_pop:\n",
    "                        to_pop.append(ii)\n",
    "            \n",
    "            for i in to_pop:\n",
    "                uniques.remove(i)\n",
    "            \n",
    "            prev_centroids = dict(centroids)\n",
    "            \n",
    "            centroids = {}\n",
    "            for i in range(len(uniques)):\n",
    "                centroids[i] = np.array(uniques[i])  # centroids are also ordered since uniques is ordered\n",
    "                \n",
    "            optimized = True\n",
    "            \n",
    "            for i in centroids:\n",
    "                if not np.array_equal(centroids[i], prev_centroids[i]):\n",
    "                    optimized = False\n",
    "                    \n",
    "                if not optimized:\n",
    "                    break\n",
    "            \n",
    "            if optimized:\n",
    "                break\n",
    "                \n",
    "        self.centroids = centroids\n",
    "        \n",
    "        self.classifications = {}\n",
    "        \n",
    "        for i in range(len(self.centroids)):\n",
    "            self.classifications[i] = []\n",
    "            \n",
    "        for featureset in data:\n",
    "            distances = [np.linalg.norm(featureset - self.centroids[centroid]) for centroid in self.centroids]\n",
    "            classification = distances.index(min(distances))  # index of whichever centroid has min distance to the feature\n",
    "            self.classifications[classification].append(featureset)  # add that feature to the dictionary as a value to the centroid key\n",
    "        \n",
    "    def predict(self, data):\n",
    "        distances = [np.linalg.norm(featureset - self.centroids[centroid]) for centroid in self.centroids]\n",
    "        classification = distances.index(min(distance)) \n",
    "        return classification"
   ]
  },
  {
   "cell_type": "markdown",
   "metadata": {},
   "source": [
    "### Create and test algo"
   ]
  },
  {
   "cell_type": "code",
   "execution_count": 20,
   "metadata": {},
   "outputs": [
    {
     "data": {
      "image/png": "[encoded data removed]",
      "text/plain": [
       "<Figure size 432x288 with 1 Axes>"
      ]
     },
     "metadata": {},
     "output_type": "display_data"
    }
   ],
   "source": [
    "clf = Mean_Shift()\n",
    "clf.fit(X)\n",
    "\n",
    "centroids = clf.centroids\n",
    "\n",
    "for classification in clf.classifications:\n",
    "    color = colors[classification]\n",
    "    for featureset in clf.classifications[classification]:\n",
    "        plt.scatter(featureset[0], featureset[1], marker='x', color=color, s=150)\n",
    "\n",
    "# plt.scatter(X[:,0], X[:,1], s=150)\n",
    "\n",
    "for c in centroids:\n",
    "    plt.scatter(centroids[c][0], centroids[c][1], color='k', marker='*', s=150)\n",
    "\n",
    "plt.show()"
   ]
  }
 ],
 "metadata": {
  "kernelspec": {
   "display_name": "Python 3",
   "language": "python",
   "name": "python3"
  },
  "language_info": {
   "codemirror_mode": {
    "name": "ipython",
    "version": 3
   },
   "file_extension": ".py",
   "mimetype": "text/x-python",
   "name": "python",
   "nbconvert_exporter": "python",
   "pygments_lexer": "ipython3",
   "version": "3.7.6"
  }
 },
 "nbformat": 4,
 "nbformat_minor": 4
}
