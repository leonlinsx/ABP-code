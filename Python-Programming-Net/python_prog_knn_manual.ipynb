{
 "cells": [
  {
   "cell_type": "markdown",
   "metadata": {},
   "source": [
    "### Imports"
   ]
  },
  {
   "cell_type": "code",
   "execution_count": 19,
   "metadata": {},
   "outputs": [],
   "source": [
    "import numpy as np\n",
    "from math import sqrt\n",
    "import matplotlib.pyplot as plt\n",
    "import warnings\n",
    "from matplotlib import style\n",
    "from collections import Counter\n",
    "import pandas as pd\n",
    "import random\n",
    "style.use('fivethirtyeight')"
   ]
  },
  {
   "cell_type": "markdown",
   "metadata": {},
   "source": [
    "### KNN function"
   ]
  },
  {
   "cell_type": "code",
   "execution_count": 20,
   "metadata": {},
   "outputs": [],
   "source": [
    "def k_nearest_neighbors(data, predict, k=3):\n",
    "    if len(data) >= k:\n",
    "        warnings.warn('K is set to a value less than total voting groups!')\n",
    "        \n",
    "    distances = []\n",
    "    for group in data:\n",
    "        for features in data[group]:\n",
    "            # calc distance of predicted data vs all groups' data points\n",
    "            euclidean_distance = np.linalg.norm(np.array(features) - np.array(predict))  \n",
    "            distances.append([euclidean_distance, group])    \n",
    "#     print(distances)\n",
    "    \n",
    "    votes = [i[1] for i in sorted(distances)[:k]]  # sort and only get top k nearest groups\n",
    "#     print(Counter(votes).most_common(1))  \n",
    "    vote_result = Counter(votes).most_common(1)[0][0]  # returns list of most common element, and the count\n",
    "    confidence = Counter(votes).most_common(1)[0][1] / k  # count of votes over k number of groups\n",
    "    return vote_result, confidence"
   ]
  },
  {
   "cell_type": "markdown",
   "metadata": {},
   "source": [
    "### small sample data generation"
   ]
  },
  {
   "cell_type": "code",
   "execution_count": 21,
   "metadata": {},
   "outputs": [],
   "source": [
    "# dataset = {'k':[[1, 2], [2, 3], [3, 1]], 'r':[[6, 5], [7, 7], [8, 6]]}\n",
    "# new_features = [5, 7]\n",
    "# #visualising the dataset\n",
    "# for i in dataset:\n",
    "#     for ii in dataset[i]:\n",
    "#         plt.scatter(ii[0], ii[1], s=100, color=i)\n",
    "# #alternatively\n",
    "# [[plt.scatter(ii[0], ii[1], s=100, color=i) for  ii in dataset[i]] for i in dataset]\n",
    "# #plt.show()\n",
    "# result = k_nearest_neighbors(dataset, new_features, k=3)\n",
    "# print(result)"
   ]
  },
  {
   "cell_type": "markdown",
   "metadata": {},
   "source": [
    "### large sample data generation"
   ]
  },
  {
   "cell_type": "code",
   "execution_count": 22,
   "metadata": {},
   "outputs": [],
   "source": [
    "# https://archive.ics.uci.edu/ml/datasets/Breast+Cancer+Wisconsin+%28Original%29\n",
    "df = pd.read_csv('breast-cancer-wisconsin.data')\n",
    "df.replace('?', -99999, inplace=True)  # dataset uses ? for missing vals\n",
    "df.drop(['id'], 1, inplace=True)  # id isn't a valid DV\n",
    "full_data = df.astype(float).values.tolist()  # convert any str values (dataset unclean)\n",
    "random.shuffle(full_data)"
   ]
  },
  {
   "cell_type": "markdown",
   "metadata": {},
   "source": [
    "### Train test split"
   ]
  },
  {
   "cell_type": "code",
   "execution_count": 23,
   "metadata": {},
   "outputs": [],
   "source": [
    "test_size = 0.2\n",
    "train_set = {2:[], 4:[]}\n",
    "test_set = {2:[], 4:[]}\n",
    "train_data = full_data[:-int(test_size * len(full_data))]  # cut off training data\n",
    "test_data = full_data[int(test_size * len(full_data)):]  # cut off test data\n",
    "\n",
    "# i[-1] is the last col for each row, which is the IV(label) being predicted, returns either 2 or 4 for the cancer\n",
    "# appends all the other columns for that row, to the dictionary which is either 2 or 4 i[-1]\n",
    "for i in train_data:\n",
    "    train_set[i[-1]].append(i[:-1])\n",
    "for i in test_data:\n",
    "    test_set[i[-1]].append(i[:-1])"
   ]
  },
  {
   "cell_type": "markdown",
   "metadata": {},
   "source": [
    "### Run KNN"
   ]
  },
  {
   "cell_type": "code",
   "execution_count": 31,
   "metadata": {},
   "outputs": [
    {
     "name": "stdout",
     "output_type": "stream",
     "text": [
      "0.6\n",
      "0.8\n",
      "0.6\n",
      "0.8\n",
      "0.6\n",
      "1.0\n",
      "1.0\n",
      "0.6\n",
      "0.6\n",
      "0.8\n",
      "0.6\n",
      "0.6\n",
      "0.8\n",
      "Accuracy: 0.9767857142857143\n",
      "547\n",
      "13\n"
     ]
    }
   ],
   "source": [
    "correct = 0\n",
    "total = 0\n",
    "incorrect = 0\n",
    "\n",
    "for group in test_set:\n",
    "    for data in test_set[group]:\n",
    "        vote, confidence = k_nearest_neighbors(train_set, data, k=5)\n",
    "        if group == vote:\n",
    "            correct += 1\n",
    "        else: \n",
    "            print(confidence)\n",
    "        total += 1\n",
    "\n",
    "print('Accuracy:', float(correct)/total)"
   ]
  }
 ],
 "metadata": {
  "kernelspec": {
   "display_name": "Python 3",
   "language": "python",
   "name": "python3"
  },
  "language_info": {
   "codemirror_mode": {
    "name": "ipython",
    "version": 3
   },
   "file_extension": ".py",
   "mimetype": "text/x-python",
   "name": "python",
   "nbconvert_exporter": "python",
   "pygments_lexer": "ipython3",
   "version": "3.7.6"
  }
 },
 "nbformat": 4,
 "nbformat_minor": 4
}
