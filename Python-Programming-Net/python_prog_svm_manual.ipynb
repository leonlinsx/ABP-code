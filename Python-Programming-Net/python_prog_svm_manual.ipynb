{
 "cells": [
  {
   "cell_type": "markdown",
   "metadata": {},
   "source": [
    "### Create SVM class with fit, predict, visualise"
   ]
  },
  {
   "cell_type": "code",
   "execution_count": 70,
   "metadata": {},
   "outputs": [],
   "source": [
    "import matplotlib.pyplot as plt\n",
    "from matplotlib import style\n",
    "import numpy as np\n",
    "style.use('ggplot')\n",
    "\n",
    "class Support_Vector_Machine:\n",
    "    def __init__(self, visualization=True):\n",
    "        self.visualization = visualization\n",
    "        self.colors = {1: 'r', -1: 'b'}\n",
    "        if self.visualization:\n",
    "            self.fig = plt.figure()\n",
    "            # https://stackoverflow.com/a/3584933/13944490\n",
    "            # 1x1 grid, first subplot\n",
    "            self.ax = self.fig.add_subplot(1, 1, 1)\n",
    "        # think self.data is needed here for visualise method to work\n",
    "        self.data = {}\n",
    "        # unsures if self.w and self.b do anything here, had hoped they fixed the visualise method for new predictions\n",
    "        self.w = 0\n",
    "        self.b = 0\n",
    "            \n",
    "    def fit(self, data):\n",
    "        # pass in a dictionary of -1 and 1 examples\n",
    "        self.data = data\n",
    "        # { ||w|| : [w, b] } dictionary. As we step down w vector, find the largest b that satisfies\n",
    "        # then choose lowest key value of ||w||\n",
    "        opt_dict = {}\n",
    "        \n",
    "        transforms = [[1, 1],\n",
    "                     [-1, 1],\n",
    "                     [-1, -1],\n",
    "                     [1, -1]]\n",
    "        \n",
    "        # find values to work with for ranges in the training dataset\n",
    "        all_data = []\n",
    "        for yi in self.data:\n",
    "            for featureset in self.data[yi]:\n",
    "                for feature in featureset:\n",
    "                    all_data.append(feature)\n",
    "                    \n",
    "        self.max_feature_value = max(all_data)\n",
    "        self.min_feature_value = min(all_data)\n",
    "        # no need to keep in memory\n",
    "        all_data = None\n",
    "        \n",
    "        # take big steps at first, then step down\n",
    "        # you will know you have good w and b values when in both +ve and -ve classes yi(xi.w + b) is close to 1\n",
    "        step_sizes = [self.max_feature_value * 0.1,\n",
    "                     self.max_feature_value * 0.01,\n",
    "                     # point of expense:\n",
    "                     self.max_feature_value * 0.001,\n",
    "                     ] \n",
    "        \n",
    "        # b doesn't need as precise steps as w\n",
    "        b_range_multiple = 5\n",
    "        b_multiple = 5\n",
    "        \n",
    "        latest_optimum = self.max_feature_value * 10\n",
    "        \n",
    "        for step in step_sizes:\n",
    "            # having w be same dimension is an additional constraint in this manual implementation\n",
    "            # will give non optimal boundaries, SVM of only 45 degree angles\n",
    "            w = np.array([latest_optimum, latest_optimum])\n",
    "            optimized = False\n",
    "            while not optimized:\n",
    "                for b in np.arange(-1 * (self.max_feature_value * b_range_multiple),\n",
    "                                  self.max_feature_value * b_range_multiple,\n",
    "                                  step * b_multiple):\n",
    "                    for transformation in transforms:\n",
    "                        w_t = w * transformation\n",
    "                        found_option = True\n",
    "                        # weakest link in SVM fundamentally, have to run this calc on all data\n",
    "                        # checking if yi(xi.w + b) >= 1 \n",
    "                        for i in self.data:\n",
    "                            for xi in self.data[i]:\n",
    "                                yi = i \n",
    "                                if not yi * (np.dot(w_t, xi) + b) >= 1:\n",
    "                                    found_option = False\n",
    "                        if found_option:\n",
    "                            opt_dict[np.linalg.norm(w_t)] = [w_t, b]\n",
    "                \n",
    "                if w[0] < 0:\n",
    "                    optimized = True\n",
    "                    print(\"Optimized a step.\")\n",
    "                else:\n",
    "                    w = w - [step, step]\n",
    "            \n",
    "            # sorted list of all magnitudes found for the options\n",
    "            norms = sorted([n for n in opt_dict])\n",
    "            # { ||w|| : [w, b] } dictionary to get the w and b values\n",
    "            opt_choice = opt_dict[norms[0]]\n",
    "            self.w = opt_choice[0]\n",
    "            self.b = opt_choice[1]\n",
    "            \n",
    "            latest_optimum = opt_choice[0][0] + step * 2\n",
    "        \n",
    "#         # check values\n",
    "#         for i in self.data:\n",
    "#             for xi in self.data[i]:\n",
    "#                 yi = i\n",
    "#                 print(xi, ':', yi * (np.dot(self.w, xi) + self.b))        \n",
    "    \n",
    "    def predict(self, features):\n",
    "        # get sign of x . w + b\n",
    "        classification = np.sign(np.dot(np.array(features), self.w) + self.b)\n",
    "        if classification != 0 and self.visualization:\n",
    "            self.ax.scatter(features[0], features[1], s=200, marker=\"*\", c=self.colors[classification])\n",
    "        return classification\n",
    "    \n",
    "    def visualize(self):\n",
    "        [[self.ax.scatter(x[0], x[1], s=100, color=self.colors[i]) for x in self.data[i]] for i in self.data]\n",
    "        \n",
    "        # hyperplane = x.w + b For example v = x.w + b\n",
    "        # +ve v = 1; -ve v = -1; decision boundary = 0\n",
    "        # just for human visualisation sake\n",
    "        # x, y is unknown point on hyperplane\n",
    "        # x_v and w_v are vectors\n",
    "        # x_v = [x, y]\n",
    "        # [x, y].w_v + b = 1 for +ve examples\n",
    "        # x.w[0] + y.w[1] + b = 1 for +ve examples\n",
    "        # y = (-x.w[0] - b + 1) / w[1] for +ve examples\n",
    "        def hyperplane(x, w, b, v):\n",
    "            return (-x * w[0] - b + v) / w[1]\n",
    "        \n",
    "        # get a slightly larger plot area than features so easier to see all of them\n",
    "        datarange = (self.min_feature_value * 0.9, self.max_feature_value * 1.1)\n",
    "        \n",
    "        hyp_x_min = datarange[0]\n",
    "        hyp_x_max = datarange[1]\n",
    "        \n",
    "        # positive support vector hyperplane\n",
    "        psv1 = hyperplane(hyp_x_min, self.w, self.b, 1)\n",
    "        psv2 = hyperplane(hyp_x_max, self.w, self.b, 1)\n",
    "        self.ax.plot([hyp_x_min, hyp_x_max], [psv1, psv2], 'k')\n",
    "        \n",
    "        # negative support vector hyperplane\n",
    "        nsv1 = hyperplane(hyp_x_min, self.w, self.b, -1)\n",
    "        nsv2 = hyperplane(hyp_x_max, self.w, self.b, -1)\n",
    "        self.ax.plot([hyp_x_min, hyp_x_max], [nsv1, nsv2], 'k')\n",
    "        \n",
    "        # zero decision boundary hyperplane\n",
    "        db1 = hyperplane(hyp_x_min, self.w, self.b, 0)\n",
    "        db2 = hyperplane(hyp_x_max, self.w, self.b, 0)\n",
    "        self.ax.plot([hyp_x_min, hyp_x_max], [db1, db2], 'y--')\n",
    "        \n",
    "        plt.show()"
   ]
  },
  {
   "cell_type": "markdown",
   "metadata": {},
   "source": [
    "### Sample data to fit and predict SVM"
   ]
  },
  {
   "cell_type": "code",
   "execution_count": 71,
   "metadata": {},
   "outputs": [
    {
     "name": "stdout",
     "output_type": "stream",
     "text": [
      "Optimized a step.\n",
      "Optimized a step.\n",
      "Optimized a step.\n"
     ]
    },
    {
     "data": {
      "image/png": "[encoded data removed]",
      "text/plain": [
       "<Figure size 432x288 with 1 Axes>"
      ]
     },
     "metadata": {},
     "output_type": "display_data"
    }
   ],
   "source": [
    "data_dict = {-1:np.array([[1, 7],\n",
    "                          [2, 8],\n",
    "                          [3, 8],]),\n",
    "             1:np.array([[5, 1],\n",
    "                        [6, -1],\n",
    "                        [7, 3],])}\n",
    "\n",
    "svm = Support_Vector_Machine()\n",
    "svm.fit(data=data_dict)\n",
    "\n",
    "# predict sample data\n",
    "# unsure why this doesn't work outside of this code block; can't seem to visualize again\n",
    "predict_us = [[0, 10],\n",
    "             [1, 3],\n",
    "             [3, 4],\n",
    "             [3, 5],\n",
    "             [5, 5],\n",
    "             [5, 6],\n",
    "             [6, -5],\n",
    "             [5, 8]]\n",
    "\n",
    "for p in predict_us:\n",
    "    svm.predict(p)\n",
    "\n",
    "svm.visualize()"
   ]
  },
  {
   "cell_type": "code",
   "execution_count": 72,
   "metadata": {},
   "outputs": [
    {
     "data": {
      "text/plain": [
       "-1.0"
      ]
     },
     "execution_count": 72,
     "metadata": {},
     "output_type": "execute_result"
    }
   ],
   "source": [
    "svm.predict([5, 20])"
   ]
  }
 ],
 "metadata": {
  "kernelspec": {
   "display_name": "Python 3",
   "language": "python",
   "name": "python3"
  },
  "language_info": {
   "codemirror_mode": {
    "name": "ipython",
    "version": 3
   },
   "file_extension": ".py",
   "mimetype": "text/x-python",
   "name": "python",
   "nbconvert_exporter": "python",
   "pygments_lexer": "ipython3",
   "version": "3.7.6"
  }
 },
 "nbformat": 4,
 "nbformat_minor": 4
}
