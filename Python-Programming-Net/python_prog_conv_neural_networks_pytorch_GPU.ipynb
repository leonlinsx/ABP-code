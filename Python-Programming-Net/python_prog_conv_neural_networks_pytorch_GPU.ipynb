{
 "cells": [
  {
   "cell_type": "markdown",
   "metadata": {},
   "source": [
    "### Conv neural network w/ pytorch and GPU"
   ]
  },
  {
   "cell_type": "code",
   "execution_count": 67,
   "metadata": {},
   "outputs": [],
   "source": [
    "# https://pythonprogramming.net/introduction-deep-learning-neural-network-pytorch/\n",
    "import os\n",
    "import cv2\n",
    "import numpy as np\n",
    "# notebook for lab instead of tqdm which is more for terminal apps; still having issues though\n",
    "# https://pypi.org/project/tqdm/#ipython-jupyter-integration\n",
    "# https://tqdm.github.io/docs/notebook/\n",
    "from tqdm.notebook import trange, tqdm\n",
    "import torch\n",
    "import torch.nn as nn\n",
    "import torch.nn.functional as F\n",
    "import torch.optim as optim\n",
    "import time\n",
    "import matplotlib.pyplot as plt\n",
    "from matplotlib import style\n",
    "\n",
    "style.use(\"ggplot\")\n",
    "\n",
    "model_name = \"model-X\"  # grab whatever model you want to end up plotting"
   ]
  },
  {
   "cell_type": "code",
   "execution_count": 68,
   "metadata": {},
   "outputs": [],
   "source": [
    "REBUILD_DATA = False  # set to True for 1st run\n",
    "\n",
    "class DogsVSCats():\n",
    "    IMG_SIZE = 50\n",
    "    CATS = \"kagglecatsanddogs_3367a/PetImages/Cat\"\n",
    "    DOGS = \"kagglecatsanddogs_3367a/PetImages/Dog\"\n",
    "    TESTING = \"kagglecatsanddogs_3367a/PetImages/Testing\"\n",
    "    LABELS = {CATS:0, DOGS:1}\n",
    "    training_data = []\n",
    "    \n",
    "    # use as counter while appending data, use to check for balance\n",
    "    catcount = 0\n",
    "    dogcount = 0\n",
    "    \n",
    "    def make_training_data(self):\n",
    "        # iterate over directories, which were given in full by the LABELS dictionary\n",
    "        for label in self.LABELS:\n",
    "            print(label)\n",
    "            # get the file by iterating though all the files in that label's directory (listdir lists all files)\n",
    "            # tqdm shows progress bar\n",
    "            for f in tqdm(os.listdir(label)):\n",
    "                # some files are not jpg images\n",
    "                if \"jpg\" in f:\n",
    "                    try:\n",
    "                        path = os.path.join(label, f)  # get full path for the file\n",
    "                        img = cv2.imread(path, cv2.IMREAD_GRAYSCALE)  # grayscale to make simpler for neural net\n",
    "                        img = cv2.resize(img, (self.IMG_SIZE, self.IMG_SIZE))\n",
    "                        # np.eye creates identity matrix, taking the ith row of the matrix is like one hot encoding\n",
    "                        self.training_data.append([np.array(img), np.eye(len(LABELS))[self.LABELS[label]]])\n",
    "\n",
    "                        if label == self.CATS:\n",
    "                            self.catcount += 1\n",
    "                        elif label == self.DOGS:\n",
    "                            self.dogcount += 1\n",
    "\n",
    "                    # if images have issues\n",
    "                    except Exception as e:\n",
    "                        pass\n",
    "                        # print(str(e))\n",
    "\n",
    "        np.random.shuffle(self.training_data)\n",
    "        np.save(\"training_data.npy\", self.training_data)\n",
    "        print(\"Cats:\", self.catcount)\n",
    "        print(\"Dogs:\", self.dogcount)"
   ]
  },
  {
   "cell_type": "code",
   "execution_count": 69,
   "metadata": {},
   "outputs": [],
   "source": [
    "class Net(nn.Module):\n",
    "    def __init__(self):\n",
    "        super().__init__()  # just run the init of parent class (nn.Module) https://realpython.com/python-super/\n",
    "        # these are 2d layers but pytorch can take any dimensions\n",
    "        self.conv1 = nn.Conv2d(1, 32, 5)  # input is 1 image, 32 output channels 5 is the kernel size\n",
    "        self.conv2 = nn.Conv2d(32, 64, 5)  # based on 1st layer, then we decide output gets 64 channels\n",
    "        self.conv3 = nn.Conv2d(64, 128, 5)\n",
    "        \n",
    "        x = torch.randn(50, 50).view(-1, 1, 50, 50)\n",
    "        self._to_linear = None\n",
    "        self.convs(x)\n",
    "        \n",
    "        # old version of pytorch didn't have flatten function\n",
    "        self.fc1 = nn.Linear(self._to_linear, 512)  # need to get the right size for input\n",
    "        self.fc2 = nn.Linear(512, 2)  # 2 classes of cats and dogs\n",
    "    \n",
    "    def convs(self, x):\n",
    "        x = F.max_pool2d(F.relu(self.conv1(x)), (2, 2))  # shape of pooling is 2x2\n",
    "        x = F.max_pool2d(F.relu(self.conv2(x)), (2, 2))\n",
    "        x = F.max_pool2d(F.relu(self.conv3(x)), (2, 2))\n",
    "        \n",
    "        # print(x[0].shape) # returns torch.Size([128, 2, 2])\n",
    "        if self._to_linear is None:\n",
    "            self._to_linear = x[0].shape[0] * x[0].shape[1] * x[0].shape[2]  # set the input if not already done \n",
    "        return x\n",
    "    \n",
    "    def forward(self, x):\n",
    "        x = self.convs(x)\n",
    "        x = x.view(-1, self._to_linear)\n",
    "        x = F.relu(self.fc1(x))\n",
    "        x = self.fc2(x)\n",
    "        return F.softmax(x, dim=1)  # x is a batch of x's,  "
   ]
  },
  {
   "cell_type": "markdown",
   "metadata": {},
   "source": [
    "### GPU implementation"
   ]
  },
  {
   "cell_type": "code",
   "execution_count": 70,
   "metadata": {},
   "outputs": [
    {
     "name": "stdout",
     "output_type": "stream",
     "text": [
      "running on the CPU\n"
     ]
    }
   ],
   "source": [
    "# tensors on GPU can only interact w/ tensors on GPU\n",
    "# have to send to device, but that takes time\n",
    "# also can't send everything at once since will take up all of GPU\n",
    "\n",
    "torch.cuda.is_available()\n",
    "torch.cuda.device_count()  # some may have more than 1 gpu\n",
    "\n",
    "if torch.cuda.is_available():\n",
    "    device = torch.device(\"cuda:0\")\n",
    "    print(\"running on the GPU\")\n",
    "else:\n",
    "    device = torch.device(\"cpu\")\n",
    "    print(\"running on the CPU\")"
   ]
  },
  {
   "cell_type": "code",
   "execution_count": 71,
   "metadata": {},
   "outputs": [],
   "source": [
    "MODEL_NAME = f\"model-{int(time.time())}\"  # gives dynamic model name \n",
    "    \n",
    "net = Net().to(device)\n",
    "optimizer = optim.Adam(net.parameters(), lr=0.001)\n",
    "loss_function = nn.MSELoss()\n",
    "\n",
    "if REBUILD_DATA:\n",
    "    dogsvcats = DogsVSCats()\n",
    "    dogsvcats.make_training_data()"
   ]
  },
  {
   "cell_type": "markdown",
   "metadata": {},
   "source": [
    "### Visualise training data"
   ]
  },
  {
   "cell_type": "code",
   "execution_count": 72,
   "metadata": {},
   "outputs": [
    {
     "name": "stdout",
     "output_type": "stream",
     "text": [
      "24946\n",
      "[array([[51, 49, 49, ...,  6,  6,  7],\n",
      "       [72, 72, 65, ...,  6,  6,  7],\n",
      "       [59, 72, 80, ...,  7,  7,  8],\n",
      "       ...,\n",
      "       [14, 24, 23, ..., 44, 37, 39],\n",
      "       [80, 26, 38, ..., 38, 35, 38],\n",
      "       [99, 73, 27, ...,  4,  3, 38]], dtype=uint8)\n",
      " array([1., 0.])]\n",
      "[array([[ 35,  47,  85, ..., 105, 105,  97],\n",
      "       [ 59,  59,  79, ...,   9,  20, 100],\n",
      "       [151, 151, 152, ...,  62,  15,  82],\n",
      "       ...,\n",
      "       [ 92,  85,  61, ..., 115, 116, 114],\n",
      "       [ 94,  59, 108, ..., 115, 111, 108],\n",
      "       [ 65,  93, 107, ..., 107, 110, 108]], dtype=uint8)\n",
      " array([0., 1.])]\n"
     ]
    },
    {
     "data": {
      "image/png": "[encoded data removed]",
      "text/plain": [
       "<Figure size 432x288 with 1 Axes>"
      ]
     },
     "metadata": {},
     "output_type": "display_data"
    }
   ],
   "source": [
    "training_data = np.load(\"training_data.npy\", allow_pickle=True)\n",
    "\n",
    "# training_data[i] is the ith row of a feature and a one-hot encoded label\n",
    "# training_data[i][0] is the feature; [i][1] is the label\n",
    "print(len(training_data))\n",
    "print(training_data[0])\n",
    "print(training_data[1])\n",
    "\n",
    "import matplotlib.pyplot as plt\n",
    "\n",
    "plt.imshow(training_data[1][0], cmap=\"gray\")\n",
    "plt.show()"
   ]
  },
  {
   "cell_type": "markdown",
   "metadata": {},
   "source": [
    "### Train test split"
   ]
  },
  {
   "cell_type": "code",
   "execution_count": 73,
   "metadata": {},
   "outputs": [
    {
     "name": "stdout",
     "output_type": "stream",
     "text": [
      "2494\n"
     ]
    }
   ],
   "source": [
    "X = torch.Tensor([i[0] for i in training_data]).view(-1, 50, 50)\n",
    "X = X / 255.0  # scaling the imagery since pixel values between 0 and 255\n",
    "y = torch.Tensor([i[1] for i in training_data])\n",
    "\n",
    "VAL_PCT = 0.1\n",
    "val_size = int(len(X) * VAL_PCT)\n",
    "print(val_size)"
   ]
  },
  {
   "cell_type": "code",
   "execution_count": 74,
   "metadata": {},
   "outputs": [
    {
     "name": "stdout",
     "output_type": "stream",
     "text": [
      "22452\n",
      "2494\n"
     ]
    }
   ],
   "source": [
    "train_X = X[:-val_size]\n",
    "train_y = y[:-val_size]\n",
    "\n",
    "test_X = X[-val_size:]\n",
    "test_y = y[-val_size:]\n",
    "\n",
    "print(len(train_X))\n",
    "print(len(test_X))"
   ]
  },
  {
   "cell_type": "markdown",
   "metadata": {},
   "source": [
    "### Train function"
   ]
  },
  {
   "cell_type": "code",
   "execution_count": 75,
   "metadata": {},
   "outputs": [],
   "source": [
    "BATCH_SIZE = 100  # if getting memory error, this is easiest to change\n",
    "EPOCHS = 1\n",
    "\n",
    "# tqdm is progress bar\n",
    "def train(net):\n",
    "    \n",
    "    with open(\"model.log\", \"a\") as f:\n",
    "    \n",
    "        for epoch in tqdm(range(EPOCHS)):\n",
    "            # split data starting from 0 to len(), in steps of BATCH_SIZE\n",
    "            for i in tqdm(range(0, len(train_X), BATCH_SIZE), leave=False):\n",
    "                # print(i, i + BATCH_SIZE)\n",
    "                batch_X = train_X[i: i + BATCH_SIZE].view(-1, 1, 50, 50)\n",
    "                batch_y = train_y[i: i + BATCH_SIZE]\n",
    "\n",
    "                batch_X, batch_y = batch_X.to(device), batch_y.to(device)\n",
    "\n",
    "                acc, loss = fwd_pass(batch_X, batch_y, train=True)\n",
    "\n",
    "                # print(f\"Acc: {round(float(acc, 2))}   Loss: {round(float(loss), 4)}\"\")\n",
    "                \n",
    "                f.write(f\"{MODEL_NAME}, {round(time.time(), 3)}, in_sample, {round(float(acc), 2)}, {round(float(loss), 4)} \\n\")\n",
    "\n",
    "                # testing purposes\n",
    "                # if i == 5:\n",
    "                #    break\n",
    "                \n",
    "                # don't want to show logging for every feature, just for every X features to plot accuracy and loss over time\n",
    "                if i % 10 == 0:\n",
    "                    val_acc, val_loss = test(size=100)\n",
    "                    f.write(f\"{MODEL_NAME}, {round(time.time(), 3)}, {round(float(acc), 2)}, {round(float(loss), 4)}, {round(float(val_acc), 2)}, {round(float(val_loss), 4)} \\n\")\n",
    "\n",
    "                break\n",
    "            \n",
    "# older less elegant code            \n",
    "#             net.zero_grad()  # zero gradients\n",
    "#             outputs = net(batch_X)\n",
    "            \n",
    "#             # take the argmax of each comparable entry for outputted values vs original batch\n",
    "#             # if match, the ouputtted value is correct\n",
    "#             matches = [torch.argmax(i) == torch.argmax(j) for i, j in zip(outputs, batch_y)]\n",
    "#             in_sample_acc = matches.count(True) / len(matches)\n",
    "            \n",
    "#             loss = loss_function(outputs, batch_y)\n",
    "#             loss.backward()\n",
    "#             optimizer.step()  # does the update\n",
    "\n",
    "#         print(loss)\n",
    "#         print(\"In-sample acc:\", round(in_sample_acc, 2))"
   ]
  },
  {
   "cell_type": "markdown",
   "metadata": {},
   "source": [
    "### Test function"
   ]
  },
  {
   "cell_type": "code",
   "execution_count": 76,
   "metadata": {},
   "outputs": [],
   "source": [
    "# def test(net):\n",
    "#     correct = 0 \n",
    "#     total = 0\n",
    "#     with torch.no_grad():\n",
    "#         for i in tqdm(range(len(test_X))):\n",
    "#             # need to pass test_y and test_X to device\n",
    "#             real_class = torch.argmax(test_y[i]).to(device)\n",
    "#             net_out = net(test_X[i].view(-1, 1, 50, 50).to(device))[0]\n",
    "#             predicted_class = torch.argmax(net_out)\n",
    "#             if predicted_class == real_class:\n",
    "#                 correct += 1\n",
    "#             total += 1\n",
    "#     print(\"Accuracy:\", round(correct / total, 3))\n",
    "\n",
    "def test(size=32):\n",
    "    random_start = np.random.randint(len(test_X) - size)\n",
    "    X, y = test_X[random_start: random_start + size], test_y[random_start: random_start + size]\n",
    "    with torch.no_grad():\n",
    "        val_acc, val_loss = fwd_pass(X.view(-1, 1, 50, 50).to(device), y.to(device))\n",
    "    \n",
    "    return val_acc, val_loss"
   ]
  },
  {
   "cell_type": "code",
   "execution_count": 77,
   "metadata": {},
   "outputs": [],
   "source": [
    "def fwd_pass(X, y, train=False):\n",
    "    \n",
    "    if train:\n",
    "        net.zero_grad()\n",
    "        \n",
    "    outputs = net(X)\n",
    "    # take the argmax of each comparable entry for outputted values vs original batch\n",
    "    # if match, the ouputtted value is correct\n",
    "    matches = [torch.argmax(i) == torch.argmax(j) for i, j in zip(outputs, y)]\n",
    "    acc = matches.count(True) / len(matches)\n",
    "    loss = loss_function(outputs, y)\n",
    "    \n",
    "    if train:\n",
    "        loss.backward()\n",
    "        optimizer.step()\n",
    "        \n",
    "    return acc, loss"
   ]
  },
  {
   "cell_type": "markdown",
   "metadata": {},
   "source": [
    "### Plotting accuracy loss graph over training time"
   ]
  },
  {
   "cell_type": "code",
   "execution_count": 78,
   "metadata": {},
   "outputs": [],
   "source": [
    "def create_acc_loss_graph(model_name):\n",
    "    contents = open(\"model.log\", \"r\").read().split(\"\\n\")\n",
    "    \n",
    "    times = []\n",
    "    accuracies = []\n",
    "    losses = []\n",
    "    \n",
    "    for c in contents:\n",
    "        if model_name in c:\n",
    "            name, timestamp, sample_type, acc, loss = c.split(\",\")\n",
    "            \n",
    "            times.append(timestamp)\n",
    "            accuracies.append(acc)\n",
    "            losses.append(loss)\n",
    "            \n",
    "    fig = plt.figure()\n",
    "    \n",
    "    ax1 = plt.subplot2grid((2, 1), (0, 0))\n",
    "    ax2 = plt.subplot2grid((2, 1), (1, 0), sharex=ax1)\n",
    "    \n",
    "    ax1.plot(times, accuracies, label='in_samp_acc')\n",
    "    ax1.legend(loc=2)\n",
    "    ax2.plot(times, losses, label=\"in_samp_loss\")\n",
    "    ax2.legend(loc=2)\n",
    "    plt.show()"
   ]
  },
  {
   "cell_type": "code",
   "execution_count": 79,
   "metadata": {},
   "outputs": [
    {
     "data": {
      "application/vnd.jupyter.widget-view+json": {
       "model_id": "dceacdbb30e949eca4eed2268ed14eaf",
       "version_major": 2,
       "version_minor": 0
      },
      "text/plain": [
       "HBox(children=(FloatProgress(value=0.0, max=1.0), HTML(value='')))"
      ]
     },
     "metadata": {},
     "output_type": "display_data"
    },
    {
     "data": {
      "application/vnd.jupyter.widget-view+json": {
       "model_id": "8eaf766cce134930bc229e2fcd344c36",
       "version_major": 2,
       "version_minor": 0
      },
      "text/plain": [
       "HBox(children=(FloatProgress(value=0.0, max=225.0), HTML(value='')))"
      ]
     },
     "metadata": {},
     "output_type": "display_data"
    },
    {
     "name": "stdout",
     "output_type": "stream",
     "text": [
      "\n"
     ]
    },
    {
     "ename": "TypeError",
     "evalue": "unsupported operand type(s) for -: 'int' and 'Net'",
     "output_type": "error",
     "traceback": [
      "\u001b[1;31m---------------------------------------------------------------------------\u001b[0m",
      "\u001b[1;31mTypeError\u001b[0m                                 Traceback (most recent call last)",
      "\u001b[1;32m<ipython-input-79-f94180b75fd0>\u001b[0m in \u001b[0;36m<module>\u001b[1;34m\u001b[0m\n\u001b[0;32m      1\u001b[0m \u001b[0mtrain\u001b[0m\u001b[1;33m(\u001b[0m\u001b[0mnet\u001b[0m\u001b[1;33m)\u001b[0m\u001b[1;33m\u001b[0m\u001b[1;33m\u001b[0m\u001b[0m\n\u001b[1;32m----> 2\u001b[1;33m \u001b[0mtest\u001b[0m\u001b[1;33m(\u001b[0m\u001b[0mnet\u001b[0m\u001b[1;33m)\u001b[0m\u001b[1;33m\u001b[0m\u001b[1;33m\u001b[0m\u001b[0m\n\u001b[0m\u001b[0;32m      3\u001b[0m \u001b[0mcreate_acc_loss_graph\u001b[0m\u001b[1;33m(\u001b[0m\u001b[0mmodel_name\u001b[0m\u001b[1;33m)\u001b[0m\u001b[1;33m\u001b[0m\u001b[1;33m\u001b[0m\u001b[0m\n",
      "\u001b[1;32m<ipython-input-76-a203495ddf58>\u001b[0m in \u001b[0;36mtest\u001b[1;34m(size)\u001b[0m\n\u001b[0;32m     14\u001b[0m \u001b[1;33m\u001b[0m\u001b[0m\n\u001b[0;32m     15\u001b[0m \u001b[1;32mdef\u001b[0m \u001b[0mtest\u001b[0m\u001b[1;33m(\u001b[0m\u001b[0msize\u001b[0m\u001b[1;33m=\u001b[0m\u001b[1;36m32\u001b[0m\u001b[1;33m)\u001b[0m\u001b[1;33m:\u001b[0m\u001b[1;33m\u001b[0m\u001b[1;33m\u001b[0m\u001b[0m\n\u001b[1;32m---> 16\u001b[1;33m     \u001b[0mrandom_start\u001b[0m \u001b[1;33m=\u001b[0m \u001b[0mnp\u001b[0m\u001b[1;33m.\u001b[0m\u001b[0mrandom\u001b[0m\u001b[1;33m.\u001b[0m\u001b[0mrandint\u001b[0m\u001b[1;33m(\u001b[0m\u001b[0mlen\u001b[0m\u001b[1;33m(\u001b[0m\u001b[0mtest_X\u001b[0m\u001b[1;33m)\u001b[0m \u001b[1;33m-\u001b[0m \u001b[0msize\u001b[0m\u001b[1;33m)\u001b[0m\u001b[1;33m\u001b[0m\u001b[1;33m\u001b[0m\u001b[0m\n\u001b[0m\u001b[0;32m     17\u001b[0m     \u001b[0mX\u001b[0m\u001b[1;33m,\u001b[0m \u001b[0my\u001b[0m \u001b[1;33m=\u001b[0m \u001b[0mtest_X\u001b[0m\u001b[1;33m[\u001b[0m\u001b[0mrandom_start\u001b[0m\u001b[1;33m:\u001b[0m \u001b[0mrandom_start\u001b[0m \u001b[1;33m+\u001b[0m \u001b[0msize\u001b[0m\u001b[1;33m]\u001b[0m\u001b[1;33m,\u001b[0m \u001b[0mtest_y\u001b[0m\u001b[1;33m[\u001b[0m\u001b[0mrandom_start\u001b[0m\u001b[1;33m:\u001b[0m \u001b[0mrandom_start\u001b[0m \u001b[1;33m+\u001b[0m \u001b[0msize\u001b[0m\u001b[1;33m]\u001b[0m\u001b[1;33m\u001b[0m\u001b[1;33m\u001b[0m\u001b[0m\n\u001b[0;32m     18\u001b[0m     \u001b[1;32mwith\u001b[0m \u001b[0mtorch\u001b[0m\u001b[1;33m.\u001b[0m\u001b[0mno_grad\u001b[0m\u001b[1;33m(\u001b[0m\u001b[1;33m)\u001b[0m\u001b[1;33m:\u001b[0m\u001b[1;33m\u001b[0m\u001b[1;33m\u001b[0m\u001b[0m\n",
      "\u001b[1;31mTypeError\u001b[0m: unsupported operand type(s) for -: 'int' and 'Net'"
     ]
    }
   ],
   "source": [
    "train(net)\n",
    "test(net)\n",
    "create_acc_loss_graph(model_name)"
   ]
  }
 ],
 "metadata": {
  "kernelspec": {
   "display_name": "Python 3",
   "language": "python",
   "name": "python3"
  },
  "language_info": {
   "codemirror_mode": {
    "name": "ipython",
    "version": 3
   },
   "file_extension": ".py",
   "mimetype": "text/x-python",
   "name": "python",
   "nbconvert_exporter": "python",
   "pygments_lexer": "ipython3",
   "version": "3.7.6"
  }
 },
 "nbformat": 4,
 "nbformat_minor": 4
}
