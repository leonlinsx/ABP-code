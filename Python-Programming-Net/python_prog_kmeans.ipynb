{
 "cells": [
  {
   "cell_type": "markdown",
   "metadata": {},
   "source": [
    "### Imports and handling non-numeric data"
   ]
  },
  {
   "cell_type": "code",
   "execution_count": 1,
   "metadata": {},
   "outputs": [
    {
     "name": "stdout",
     "output_type": "stream",
     "text": [
      "   pclass  survived  sex      age  sibsp  parch  ticket      fare  cabin  \\\n",
      "0       1         1    0  29.0000      0      0     741  211.3375    158   \n",
      "1       1         1    1   0.9167      1      2     496  151.5500     76   \n",
      "2       1         0    0   2.0000      1      2     496  151.5500     76   \n",
      "3       1         0    1  30.0000      1      2     496  151.5500     76   \n",
      "4       1         0    0  25.0000      1      2     496  151.5500     76   \n",
      "\n",
      "   embarked  boat  home.dest  \n",
      "0         0     2         47  \n",
      "1         0    23        306  \n",
      "2         0     0        306  \n",
      "3         0     0        306  \n",
      "4         0     0        306  \n"
     ]
    }
   ],
   "source": [
    "# https://pythonprogramming.net/static/downloads/machine-learning-data/titanic.xls\n",
    "import matplotlib.pyplot as plt\n",
    "from matplotlib import style\n",
    "style.use('ggplot')\n",
    "import numpy as np\n",
    "from sklearn.cluster import KMeans\n",
    "from sklearn import preprocessing, model_selection\n",
    "import pandas as pd\n",
    "\n",
    "'''\n",
    "Features of titanic.xls dataset. Want to predict survival based on the other features\n",
    "Pclass Passenger Class (1 = 1st; 2 = 2nd; 3 = 3rd)\n",
    "survival Survival (0 = No; 1 = Yes)\n",
    "name Name\n",
    "sex Sex\n",
    "age Age\n",
    "sibsp Number of Siblings/Spouses Aboard\n",
    "parch Number of Parents/Children Aboard\n",
    "ticket Ticket Number\n",
    "fare Passenger Fare (British pound)\n",
    "cabin Cabin\n",
    "embarked Port of Embarkation (C = Cherbourg; Q = Queenstown; S = Southampton)\n",
    "boat Lifeboat\n",
    "body Body Identification Number\n",
    "home.dest Home/Destination\n",
    "'''\n",
    "\n",
    "df = pd.read_excel('titanic.xls')\n",
    "# print(df.head())\n",
    "df.drop(['body', 'name'], 1, inplace=True)  # body id number might only be applicable for dead, so remove since predicting death\n",
    "df.apply(pd.to_numeric, errors='ignore')\n",
    "df.fillna(0, inplace=True)\n",
    "# print(df.head())\n",
    "\n",
    "# python_prog's way of encoding categorial to numerical\n",
    "# don't use, better to do one hot encoding instead since this way of changing to nums will imply a distance between the vars\n",
    "def handle_non_numerical_data(df):\n",
    "    columns = df.columns.values  # get col labels\n",
    "    \n",
    "    for column in columns:\n",
    "        text_digit_vals = {}\n",
    "        \n",
    "        # based on the dictionary defined below, return the value from the key\n",
    "        def convert_to_int(val):\n",
    "            return text_digit_vals[val]\n",
    "        \n",
    "        # if type is not numeric, want to convert it\n",
    "        if df[column].dtype != np.int64 and df[column].dtype != np.float64:\n",
    "            column_contents = df[column].values.tolist()\n",
    "            unique_elements = set(column_contents)\n",
    "            x = 0\n",
    "            for unique in unique_elements:\n",
    "                # grow a dictionary\n",
    "                # if the value is not already in our growing dictionary, add it to dict with a growing num\n",
    "                # e.g. female: 0, male: 1, other: 2\n",
    "                if unique not in text_digit_vals:\n",
    "                    text_digit_vals[unique] = x\n",
    "                    x += 1\n",
    "            df[column] = list(map(convert_to_int, df[column]))\n",
    "            \n",
    "    return df\n",
    "\n",
    "df = handle_non_numerical_data(df)\n",
    "print(df.head())"
   ]
  },
  {
   "cell_type": "markdown",
   "metadata": {},
   "source": [
    "### Run K Means on dataset"
   ]
  },
  {
   "cell_type": "code",
   "execution_count": 7,
   "metadata": {},
   "outputs": [
    {
     "name": "stdout",
     "output_type": "stream",
     "text": [
      "0.7051184110007639\n",
      "[1]\n"
     ]
    }
   ],
   "source": [
    "# drop the survived column (axis=1), and then convert remaining to np array as float\n",
    "# https://www.quora.com/How-is-a-Pandas-DataFrame-different-from-a-2D-NumPy-array\n",
    "X = np.array(df.drop(['survived'], 1).astype(float))\n",
    "X = preprocessing.scale(X)\n",
    "y = np.array(df['survived'])\n",
    "# print(X[:10])\n",
    "# print(y[:10])\n",
    "\n",
    "clf = KMeans(n_clusters=2)\n",
    "clf.fit(X)\n",
    "\n",
    "correct = 0 \n",
    "for i in range(len(X)):\n",
    "    # take the first set of features (pclass, sex, age etc)\n",
    "    predict_me = np.array(X[i].astype(float))\n",
    "    # properly declare the array with two []\n",
    "    predict_me = predict_me.reshape(-1, len(predict_me))\n",
    "    # takes an array, returns what cluster predicted, out of n_clusters\n",
    "    # https://scikit-learn.org/stable/modules/generated/sklearn.cluster.KMeans.html#sklearn.cluster.KMeans.predict\n",
    "    # the cluster number assigned is random, so correct or 1 - correct is the right amt\n",
    "    prediction = clf.predict(predict_me)\n",
    "    # seems using prediction w/o [0] would work as well\n",
    "    if prediction[0] == y[i]:\n",
    "        correct += 1\n",
    "\n",
    "print(correct / len(X))\n",
    "\n",
    "# test_prediction on a sample datapoint. Has to be rescaled since X was rescaled\n",
    "# still either the test_prediction value or 1 - test_prediction for accuracy\n",
    "test_prediction = clf.predict([[-1.54609786, -1.34499549, 0.29131302, -0.47908676, -0.4449995, 1.02141698, 3.44242751, 3.04022184, -0.63853537, -0.42886555, -0.48546501]])\n",
    "print(test_prediction)"
   ]
  }
 ],
 "metadata": {
  "kernelspec": {
   "display_name": "Python 3",
   "language": "python",
   "name": "python3"
  },
  "language_info": {
   "codemirror_mode": {
    "name": "ipython",
    "version": 3
   },
   "file_extension": ".py",
   "mimetype": "text/x-python",
   "name": "python",
   "nbconvert_exporter": "python",
   "pygments_lexer": "ipython3",
   "version": "3.7.6"
  }
 },
 "nbformat": 4,
 "nbformat_minor": 4
}
