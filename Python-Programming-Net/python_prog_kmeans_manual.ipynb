{
 "cells": [
  {
   "cell_type": "markdown",
   "metadata": {},
   "source": [
    "### Plot sample data for visualisation"
   ]
  },
  {
   "cell_type": "code",
   "execution_count": 12,
   "metadata": {},
   "outputs": [
    {
     "data": {
      "image/png": "[encoded data removed]",
      "text/plain": [
       "<Figure size 432x288 with 1 Axes>"
      ]
     },
     "metadata": {},
     "output_type": "display_data"
    }
   ],
   "source": [
    "import matplotlib.pyplot as plt\n",
    "from matplotlib import style\n",
    "style.use('ggplot')\n",
    "import numpy as np\n",
    "from sklearn.cluster import KMeans\n",
    "\n",
    "X = np.array([[1, 2],\n",
    "             [1.5, 1.8],\n",
    "             [5, 8],\n",
    "             [8, 8],\n",
    "             [1, 0.6],\n",
    "             [9, 11]])\n",
    "\n",
    "plt.scatter(X[:,0], X[:,1], s=150)\n",
    "# plt.show()\n",
    "\n",
    "clf= KMeans(n_clusters=2)\n",
    "clf.fit(X)\n",
    "\n",
    "centroids = clf.cluster_centers_\n",
    "labels = clf.labels_\n",
    "\n",
    "# list of colors to use for plotting\n",
    "colors = [\"g\", \"r\", \"c\", \"b\", \"k\"]\n",
    "\n",
    "for i in range(len(X)):\n",
    "    plt.plot(X[i][0], X[i][1], colors[labels[i]], markersize=25)\n",
    "plt.scatter(centroids[:,0], centroids[:,1], marker='x', s=150, linewidth=5)\n",
    "plt.show()\n",
    "\n",
    "# print(X[:10])"
   ]
  },
  {
   "cell_type": "markdown",
   "metadata": {},
   "source": [
    "### Define K Means class"
   ]
  },
  {
   "cell_type": "code",
   "execution_count": 13,
   "metadata": {},
   "outputs": [],
   "source": [
    "class K_Means:\n",
    "    def __init__(self, k=2, tol=0.001, max_iter=300):  # tol is how much centroid moves each time\n",
    "        self.k = k\n",
    "        self.tol = tol\n",
    "        self.max_iter = max_iter\n",
    "        \n",
    "    def fit(self, data):\n",
    "        \n",
    "        self.centroids = {}\n",
    "        \n",
    "        for i in range(self.k):\n",
    "            np.random.shuffle(data)\n",
    "            self.centroids[i] = data[i]  # first two centroids \"randomly\" chosen from data\n",
    "            \n",
    "        for i in range(self.max_iter):\n",
    "            self.classifications = {}\n",
    "            \n",
    "            for i in range(self.k):\n",
    "                self.classifications[i] = []  # self.class is a dictionary with 0 to k keys. Each key has a list as value\n",
    "            \n",
    "            for featureset in data:\n",
    "                # for every centroid (k number of them) compare the distance of each feature to it\n",
    "                # get a list of these distances, ordered by centroid\n",
    "                distances = [np.linalg.norm(featureset - self.centroids[centroid]) for centroid in self.centroids]\n",
    "                # get the index of the centroid that is shortest distance; this is the feature's assigned centroid\n",
    "                classification = distances.index(min(distances))\n",
    "                # append that index to the dictionary for the kth key/centroid\n",
    "                self.classifications[classification].append(featureset)\n",
    "                \n",
    "            prev_centroids = dict(self.centroids)\n",
    "            \n",
    "            # for 0 to k in the new classification for every featureset\n",
    "            # take average of all the featuresets assigned for that classification\n",
    "            # that average is the coordinates/features of the new centroid, reassign to self.centroids\n",
    "            for classsification in self.classifications:\n",
    "                self.centroids[classification] = np.average(self.classifications[classification], axis=0)\n",
    "                \n",
    "            optimized = True\n",
    "            \n",
    "            for c in self.centroids:\n",
    "                original_centroid = prev_centroids[c]\n",
    "                current_centroid = self.centroids[c]\n",
    "                # if the difference is more than tolerance, not optimized yet\n",
    "                # i.e. the difference between moves is still large\n",
    "                if abs(np.sum((current_centroid - original_centroid) / original_centroid * 100.0)) > self.tol:\n",
    "                    print(np.sum((current_centroid - original_centroid) / original_centroid * 100.0))\n",
    "                    optimized = False\n",
    "            \n",
    "            if optimized:\n",
    "                break\n",
    "    \n",
    "    def predict(self, data):\n",
    "        distances = [np.linalg.norm(data - self.centroids[centroid]) for centroid in self.centroids]\n",
    "        # get the index of the centroid that is shortest distance; this is the feature's assigned centroid\n",
    "        classification = distances.index(min(distances))\n",
    "        return classification"
   ]
  },
  {
   "cell_type": "markdown",
   "metadata": {},
   "source": [
    "### Train, fit, predict"
   ]
  },
  {
   "cell_type": "code",
   "execution_count": 14,
   "metadata": {},
   "outputs": [
    {
     "name": "stdout",
     "output_type": "stream",
     "text": [
      "-36.700336700336706\n"
     ]
    },
    {
     "data": {
      "image/png": "[encoded data removed]",
      "text/plain": [
       "<Figure size 432x288 with 1 Axes>"
      ]
     },
     "metadata": {},
     "output_type": "display_data"
    }
   ],
   "source": [
    "clf = K_Means()\n",
    "clf.fit(X)\n",
    "\n",
    "for centroid in clf.centroids:\n",
    "    plt.scatter(clf.centroids[centroid][0], clf.centroids[centroid][1], marker='o', color='k', s=150, linewidths=5)\n",
    "    \n",
    "for classification in clf.classifications:\n",
    "    color = colors[classification]\n",
    "    for featureset in clf.classifications[classification]:\n",
    "        plt.scatter(featureset[0], featureset[1], marker='x', color=color, s=150, linewidths=5)\n",
    "\n",
    "# plt.show()\n",
    "\n",
    "# predict on new datapoint\n",
    "unknowns = np.array([[1, 3],\n",
    "                     [8, 9],\n",
    "                     [0, 3],\n",
    "                     [5, 4],\n",
    "                     [6, 4],])\n",
    "\n",
    "for unknown in unknowns:\n",
    "    classification = clf.predict(unknown)\n",
    "    plt.scatter(unknown[0], unknown[1], marker=\"*\", color=colors[classification], s=150, linewidths=5)\n",
    "    \n",
    "plt.show()"
   ]
  }
 ],
 "metadata": {
  "kernelspec": {
   "display_name": "Python 3",
   "language": "python",
   "name": "python3"
  },
  "language_info": {
   "codemirror_mode": {
    "name": "ipython",
    "version": 3
   },
   "file_extension": ".py",
   "mimetype": "text/x-python",
   "name": "python",
   "nbconvert_exporter": "python",
   "pygments_lexer": "ipython3",
   "version": "3.7.6"
  }
 },
 "nbformat": 4,
 "nbformat_minor": 4
}
